{
  "cells": [
    {
      "cell_type": "markdown",
      "metadata": {
        "id": "8BGnJOmPCu-R"
      },
      "source": [
        "# **CSE47201 Computer Vision Programming Assignment 1**\n",
        "## Problem 3"
      ]
    },
    {
      "cell_type": "markdown",
      "metadata": {},
      "source": [
        "### Import library"
      ]
    },
    {
      "cell_type": "code",
      "execution_count": 1,
      "metadata": {
        "id": "fEPHryCAJxlB"
      },
      "outputs": [
        {
          "name": "stderr",
          "output_type": "stream",
          "text": [
            "/mnt/d/kurone/UNIST/5thSemester/Computer_Vision/Assignment1/venv/lib/python3.8/site-packages/tqdm/auto.py:22: TqdmWarning: IProgress not found. Please update jupyter and ipywidgets. See https://ipywidgets.readthedocs.io/en/stable/user_install.html\n",
            "  from .autonotebook import tqdm as notebook_tqdm\n"
          ]
        }
      ],
      "source": [
        "import torch\n",
        "import torch.nn as nn\n",
        "import numpy as np\n",
        "import matplotlib.pyplot as plt\n",
        "import math"
      ]
    },
    {
      "cell_type": "markdown",
      "metadata": {},
      "source": [
        "### Lock and Hack definitation"
      ]
    },
    {
      "cell_type": "code",
      "execution_count": 2,
      "metadata": {
        "id": "fJS4BGaSJxlV"
      },
      "outputs": [],
      "source": [
        "class DoorLock(nn.Module):\n",
        "    def __init__(self):\n",
        "        super().__init__()\n",
        "        self.f = nn.Sequential(\n",
        "            nn.Linear(100, 1),\n",
        "            nn.Sigmoid()\n",
        "        )\n",
        "        for p in self.f.parameters():\n",
        "            p.requires_grad = False\n",
        "    \n",
        "    def forward(self, x):\n",
        "        y = self.f(x)\n",
        "        if(y > 0.9):\n",
        "            print('Opened!')\n",
        "        return y"
      ]
    },
    {
      "cell_type": "code",
      "execution_count": 3,
      "metadata": {
        "id": "ACPW_vOfJxlZ"
      },
      "outputs": [],
      "source": [
        "class DoorHack(nn.Module):\n",
        "    def __init__(self, locker):\n",
        "        super().__init__()\n",
        "        self.number_of_tries = 0\n",
        "        self.g = nn.Sequential(\n",
        "            nn.Linear(100, 100),\n",
        "        )\n",
        "        for p in self.g.parameters():\n",
        "            p.requires_grad = False\n",
        "        self.locker = locker\n",
        "        \n",
        "    def forward(self, z):\n",
        "        y = self.locker(self.g(z))\n",
        "        self.number_of_tries += 1\n",
        "        return y"
      ]
    },
    {
      "cell_type": "markdown",
      "metadata": {},
      "source": [
        "### Create a hacker class"
      ]
    },
    {
      "cell_type": "code",
      "execution_count": null,
      "metadata": {},
      "outputs": [],
      "source": [
        "# Door hacker\n",
        "class Hacker():\n",
        "\n",
        "    # Constructor\n",
        "    # locker=the lock\n",
        "    # num_trials=maximum number of tries\n",
        "    # lr=learning rate\n",
        "    def __init__(self, locker, num_trials=50, lr=1):\n",
        "        # Define a DoorHack instance\n",
        "        self.hacker = DoorHack(locker)\n",
        "\n",
        "        # Define L1 Loss function, i.e., L = |Y_hat - 1|\n",
        "        self.loss_fn = nn.L1Loss()\n",
        "\n",
        "        # Initially, the input z = [0, 0, 0, ..., 0]\n",
        "        self.z = torch.tensor(np.array([0 for i in range(100)]).astype(np.float32), requires_grad=True)\n",
        "\n",
        "        # Highest possible value of output\n",
        "        self.y_true = torch.tensor(np.array([1]).astype(np.float32), requires_grad=True)\n",
        "\n",
        "        # Setting up Hyperparameter\n",
        "        self.NUM_TRIALS = num_trials\n",
        "        self.LEARNING_RATE = lr\n",
        "\n",
        "        # List to store outputs to visualize\n",
        "        self.y_list = []\n",
        "        \n",
        "    # Hacking attempt\n",
        "    def hack(self):\n",
        "        # Tries\n",
        "        for epoch in range(self.NUM_TRIALS):\n",
        "            # Get the output\n",
        "            y = self.hacker(self.z)\n",
        "\n",
        "            # Compute the loss\n",
        "            loss = self.loss_fn(y, self.y_true)\n",
        "\n",
        "            # Backpopagation to compute gradient\n",
        "            loss.backward()\n",
        "\n",
        "            # Modify the input with gradient descent\n",
        "            with torch.no_grad():\n",
        "                self.z -= self.z.grad * self.LEARNING_RATE\n",
        "                self.y_list.append(y.detach().numpy()[0])\n",
        "\n",
        "    # Return the output of DoorLock with input z\n",
        "    def get(self):\n",
        "        with torch.no_grad():\n",
        "            return self.hacker(self.z)\n",
        "    \n",
        "    # Visualize the outputs\n",
        "    def plot(self):\n",
        "        plt.plot(self.y_list)"
      ]
    },
    {
      "cell_type": "markdown",
      "metadata": {},
      "source": [
        "### Start hacking"
      ]
    },
    {
      "cell_type": "code",
      "execution_count": 5,
      "metadata": {},
      "outputs": [
        {
          "name": "stdout",
          "output_type": "stream",
          "text": [
            "Opened!\n",
            "Opened!\n",
            "Opened!\n",
            "Opened!\n",
            "Opened!\n",
            "Opened!\n",
            "Opened!\n",
            "Opened!\n",
            "Opened!\n",
            "Opened!\n",
            "Opened!\n",
            "Opened!\n",
            "Opened!\n",
            "Opened!\n",
            "Opened!\n",
            "Opened!\n",
            "Opened!\n",
            "Opened!\n",
            "Opened!\n",
            "Opened!\n",
            "Opened!\n",
            "Opened!\n",
            "Opened!\n",
            "Opened!\n",
            "Opened!\n",
            "Opened!\n",
            "Opened!\n",
            "Opened!\n",
            "Opened!\n",
            "Opened!\n",
            "Opened!\n",
            "Opened!\n",
            "Opened!\n",
            "Opened!\n",
            "Opened!\n",
            "Opened!\n",
            "Opened!\n"
          ]
        }
      ],
      "source": [
        "hacker = Hacker(DoorLock())\n",
        "hacker.hack()"
      ]
    },
    {
      "cell_type": "markdown",
      "metadata": {},
      "source": [
        "### Visualize the process"
      ]
    },
    {
      "cell_type": "code",
      "execution_count": 6,
      "metadata": {},
      "outputs": [
        {
          "data": {
            "image/png": "[encoded data removed]",
            "text/plain": [
              "<Figure size 640x480 with 1 Axes>"
            ]
          },
          "metadata": {},
          "output_type": "display_data"
        }
      ],
      "source": [
        "hacker.plot()"
      ]
    },
    {
      "cell_type": "markdown",
      "metadata": {},
      "source": [
        "### Experiment with 100000 random DoorLocks"
      ]
    },
    {
      "cell_type": "markdown",
      "metadata": {},
      "source": [
        "#### Redefinition of DoorLock, just remove the print(\"open\")"
      ]
    },
    {
      "cell_type": "code",
      "execution_count": 7,
      "metadata": {
        "id": "fJS4BGaSJxlV"
      },
      "outputs": [],
      "source": [
        "class DoorLock(nn.Module):\n",
        "    def __init__(self):\n",
        "        super().__init__()\n",
        "        self.f = nn.Sequential(\n",
        "            nn.Linear(100, 1),\n",
        "            nn.Sigmoid()\n",
        "        )\n",
        "        for p in self.f.parameters():\n",
        "            p.requires_grad = False\n",
        "    \n",
        "    def forward(self, x):\n",
        "        y = self.f(x)\n",
        "        return y"
      ]
    },
    {
      "cell_type": "markdown",
      "metadata": {},
      "source": [
        "#### Experiment"
      ]
    },
    {
      "cell_type": "code",
      "execution_count": 8,
      "metadata": {},
      "outputs": [
        {
          "name": "stderr",
          "output_type": "stream",
          "text": [
            "100%|██████████| 100000/100000 [19:44<00:00, 84.42it/s]"
          ]
        },
        {
          "name": "stdout",
          "output_type": "stream",
          "text": [
            "Successfuly unlocked 100000 random doors!\n"
          ]
        },
        {
          "name": "stderr",
          "output_type": "stream",
          "text": [
            "\n"
          ]
        }
      ],
      "source": [
        "from tqdm import tqdm\n",
        "\n",
        "# Hack 100000 doors\n",
        "for i in tqdm(range(100000)):\n",
        "    # Create new door and start hacking\n",
        "    hacker = Hacker(DoorLock())\n",
        "    hacker.hack()\n",
        "\n",
        "    # If the hacker fails to open the door, break and report\n",
        "    if hacker.get() <= 0.9:\n",
        "        print(\"You failed to unlock!\")\n",
        "        break\n",
        "else:\n",
        "    print(\"Successfuly unlocked 100000 random doors!\")"
      ]
    }
  ],
  "metadata": {
    "colab": {
      "collapsed_sections": [],
      "provenance": []
    },
    "kernelspec": {
      "display_name": "Python 3.8.10 ('venv': venv)",
      "language": "python",
      "name": "python3"
    },
    "language_info": {
      "codemirror_mode": {
        "name": "ipython",
        "version": 3
      },
      "file_extension": ".py",
      "mimetype": "text/x-python",
      "name": "python",
      "nbconvert_exporter": "python",
      "pygments_lexer": "ipython3",
      "version": "3.8.10"
    },
    "orig_nbformat": 4,
    "vscode": {
      "interpreter": {
        "hash": "a5eac208c289ac6aa2e1846e95b6fb1b91195d4824f85a8cf046840c38f37d45"
      }
    }
  },
  "nbformat": 4,
  "nbformat_minor": 0
}
