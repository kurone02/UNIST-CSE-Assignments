{
  "cells": [
    {
      "cell_type": "markdown",
      "metadata": {
        "id": "8BGnJOmPCu-R"
      },
      "source": [
        "# **CSE47201 Computer Vision Programming Assignment 1**\n",
        "## Problem 1"
      ]
    },
    {
      "cell_type": "markdown",
      "metadata": {
        "id": "AAYfdjyYC8V8"
      },
      "source": [
        "### Mount google drive"
      ]
    },
    {
      "cell_type": "code",
      "execution_count": 1,
      "metadata": {
        "colab": {
          "base_uri": "https://localhost:8080/"
        },
        "id": "m2n6O_QB0iRg",
        "outputId": "9e0fb0e7-7299-47aa-8aa2-cebef345de0d"
      },
      "outputs": [
        {
          "name": "stdout",
          "output_type": "stream",
          "text": [
            "Mounted at /content/drive\n"
          ]
        }
      ],
      "source": [
        "from google.colab import drive\n",
        "drive.mount('/content/drive')"
      ]
    },
    {
      "cell_type": "code",
      "execution_count": 2,
      "metadata": {
        "colab": {
          "base_uri": "https://localhost:8080/"
        },
        "id": "cGIGc6Gt0qjs",
        "outputId": "4964feab-c436-436c-8efb-fd82a3dea73c"
      },
      "outputs": [
        {
          "name": "stdout",
          "output_type": "stream",
          "text": [
            "\u001b[0m\u001b[01;34mdrive\u001b[0m/  \u001b[01;34msample_data\u001b[0m/\n"
          ]
        }
      ],
      "source": [
        "ls"
      ]
    },
    {
      "cell_type": "code",
      "execution_count": 3,
      "metadata": {
        "colab": {
          "base_uri": "https://localhost:8080/"
        },
        "id": "gGTfAwmS0s3Y",
        "outputId": "1e3ab034-77f9-455f-eccd-bd54fef18a07"
      },
      "outputs": [
        {
          "name": "stdout",
          "output_type": "stream",
          "text": [
            "/content/drive/MyDrive\n"
          ]
        }
      ],
      "source": [
        "cd drive/MyDrive/"
      ]
    },
    {
      "cell_type": "code",
      "execution_count": 4,
      "metadata": {
        "id": "ssED97zV0uEr"
      },
      "outputs": [],
      "source": [
        "import cv2\n",
        "import numpy as np\n",
        "from google.colab.patches import cv2_imshow"
      ]
    },
    {
      "cell_type": "code",
      "execution_count": 5,
      "metadata": {
        "colab": {
          "base_uri": "https://localhost:8080/"
        },
        "id": "Yw3dhvCg1enI",
        "outputId": "fbb72d51-f258-433b-d191-e767f619f55e"
      },
      "outputs": [
        {
          "name": "stdout",
          "output_type": "stream",
          "text": [
            "/content/drive/MyDrive/CSE472: Computer Vision/Assignment 1\n"
          ]
        }
      ],
      "source": [
        "cd \"CSE472: Computer Vision\"/\"Assignment 1\""
      ]
    },
    {
      "cell_type": "markdown",
      "metadata": {
        "id": "75M3bMo2DDAo"
      },
      "source": [
        "### Visualizing images"
      ]
    },
    {
      "cell_type": "code",
      "execution_count": 6,
      "metadata": {
        "id": "3BrJPbSRBnRO"
      },
      "outputs": [],
      "source": [
        "# The order of digits in the images folder\n",
        "digits = [7, 4, 3, 8, 9]"
      ]
    },
    {
      "cell_type": "code",
      "execution_count": 7,
      "metadata": {
        "id": "u135Ci7qBoaK"
      },
      "outputs": [],
      "source": [
        "# Function to visualize the imamges\n",
        "# img_id is the id of images, ranging from 1 to 5, coordinate is the position of the digit\n",
        "def visualize_image(img_id, coordinate):\n",
        "    print(f\"image{img_id}:\")\n",
        "    # Read the image\n",
        "    img = cv2.imread(f\"PA1_problem1_images/image{img_id}.png\", cv2.IMREAD_UNCHANGED)\n",
        "    # Only consider the red channel\n",
        "    img = img[:, :, 2]\n",
        "    # Everything above 24 is convert to 255 (maximum possible value)\n",
        "    img[img > 24] = 255\n",
        "    img = img.astype(np.uint8)\n",
        "    # Circle the position\n",
        "    cv2.circle(img, (coordinate[0], coordinate[1]), 50, (255, 255, 255))\n",
        "    # Showing the newly visualized image\n",
        "    cv2_imshow(img)\n",
        "    # Comment of what the digit is\n",
        "    print(f\"The digit is {digits[img_id - 1]}\")"
      ]
    },
    {
      "cell_type": "code",
      "execution_count": 8,
      "metadata": {
        "colab": {
          "base_uri": "https://localhost:8080/",
          "height": 532
        },
        "id": "8w-hgd9I1jVZ",
        "outputId": "19678a09-5879-4b15-a7dd-96546ab6c7ce"
      },
      "outputs": [
        {
          "name": "stdout",
          "output_type": "stream",
          "text": [
            "image1:\n"
          ]
        },
        {
          "data": {
            "image/png": "[encoded data removed]",
            "text/plain": [
              "<PIL.Image.Image image mode=L size=640x480 at 0x7F2656282F90>"
            ]
          },
          "metadata": {},
          "output_type": "display_data"
        },
        {
          "name": "stdout",
          "output_type": "stream",
          "text": [
            "The digit is 7\n"
          ]
        }
      ],
      "source": [
        "visualize_image(1, (230, 290))"
      ]
    },
    {
      "cell_type": "code",
      "execution_count": 9,
      "metadata": {
        "colab": {
          "base_uri": "https://localhost:8080/",
          "height": 532
        },
        "id": "lUNBAOfE9vN_",
        "outputId": "14d2bb37-03f7-44fc-f0c7-813eb84d7d90"
      },
      "outputs": [
        {
          "name": "stdout",
          "output_type": "stream",
          "text": [
            "image2:\n"
          ]
        },
        {
          "data": {
            "image/png": "[encoded data removed]",
            "text/plain": [
              "<PIL.Image.Image image mode=L size=640x480 at 0x7F26636B6F50>"
            ]
          },
          "metadata": {},
          "output_type": "display_data"
        },
        {
          "name": "stdout",
          "output_type": "stream",
          "text": [
            "The digit is 4\n"
          ]
        }
      ],
      "source": [
        "visualize_image(2, (260, 340))"
      ]
    },
    {
      "cell_type": "code",
      "execution_count": 10,
      "metadata": {
        "colab": {
          "base_uri": "https://localhost:8080/",
          "height": 532
        },
        "id": "VqNTNBjyB1iw",
        "outputId": "c92ad450-40f8-4443-c55d-5c3c9ddda858"
      },
      "outputs": [
        {
          "name": "stdout",
          "output_type": "stream",
          "text": [
            "image3:\n"
          ]
        },
        {
          "data": {
            "image/png": "[encoded data removed]",
            "text/plain": [
              "<PIL.Image.Image image mode=L size=640x480 at 0x7F266A705210>"
            ]
          },
          "metadata": {},
          "output_type": "display_data"
        },
        {
          "name": "stdout",
          "output_type": "stream",
          "text": [
            "The digit is 3\n"
          ]
        }
      ],
      "source": [
        "visualize_image(3, (360, 240))"
      ]
    },
    {
      "cell_type": "code",
      "execution_count": 11,
      "metadata": {
        "colab": {
          "base_uri": "https://localhost:8080/",
          "height": 532
        },
        "id": "iCI6LM_0B18R",
        "outputId": "b0542b7e-3d29-426e-fa95-54e125ce67f4"
      },
      "outputs": [
        {
          "name": "stdout",
          "output_type": "stream",
          "text": [
            "image4:\n"
          ]
        },
        {
          "data": {
            "image/png": "[encoded data removed]",
            "text/plain": [
              "<PIL.Image.Image image mode=L size=640x480 at 0x7F265621EF90>"
            ]
          },
          "metadata": {},
          "output_type": "display_data"
        },
        {
          "name": "stdout",
          "output_type": "stream",
          "text": [
            "The digit is 8\n"
          ]
        }
      ],
      "source": [
        "visualize_image(4,  (360, 140))"
      ]
    },
    {
      "cell_type": "code",
      "execution_count": 12,
      "metadata": {
        "colab": {
          "base_uri": "https://localhost:8080/",
          "height": 532
        },
        "id": "QSGRzJvZB2e7",
        "outputId": "ee26f346-aa87-4a1b-86f9-46babd42c4b8"
      },
      "outputs": [
        {
          "name": "stdout",
          "output_type": "stream",
          "text": [
            "image5:\n"
          ]
        },
        {
          "data": {
            "image/png": "[encoded data removed]",
            "text/plain": [
              "<PIL.Image.Image image mode=L size=640x480 at 0x7F2668A175D0>"
            ]
          },
          "metadata": {},
          "output_type": "display_data"
        },
        {
          "name": "stdout",
          "output_type": "stream",
          "text": [
            "The digit is 9\n"
          ]
        }
      ],
      "source": [
        "visualize_image(5,  (240, 230))"
      ]
    },
    {
      "cell_type": "code",
      "execution_count": 12,
      "metadata": {
        "id": "rSCspSb2B3DO"
      },
      "outputs": [],
      "source": []
    }
  ],
  "metadata": {
    "colab": {
      "collapsed_sections": [],
      "provenance": []
    },
    "kernelspec": {
      "display_name": "Python 3.8.10 ('venv': venv)",
      "language": "python",
      "name": "python3"
    },
    "language_info": {
      "name": "python",
      "version": "3.8.10"
    },
    "vscode": {
      "interpreter": {
        "hash": "a5eac208c289ac6aa2e1846e95b6fb1b91195d4824f85a8cf046840c38f37d45"
      }
    }
  },
  "nbformat": 4,
  "nbformat_minor": 0
}
