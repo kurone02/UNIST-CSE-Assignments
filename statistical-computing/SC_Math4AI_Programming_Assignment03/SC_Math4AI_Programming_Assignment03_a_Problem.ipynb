{
 "cells": [
  {
   "cell_type": "markdown",
   "metadata": {
    "id": "LLw2yD1hJFoL"
   },
   "source": [
    "**Solve problems below, and download .ipynb file with “File>Download .ipynb” menu.**\n",
    "\n",
    "\n",
    "\n",
    "*   The name of the ipynb file should be: Programming03_a_StudentID_Name.ipynb<br/>\n",
    "ex) Programming03_a_20225432_YeongjinKo.ipynb\n",
    "*   Submission Deadline : 2024/06/06 11:59pm (23:59) \n",
    "\n",
    "\n",
    "\n",
    "BlackBoard submission should be completed before the deadline. <br/>\n",
    "If it's late less than 24 hours, you will get 50% of your score. If it's late more than 1 day, you will get 0% of your score."
   ]
  },
  {
   "cell_type": "code",
   "execution_count": null,
   "metadata": {
    "id": "n4ZnP85TJAu9"
   },
   "outputs": [],
   "source": [
    "import warnings\n",
    "warnings.filterwarnings('ignore')"
   ]
  },
  {
   "cell_type": "markdown",
   "metadata": {
    "id": "9faw9g2UTPhR"
   },
   "source": [
    "# Problem 1. Multiple Linear Regression"
   ]
  },
  {
   "cell_type": "markdown",
   "metadata": {
    "id": "3QoeHGHrTtQI"
   },
   "source": [
    "In this problem, you will import the **white.csv** data which contains variables related to white wine such as quality of wine, acidity of wine, etc.\n",
    "\n",
    "The goal is to perform linear regression with the quality of wine as $Y$ and all the other variables as $X$."
   ]
  },
  {
   "cell_type": "code",
   "execution_count": 1,
   "metadata": {
    "id": "llb5S-85TrUL"
   },
   "outputs": [],
   "source": [
    "## Do not modify !!\n",
    "\n",
    "import numpy as np\n",
    "import pandas as pd\n",
    "\n",
    "whitedata = pd.read_csv(\"white.csv\")   # dataframe\n",
    "whitedata.head()\n",
    "\n",
    "whitedata = whitedata.dropna(axis=0)\n",
    "\n",
    "X = np.array(whitedata.drop([\"quality\"],axis=1)) \n",
    "y = np.array(whitedata[\"quality\"])\n",
    "\n",
    "Xnew=np.hstack([np.ones(len(X)).reshape(len(X),1),X]) # adding a vector filled with 1 to the X matrix"
   ]
  },
  {
   "cell_type": "code",
   "execution_count": 2,
   "metadata": {
    "colab": {
     "base_uri": "https://localhost:8080/"
    },
    "id": "PvhcBkMS90ph",
    "outputId": "172467a7-71d8-4bb7-b78d-c5246ff4f661"
   },
   "outputs": [
    {
     "data": {
      "text/plain": [
       "((4898, 12), (4898,))"
      ]
     },
     "execution_count": 2,
     "metadata": {},
     "output_type": "execute_result"
    }
   ],
   "source": [
    "Xnew.shape, y.shape"
   ]
  },
  {
   "cell_type": "markdown",
   "metadata": {
    "id": "gthyj_e5TlGQ"
   },
   "source": [
    "## Problem 1-1. \n",
    "To obtain the least squares estimate of the regression coefficient $\\beta$ using QR decomposition, implement **QRdecompose** function which takes Xnew and Y as intputs and returns $R_1$ and $(Q^TY)_1$ matrices as outputs.\n",
    "\n",
    "![img](https://user-images.githubusercontent.com/3272331/203604349-4358c427-d216-4560-94b6-a5a8b1591388.PNG)\n"
   ]
  },
  {
   "cell_type": "code",
   "execution_count": null,
   "metadata": {
    "id": "rWQ64ZzUTR_0"
   },
   "outputs": [],
   "source": [
    "def QRdecompose(Xnew, y):\n",
    "    # Write code here\n",
    "\n"
   ]
  },
  {
   "cell_type": "code",
   "execution_count": null,
   "metadata": {
    "colab": {
     "base_uri": "https://localhost:8080/"
    },
    "id": "apiiK4TH9LSW",
    "outputId": "e0ab5cf5-d920-4483-a9b5-ebca0dca6510"
   },
   "outputs": [
    {
     "data": {
      "text/plain": [
       "array([-6.33333333, -2.66666667,  -1.66666667])"
      ]
     },
     "execution_count": 26,
     "metadata": {},
     "output_type": "execute_result"
    }
   ],
   "source": [
    "# Do not Modify!\n",
    "\n",
    "A = np.array([[2, -2, 18], [2,1,0], [1,2,0]])\n",
    "u = [3,4,5]\n",
    "R1, QTY_1 = QRdecompose(A, u)\n",
    "QTY_1"
   ]
  },
  {
   "cell_type": "code",
   "execution_count": null,
   "metadata": {
    "colab": {
     "base_uri": "https://localhost:8080/"
    },
    "id": "08fzh16eXm_U",
    "outputId": "c2df1280-01cc-4660-b494-78e60df3540f"
   },
   "outputs": [
    {
     "name": "stdout",
     "output_type": "stream",
     "text": [
      "[[-6.99900e+01 -4.79740e+02 -1.94700e+01 -2.33900e+01 -4.47310e+02\n",
      "  -3.20000e+00 -2.47106e+03 -9.68327e+03 -6.95700e+01 -2.23130e+02\n",
      "  -3.42800e+01 -7.35850e+02]\n",
      " [ 0.00000e+00  5.90500e+01 -1.60000e-01  2.45000e+00  3.16000e+01\n",
      "   4.00000e-02 -5.87900e+01  2.70840e+02  6.00000e-02 -4.50000e+00\n",
      "  -1.40000e-01 -1.04100e+01]\n",
      " [ 0.00000e+00  0.00000e+00 -7.05000e+00  1.21000e+00 -2.35400e+01\n",
      "  -1.10000e-01  1.16820e+02 -2.71670e+02 -1.00000e-02  4.40000e-01\n",
      "   2.90000e-01 -5.60000e+00]\n",
      " [ 0.00000e+00  0.00000e+00  0.00000e+00  8.02000e+00  2.92300e+01\n",
      "   1.90000e-01  1.18610e+02  3.38870e+02  2.00000e-02 -5.20000e-01\n",
      "   5.20000e-01 -2.86000e+00]\n",
      " [ 0.00000e+00  0.00000e+00  0.00000e+00  0.00000e+00 -3.51530e+02\n",
      "  -1.10000e-01 -3.62660e+02 -1.13472e+03 -1.70000e-01  1.59000e+00\n",
      "   2.30000e-01  3.83800e+01]\n",
      " [ 0.00000e+00  0.00000e+00  0.00000e+00  0.00000e+00  0.00000e+00\n",
      "  -1.51000e+00 -9.05200e+01 -4.47630e+02 -4.00000e-02  6.50000e-01\n",
      "  -1.10000e-01  2.84200e+01]\n",
      " [ 0.00000e+00  0.00000e+00  0.00000e+00  0.00000e+00  0.00000e+00\n",
      "   0.00000e+00  1.11603e+03  1.55366e+03  1.00000e-02  3.40000e-01\n",
      "   4.80000e-01 -7.85000e+00]\n",
      " [ 0.00000e+00  0.00000e+00  0.00000e+00  0.00000e+00  0.00000e+00\n",
      "   0.00000e+00  0.00000e+00  2.16347e+03  4.00000e-02  1.46000e+00\n",
      "   1.20000e+00 -2.04400e+01]\n",
      " [ 0.00000e+00  0.00000e+00  0.00000e+00  0.00000e+00  0.00000e+00\n",
      "   0.00000e+00  0.00000e+00  0.00000e+00 -9.00000e-02 -3.20000e+00\n",
      "  -1.20000e+00  5.47000e+01]\n",
      " [ 0.00000e+00  0.00000e+00  0.00000e+00  0.00000e+00  0.00000e+00\n",
      "   0.00000e+00  0.00000e+00  0.00000e+00  0.00000e+00 -8.69000e+00\n",
      "  -7.70000e-01 -2.21600e+01]\n",
      " [ 0.00000e+00  0.00000e+00  0.00000e+00  0.00000e+00  0.00000e+00\n",
      "   0.00000e+00  0.00000e+00  0.00000e+00  0.00000e+00  0.00000e+00\n",
      "  -7.72000e+00 -7.89000e+00]\n",
      " [ 0.00000e+00  0.00000e+00  0.00000e+00  0.00000e+00  0.00000e+00\n",
      "   0.00000e+00  0.00000e+00  0.00000e+00  0.00000e+00  0.00000e+00\n",
      "   0.00000e+00  3.10200e+01]]\n"
     ]
    }
   ],
   "source": [
    "# Do Not Modify!\n",
    "R_1,QTY_1=QRdecompose(Xnew,y)\n",
    "print(np.round(R_1,2))"
   ]
  },
  {
   "cell_type": "markdown",
   "metadata": {
    "id": "DF8a3-YXzpQa"
   },
   "source": [
    "## Problem 1-2.\n",
    "\n",
    "Use the $R_1$ and $(Q^TY)_1$ matrices to get the least-squares estimate $\\hat{\\beta}$ "
   ]
  },
  {
   "cell_type": "code",
   "execution_count": null,
   "metadata": {
    "colab": {
     "base_uri": "https://localhost:8080/"
    },
    "id": "B8W-HHE3-cN5",
    "outputId": "3254a4e5-3312-44d2-dc05-2e0c8b231900"
   },
   "outputs": [
    {
     "name": "stdout",
     "output_type": "stream",
     "text": [
      "[ 1.50192842e+02  6.55199613e-02 -1.86317709e+00  2.20902007e-02\n",
      "  8.14828026e-02 -2.47276537e-01  3.73276519e-03 -2.85747419e-04\n",
      " -1.50284181e+02  6.86343742e-01  6.31476473e-01  1.93475697e-01]\n"
     ]
    }
   ],
   "source": [
    "# Write code here\n",
    "\n",
    "beta=\n",
    "\n",
    "print(beta)"
   ]
  },
  {
   "cell_type": "code",
   "execution_count": null,
   "metadata": {
    "colab": {
     "base_uri": "https://localhost:8080/"
    },
    "id": "v9tbqjFAzztt",
    "outputId": "9009d60b-6158-4f4e-aa20-7571cd42d169"
   },
   "outputs": [
    {
     "name": "stdout",
     "output_type": "stream",
     "text": [
      "150.19284247457978 [ 6.55199613e-02 -1.86317709e+00  2.20902007e-02  8.14828026e-02\n",
      " -2.47276537e-01  3.73276519e-03 -2.85747419e-04 -1.50284181e+02\n",
      "  6.86343742e-01  6.31476473e-01  1.93475697e-01]\n"
     ]
    }
   ],
   "source": [
    "# Do not modify!\n",
    "# Compare with results of scikit-learn package.\n",
    "from sklearn.linear_model import LinearRegression\n",
    "lr = LinearRegression()\n",
    "lr.fit(Xnew, y)\n",
    "print(lr.intercept_,lr.coef_[1:])"
   ]
  },
  {
   "cell_type": "markdown",
   "metadata": {
    "id": "CryXyJ820gk9"
   },
   "source": [
    "## Problem 1-3.\n",
    "\n",
    "Implement **variance_of_beta** function that calculates $Var[\\hat{\\beta}]$.Do not use $\\texttt{numpy.linalg.inv}$, $\\texttt{scipy.linalg.inv}$ or any other built-in function computing inverses.\n",
    "\n",
    "* Input : $X_{new}, \\sigma^2$\n",
    "* Output : $Var[\\hat\\beta]$\n",
    "<br/><br/>\n",
    "* Hint : $Var[\\hat\\beta] = \\sigma^2[(X^TX)]^{-1}$, Since we don't know $\\sigma^2$, we assume that $\\sigma^2 = \\hat{\\sigma^2}$\n",
    "\n"
   ]
  },
  {
   "cell_type": "code",
   "execution_count": null,
   "metadata": {
    "id": "taCYdiOe0OIr"
   },
   "outputs": [],
   "source": [
    "# Write code here\n",
    "\n",
    "sigma_square = "
   ]
  },
  {
   "cell_type": "code",
   "execution_count": null,
   "metadata": {
    "id": "EIbqrO8nAu1t"
   },
   "outputs": [],
   "source": [
    "def variance_of_beta(Xnew, sigma_square):\n",
    "    # Write code here\n"
   ]
  },
  {
   "cell_type": "code",
   "execution_count": null,
   "metadata": {
    "colab": {
     "base_uri": "https://localhost:8080/"
    },
    "id": "2DAuNph9BRvG",
    "outputId": "55dcd4a8-6bdf-457e-80f4-41b22ee6a2cd"
   },
   "outputs": [
    {
     "name": "stdout",
     "output_type": "stream",
     "text": [
      "Variance of beta_fixed_acidity is 0.00043570958262422637\n",
      "Variance of beta_volatile_acidity is 0.012948916639073422\n",
      "Variance of beta_citric_acid is 0.00917182206107182\n",
      "Variance of beta_residual_sugar is 5.6660541476043646e-05\n",
      "Variance of beta_chlorides is 0.29870843305649275\n",
      "Variance of beta_free_sulfur_dioxide is 7.125878764737496e-07\n",
      "Variance of beta_total_sulfur_dioxide is 1.4293001368192576e-07\n",
      "Variance of beta_density is 363.83685658878846\n",
      "Variance of beta_pH is 0.011104755020247254\n",
      "Variance of beta_sulphates is 0.010077271589002344\n",
      "Variance of beta_alcohol is 0.0005866742219162764\n"
     ]
    }
   ],
   "source": [
    "## Do not modify\n",
    "\n",
    "var_beta = variance_of_beta(Xnew, sigma_square)\n",
    "for i, feature in enumerate(whitedata.columns[:11]):\n",
    "    print(f'Variance of beta_{feature} is {var_beta[i+1,i+1]}')"
   ]
  },
  {
   "cell_type": "markdown",
   "metadata": {
    "id": "452lJ0vND5QR"
   },
   "source": [
    "## Problem 1-4 (Testing)\n",
    "\n",
    "Suppose we test <br/>\n",
    "\n",
    "$H_0 : \\beta_i = 0$   vs   $H_1 : \\beta_i \\neq 0 $\n",
    "\n",
    "This test measures the contribution of a variable while the remaining variables are included in the model.\n",
    "<br/>\n",
    "\n",
    "Implement **significance_of_variable** functions that indicates whether each variable is significant or not for linear regression model.\n",
    "\n",
    "In this problem, You need to use results of Problem 1-2, 1-3.\n",
    "\n",
    "* Input : beta_i($\\hat\\beta_i$), var_beta_i($Var[\\hat\\beta_i]$), significance_level($\\alpha$)\n",
    "* Output : True or False (significant or not)\n",
    "\n",
    "$ $\n",
    "\n",
    "* Hint: assume that $\\sigma^2 = \\hat{\\sigma^2}$.( Use Z-test)"
   ]
  },
  {
   "cell_type": "code",
   "execution_count": null,
   "metadata": {
    "id": "N0UMgfkvKPt_"
   },
   "outputs": [],
   "source": [
    "import scipy.stats as stats"
   ]
  },
  {
   "cell_type": "code",
   "execution_count": null,
   "metadata": {
    "id": "zTqb06DeCbBR"
   },
   "outputs": [],
   "source": [
    "def significance_of_variable(beta_i, var_beta_i, significance_level):\n",
    "    # Write code here\n",
    "    \n",
    "    \n"
   ]
  },
  {
   "cell_type": "code",
   "execution_count": null,
   "metadata": {
    "colab": {
     "base_uri": "https://localhost:8080/"
    },
    "id": "kfHroH-wLjsP",
    "outputId": "88570488-8132-41be-ccaa-8344f6d837cb"
   },
   "outputs": [
    {
     "name": "stdout",
     "output_type": "stream",
     "text": [
      "Is fixed_acidity is significant? True.\n",
      "Is volatile_acidity is significant? True.\n",
      "Is citric_acid is significant? False.\n",
      "Is residual_sugar is significant? True.\n",
      "Is chlorides is significant? False.\n",
      "Is free_sulfur_dioxide is significant? True.\n",
      "Is total_sulfur_dioxide is significant? False.\n",
      "Is density is significant? True.\n",
      "Is pH is significant? True.\n",
      "Is sulphates is significant? True.\n",
      "Is alcohol is significant? True.\n"
     ]
    }
   ],
   "source": [
    "## Do not modify!!\n",
    "for i, feature in enumerate(whitedata.columns[:11]):\n",
    "    beta_i = beta[i+1]\n",
    "    var_beta_i = var_beta[i+1, i+1]\n",
    "    alpha = 0.05\n",
    "    result = significance_of_variable(beta_i, var_beta_i, alpha)\n",
    "    print(f'Is {feature} is significant? {result}.')"
   ]
  },
  {
   "cell_type": "markdown",
   "metadata": {
    "id": "nnmpst8L7eJQ"
   },
   "source": [
    "# Problem 2. Eigenvalue Decomposition"
   ]
  },
  {
   "cell_type": "markdown",
   "metadata": {
    "id": "Y51qeDRh9TSu"
   },
   "source": [
    "## Problem 2-1. \n",
    "Implement **root_quad_eq** function that solves the quadratic polynomial and return the roots of quadratic polynomial equation. (Consider only quadratic polynomials that have real-valued roots.)\n",
    "\n",
    "**In this problem, Do not use $\\texttt{numpy}$, $\\texttt{sympy}$ package.**\n",
    "\n",
    "* Input : coefficients list of quadratic equation. [a, b, c]\n",
    "* Output : roots of quadratic polynomial equation.\n",
    "\n",
    "* Hint: \n",
    "roots of $ax^2+bx+c=0$ is $x = \\dfrac{-b\\pm\\sqrt{b^2-4ac}}{2a}$"
   ]
  },
  {
   "cell_type": "code",
   "execution_count": 4,
   "metadata": {
    "id": "MhfmpOVjNeEC"
   },
   "outputs": [],
   "source": [
    "def root_quad_eq(coef):\n",
    "    # Write code here\n",
    "    \n"
   ]
  },
  {
   "cell_type": "code",
   "execution_count": 5,
   "metadata": {
    "colab": {
     "base_uri": "https://localhost:8080/"
    },
    "id": "Xs0gTBlh-ePy",
    "outputId": "8c37f262-b597-4914-8b2b-96638bfcf8ae"
   },
   "outputs": [
    {
     "name": "stdout",
     "output_type": "stream",
     "text": [
      "The roots of x**2 - 7*x + 10 = 0 are (5.0, 2.0).\n",
      "The roots of 2*x**2 - 5*x + 3 = 0 are (1.5, 1.0).\n"
     ]
    }
   ],
   "source": [
    "## Do not modify!!\n",
    "\n",
    "## equation 1 : x**2 - 7*x + 10 = 0\n",
    "coef1 = [1, -7, 10]\n",
    "print(f'The roots of x**2 - 7*x + 10 = 0 are {root_quad_eq(coef1)}.')\n",
    "\n",
    "## equation 2 : 2*x**2 - 5*x + 3 = 0\n",
    "coef2 = [2, -5, 3]\n",
    "print(f'The roots of 2*x**2 - 5*x + 3 = 0 are {root_quad_eq(coef2)}.')"
   ]
  },
  {
   "cell_type": "markdown",
   "metadata": {
    "id": "AQFMr5_wAyts"
   },
   "source": [
    "## Problem 2-2.\n",
    "\n",
    "Implement **eig_decompose** function that calculate eigenvalue and eigenvectors of 2$\\times$2 matrix $\\mathbf{A}$.\n",
    "\n",
    "**In this Problem, Do not use $\\texttt{numpy.linalg}$, $\\texttt{scipy.linalg}$ packages.**\n",
    "\n",
    "In this Problem, We assume that matrix $\\mathbf{A}$ has 2 different eigenvalues, both real numbers. \n",
    "\n",
    "* Input : square matrix $\\mathbf{A}\\in\\mathbb{R}^{2\\times2}$\n",
    "* Ouput : tuple of eigenvalues of $\\mathbf{A}$, matrix $\\mathbf{V}\\in\\mathbb{R}^{2\\times2}$ that has eigenvectors of $\\mathbf{A}$ as column vectors. \n",
    "\n",
    "\n",
    "* How to Implement\n",
    "1. make the characteristic polynomial equation.  $det(\\mathbf{A} - \\lambda\\mathbf{I}) = 0$\n",
    "2. solve the characteristic polynomial equation by using **root_quad_eq** function in Problem 2-1. Its solutions are eigenvalues of matrix $\\mathbf{A}$\n",
    "3. solve the homogeneous linear system. $(\\mathbf{A} - \\lambda\\mathbf{I})\\mathbf{x} = \\mathbf{0}$, where $\\mathbf{x} = \\begin{bmatrix}\n",
    "x_1 \\\\\n",
    "x_2\n",
    "\\end{bmatrix}$ Hint : You can get ratio between $x_1, x_2$.\n",
    "4. Sort the vectors in descending order of their eigenvalues.\n",
    "5. Normalize all eigenvectors(so that the norm of eigenvector is 1) and make matrix $\\mathbf{V}$ "
   ]
  },
  {
   "cell_type": "code",
   "execution_count": null,
   "metadata": {
    "id": "kjr9bIltIgvc"
   },
   "outputs": [],
   "source": [
    "import numpy as np"
   ]
  },
  {
   "cell_type": "code",
   "execution_count": null,
   "metadata": {
    "id": "WteDod1t_pUK"
   },
   "outputs": [],
   "source": [
    "def eig_decompose(A):\n",
    "    # Write code here\n",
    "    V = np.zeros((2,2))\n",
    "\n",
    "\n",
    "    return eigenvalues, V"
   ]
  },
  {
   "cell_type": "code",
   "execution_count": null,
   "metadata": {
    "colab": {
     "base_uri": "https://localhost:8080/"
    },
    "id": "HliuVW8vASFi",
    "outputId": "e636c4ee-25bc-4dc9-8306-9e77077e9548"
   },
   "outputs": [
    {
     "data": {
      "text/plain": [
       "((4.0, -1.0),\n",
       " array([[ 0.83205029, -0.70710678],\n",
       "        [ 0.5547002 ,  0.70710678]]))"
      ]
     },
     "execution_count": 40,
     "metadata": {},
     "output_type": "execute_result"
    }
   ],
   "source": [
    "# Do not modify!!\n",
    "\n",
    "A = np.array([[2,3], [2,1]])\n",
    "eig_decompose(A)"
   ]
  },
  {
   "cell_type": "code",
   "execution_count": null,
   "metadata": {
    "colab": {
     "base_uri": "https://localhost:8080/"
    },
    "id": "ZPRt0HjCIdzB",
    "outputId": "cf6c3b10-df86-4944-f690-c5326e36bd03"
   },
   "outputs": [
    {
     "data": {
      "text/plain": [
       "((3.0, 1.0),\n",
       " array([[ 0.70710678, -0.70710678],\n",
       "        [ 0.70710678,  0.70710678]]))"
      ]
     },
     "execution_count": 41,
     "metadata": {},
     "output_type": "execute_result"
    }
   ],
   "source": [
    "# Do not modify!!\n",
    "\n",
    "B = np.array([[2, 1], [1, 2]])\n",
    "eig_decompose(B)"
   ]
  },
  {
   "cell_type": "markdown",
   "metadata": {
    "id": "ct8g-QyQPDCG"
   },
   "source": [
    "# Problem 3\n",
    "\n",
    "Principal Component Analysis(PCA)\n"
   ]
  },
  {
   "cell_type": "code",
   "execution_count": 94,
   "metadata": {
    "id": "AOdojhofPDCH"
   },
   "outputs": [],
   "source": [
    "import numpy as np\n",
    "import pandas as pd\n",
    "\n",
    "import matplotlib.pyplot as plt\n",
    "import seaborn as sns\n",
    "\n",
    "## Do not modify !!\n",
    "\n",
    "whitedata = pd.read_csv(\"white.csv\")   # dataframe\n",
    "whitedata.head()\n",
    "\n",
    "whitedata = whitedata.dropna(axis=0)\n",
    "\n",
    "X = np.array(whitedata.drop([\"quality\"],1)) \n",
    "y = np.array(whitedata[\"quality\"])"
   ]
  },
  {
   "cell_type": "markdown",
   "metadata": {},
   "source": [
    "## Problem 3-1\n",
    "\n",
    "Conduct PCA of the wine data using the following steps.\n",
    "\n",
    "1. Compute the sample covariance matrix of $X$."
   ]
  },
  {
   "cell_type": "code",
   "execution_count": 95,
   "metadata": {},
   "outputs": [
    {
     "name": "stdout",
     "output_type": "stream",
     "text": [
      "Sample covariance matrix of X: [[ 7.12113586e-01 -1.93057060e-03  2.95325116e-02  3.81021814e-01\n",
      "   4.25625536e-04 -7.08918642e-01  3.26601339e+00  6.69677256e-04\n",
      "  -5.42648260e-02 -1.65099229e-03 -1.25532822e-01]\n",
      " [-1.93057060e-03  1.01595410e-02 -1.82327755e-03  3.28653337e-02\n",
      "   1.55277486e-04 -1.66300459e-01  3.82353903e-01  8.17393269e-06\n",
      "  -4.85753094e-04 -4.10990231e-04  8.39972309e-03]\n",
      " [ 2.95325116e-02 -1.82327755e-03  1.46457930e-02  5.78289265e-02\n",
      "   3.02383813e-04  1.93629777e-01  6.22988708e-01  5.41137964e-05\n",
      "  -2.99234513e-03  8.60882914e-04 -1.12782389e-02]\n",
      " [ 3.81021814e-01  3.28653337e-02  5.78289265e-02  2.57257702e+01\n",
      "   9.82750206e-03  2.58005779e+01  8.65313030e+01  1.27271653e-02\n",
      "  -1.48683661e-01 -1.54347435e-02 -2.81274033e+00]\n",
      " [ 4.25625536e-04  1.55277486e-04  3.02383813e-04  9.82750206e-03\n",
      "   4.77333710e-04  3.76744976e-02  1.84687489e-01  1.68075352e-05\n",
      "  -2.98364855e-04  4.17968689e-05 -9.68423502e-03]\n",
      " [-7.08918642e-01 -1.66300459e-01  1.93629777e-01  2.58005779e+01\n",
      "   3.76744976e-02  2.89242720e+02  4.44865891e+02  1.49655317e-02\n",
      "  -1.58655481e-03  1.14937934e-01 -5.23450867e+00]\n",
      " [ 3.26601339e+00  3.82353903e-01  6.22988708e-01  8.65313030e+01\n",
      "   1.84687489e-01  4.44865891e+02  1.80608549e+03  6.73520256e-02\n",
      "   1.48942172e-02  6.52644577e-01 -2.34766046e+01]\n",
      " [ 6.69677256e-04  8.17393269e-06  5.41137964e-05  1.27271653e-02\n",
      "   1.68075352e-05  1.49655317e-02  6.73520256e-02  8.94552419e-06\n",
      "  -4.22686081e-05  2.54274724e-05 -2.87143036e-03]\n",
      " [-5.42648260e-02 -4.85753094e-04 -2.99234513e-03 -1.48683661e-01\n",
      "  -2.98364855e-04 -1.58655481e-03  1.48942172e-02 -4.22686081e-05\n",
      "   2.28011811e-02  2.68752297e-03  2.25650522e-02]\n",
      " [-1.65099229e-03 -4.10990231e-04  8.60882914e-04 -1.54347435e-02\n",
      "   4.17968689e-05  1.14937934e-01  6.52644577e-01  2.54274724e-05\n",
      "   2.68752297e-03  1.30247060e-02 -2.44835608e-03]\n",
      " [-1.25532822e-01  8.39972309e-03 -1.12782389e-02 -2.81274033e+00\n",
      "  -9.68423502e-03 -5.23450867e+00 -2.34766046e+01 -2.87143036e-03\n",
      "   2.25650522e-02 -2.44835608e-03  1.51442698e+00]]\n"
     ]
    }
   ],
   "source": [
    "# Write code here\n",
    "\n",
    "\n",
    "\n",
    "\n",
    "Scov= \n",
    "\n",
    "\n",
    "print('Sample covariance matrix of X:', Scov)"
   ]
  },
  {
   "cell_type": "markdown",
   "metadata": {},
   "source": [
    "2. Standardize each column of $X$ by subtracting the sample mean and dividing by the sample standard deviation. Set the resulting matrix as **X_s**"
   ]
  },
  {
   "cell_type": "code",
   "execution_count": 96,
   "metadata": {},
   "outputs": [
    {
     "name": "stdout",
     "output_type": "stream",
     "text": [
      "[[ 1.72079392e-01 -8.17615531e-02  2.13258429e-01 ... -1.24679399e+00\n",
      "  -3.49148610e-01 -1.39301024e+00]\n",
      " [-6.57434005e-01  2.15873592e-01  4.79962210e-02 ...  7.39953092e-01\n",
      "   1.34170957e-03 -8.24191529e-01]\n",
      " [ 1.47560044e+00  1.74501618e-02  5.43782844e-01 ...  4.75053481e-01\n",
      "  -4.36771190e-01 -3.36632638e-01]\n",
      " ...\n",
      " [-4.20430177e-01 -3.79396698e-01 -1.19147034e+00 ... -1.31301889e+00\n",
      "  -2.61526030e-01 -9.05451345e-01]\n",
      " [-1.60544932e+00  1.16661877e-01 -2.82528194e-01 ...  1.00485270e+00\n",
      "  -9.62506669e-01  1.85738237e+00]\n",
      " [-1.01293975e+00 -6.77031842e-01  3.78520636e-01 ...  4.75053481e-01\n",
      "  -1.48824215e+00  1.04478422e+00]]\n"
     ]
    }
   ],
   "source": [
    "# Write code here\n",
    "\n",
    "\n",
    "\n",
    "X_s=\n",
    "\n",
    "print(X_s)"
   ]
  },
  {
   "cell_type": "markdown",
   "metadata": {},
   "source": [
    "3. Compute the Sample covariance matrix of **X_s**"
   ]
  },
  {
   "cell_type": "code",
   "execution_count": 97,
   "metadata": {},
   "outputs": [
    {
     "name": "stdout",
     "output_type": "stream",
     "text": [
      "[[ 1.00000000e+00 -2.26972901e-02  2.89180698e-01  8.90207014e-02\n",
      "   2.30856437e-02 -4.93958591e-02  9.10697562e-02  2.65331014e-01\n",
      "  -4.25858291e-01 -1.71429850e-02 -1.20881123e-01]\n",
      " [-2.26972901e-02  1.00000000e+00 -1.49471811e-01  6.42860601e-02\n",
      "   7.05115715e-02 -9.70119393e-02  8.92605036e-02  2.71138455e-02\n",
      "  -3.19153683e-02 -3.57281469e-02  6.77179428e-02]\n",
      " [ 2.89180698e-01 -1.49471811e-01  1.00000000e+00  9.42116243e-02\n",
      "   1.14364448e-01  9.40772210e-02  1.21130798e-01  1.49502571e-01\n",
      "  -1.63748211e-01  6.23309403e-02 -7.57287301e-02]\n",
      " [ 8.90207014e-02  6.42860601e-02  9.42116243e-02  1.00000000e+00\n",
      "   8.86845359e-02  2.99098354e-01  4.01439311e-01  8.38966455e-01\n",
      "  -1.94133454e-01 -2.66643659e-02 -4.50631222e-01]\n",
      " [ 2.30856437e-02  7.05115715e-02  1.14364448e-01  8.86845359e-02\n",
      "   1.00000000e+00  1.01392352e-01  1.98910300e-01  2.57211320e-01\n",
      "  -9.04394560e-02  1.67628837e-02 -3.60188712e-01]\n",
      " [-4.93958591e-02 -9.70119393e-02  9.40772210e-02  2.99098354e-01\n",
      "   1.01392352e-01  1.00000000e+00  6.15500965e-01  2.94210411e-01\n",
      "  -6.17796140e-04  5.92172458e-02 -2.50103941e-01]\n",
      " [ 9.10697562e-02  8.92605036e-02  1.21130798e-01  4.01439311e-01\n",
      "   1.98910300e-01  6.15500965e-01  1.00000000e+00  5.29881324e-01\n",
      "   2.32097177e-03  1.34562367e-01 -4.48892102e-01]\n",
      " [ 2.65331014e-01  2.71138455e-02  1.49502571e-01  8.38966455e-01\n",
      "   2.57211320e-01  2.94210411e-01  5.29881324e-01  1.00000000e+00\n",
      "  -9.35914935e-02  7.44931485e-02 -7.80137621e-01]\n",
      " [-4.25858291e-01 -3.19153683e-02 -1.63748211e-01 -1.94133454e-01\n",
      "  -9.04394560e-02 -6.17796140e-04  2.32097177e-03 -9.35914935e-02\n",
      "   1.00000000e+00  1.55951497e-01  1.21432099e-01]\n",
      " [-1.71429850e-02 -3.57281469e-02  6.23309403e-02 -2.66643659e-02\n",
      "   1.67628837e-02  5.92172458e-02  1.34562367e-01  7.44931485e-02\n",
      "   1.55951497e-01  1.00000000e+00 -1.74327719e-02]\n",
      " [-1.20881123e-01  6.77179428e-02 -7.57287301e-02 -4.50631222e-01\n",
      "  -3.60188712e-01 -2.50103941e-01 -4.48892102e-01 -7.80137621e-01\n",
      "   1.21432099e-01 -1.74327719e-02  1.00000000e+00]]\n"
     ]
    }
   ],
   "source": [
    "# Write code here\n",
    "\n",
    "\n",
    "\n",
    "SCov_s=\n",
    "\n",
    "\n",
    "print(SCov_s)"
   ]
  },
  {
   "cell_type": "markdown",
   "metadata": {},
   "source": [
    "4. Compute the first two Principal Components of **X_s**. You can use the $\\texttt{numpy.linalg.eig}$ function. Do not use $\\texttt{sklearn.decomposition.PCA}$ or any other built-in function that conducts PCA."
   ]
  },
  {
   "cell_type": "code",
   "execution_count": 98,
   "metadata": {},
   "outputs": [
    {
     "name": "stdout",
     "output_type": "stream",
     "text": [
      "[[ 3.67656813  0.54517763]\n",
      " [-0.64452203 -0.43072597]\n",
      " [ 0.1552747   1.18967847]\n",
      " ...\n",
      " [-0.77965094  0.40843842]\n",
      " [-3.40695367 -0.91565041]\n",
      " [-2.82292329  0.13092527]]\n"
     ]
    }
   ],
   "source": [
    "# Write code here\n",
    "\n",
    "\n",
    "\n",
    "\n",
    "\n",
    "\n",
    "PC_1=      #numpy array\n",
    "PC_2=      #numpy array\n",
    "\n",
    "\n",
    "print(np.array([PC_1, PC_2]).T)"
   ]
  },
  {
   "cell_type": "markdown",
   "metadata": {},
   "source": [
    "Compare the results with the built-in function $\\texttt{sklearn.decomposition.PCA}$.\n",
    "\n",
    "Note: Signs can be opposite with the PCs that you derived."
   ]
  },
  {
   "cell_type": "code",
   "execution_count": 99,
   "metadata": {},
   "outputs": [],
   "source": [
    "#Do not modify !! \n",
    "\n",
    "from sklearn.decomposition import PCA \n",
    "\n",
    "\n",
    "pca = PCA(n_components=2)\n",
    "PCs = pca.fit_transform(X_s)"
   ]
  },
  {
   "cell_type": "code",
   "execution_count": 100,
   "metadata": {},
   "outputs": [
    {
     "data": {
      "text/plain": [
       "array([[ 3.67656813, -0.54517763],\n",
       "       [-0.64452203,  0.43072597],\n",
       "       [ 0.1552747 , -1.18967847],\n",
       "       ...,\n",
       "       [-0.77965094, -0.40843842],\n",
       "       [-3.40695367,  0.91565041],\n",
       "       [-2.82292329, -0.13092527]])"
      ]
     },
     "execution_count": 100,
     "metadata": {},
     "output_type": "execute_result"
    }
   ],
   "source": [
    "PCs "
   ]
  },
  {
   "cell_type": "markdown",
   "metadata": {
    "id": "0aFuwnmIPDCH"
   },
   "source": [
    "## Problem 3-2\n",
    "\n",
    "\n",
    "Draw a scatter plot of the 2 principal components. Color each point according to the \"quality\" of wine using the color dictionary defined below. The keys of the dictionary indicate the quality of wine and the values indicate the color."
   ]
  },
  {
   "cell_type": "code",
   "execution_count": 101,
   "metadata": {
    "id": "Gx9fNsmxPDCI"
   },
   "outputs": [],
   "source": [
    "# predefined dictionary for coloring your scatter plot\n",
    "# DO NOT MODIFY!!\n",
    "\n",
    "color = {\n",
    "    0:\"red\",\n",
    "    1:\"green\",\n",
    "    2:\"blue\",\n",
    "    3:\"yellow\",\n",
    "    4:\"brown\",\n",
    "    5:\"orange\",\n",
    "    6:\"dodgerblue\",\n",
    "    7:\"grey\",\n",
    "    8:\"black\",\n",
    "    9:\"purple\",\n",
    "    10:\"pink\"\n",
    "}"
   ]
  },
  {
   "cell_type": "code",
   "execution_count": 102,
   "metadata": {
    "id": "dFb3eODLPDCI",
    "outputId": "d0e9fcff-7086-4034-effa-d48e216f1fc4"
   },
   "outputs": [
    {
     "data": {
      "text/plain": [
       "Text(0, 0.5, 'PC 2')"
      ]
     },
     "execution_count": 102,
     "metadata": {},
     "output_type": "execute_result"
    },
    {
     "data": {
      "image/png": "[encoded data removed]",
      "text/plain": [
       "<Figure size 432x288 with 1 Axes>"
      ]
     },
     "metadata": {
      "needs_background": "light"
     },
     "output_type": "display_data"
    }
   ],
   "source": [
    "# Plot 2 dimensional scatter plot using different colors for each quailty label \n",
    "# write code here\n",
    "\n",
    "\n",
    "\n",
    "\n",
    "\n",
    "\n"
   ]
  },
  {
   "cell_type": "markdown",
   "metadata": {
    "id": "RN70fIKRPDCK"
   },
   "source": [
    "## Problem 3-3\n",
    "\n",
    "Compute how much percent of the total variance the two Principal components account for."
   ]
  },
  {
   "cell_type": "code",
   "execution_count": null,
   "metadata": {},
   "outputs": [],
   "source": [
    "# Write code here\n",
    "\n",
    "\n",
    "\n",
    "rate=\n",
    "\n",
    "\n",
    "print(f\"The two principal components explain {rate*100}% of the total variance\" )\n",
    "\n",
    "\n",
    "# Output of this code is not provided. "
   ]
  }
 ],
 "metadata": {
  "colab": {
   "provenance": []
  },
  "kernelspec": {
   "display_name": "Python 3 (ipykernel)",
   "language": "python",
   "name": "python3"
  },
  "language_info": {
   "codemirror_mode": {
    "name": "ipython",
    "version": 3
   },
   "file_extension": ".py",
   "mimetype": "text/x-python",
   "name": "python",
   "nbconvert_exporter": "python",
   "pygments_lexer": "ipython3",
   "version": "3.9.13"
  },
  "toc": {
   "base_numbering": 1,
   "nav_menu": {},
   "number_sections": true,
   "sideBar": true,
   "skip_h1_title": false,
   "title_cell": "Table of Contents",
   "title_sidebar": "Contents",
   "toc_cell": false,
   "toc_position": {},
   "toc_section_display": true,
   "toc_window_display": false
  }
 },
 "nbformat": 4,
 "nbformat_minor": 1
}
