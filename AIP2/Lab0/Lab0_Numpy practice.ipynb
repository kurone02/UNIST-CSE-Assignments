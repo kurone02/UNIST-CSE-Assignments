{
  "nbformat": 4,
  "nbformat_minor": 0,
  "metadata": {
    "colab": {
      "name": "NumPy Explanation_practice.ipynb",
      "provenance": []
    },
    "kernelspec": {
      "display_name": "Python 3",
      "language": "python",
      "name": "python3"
    }
  },
  "cells": [
    {
      "cell_type": "markdown",
      "metadata": {
        "id": "OfTs6pPr3vxC"
      },
      "source": [
        "# ITP11701 Introduction to AI Programming II, Spring 2021\n",
        "# Lab session 01: NumPy practice (Mar.12)"
      ]
    },
    {
      "cell_type": "markdown",
      "metadata": {
        "id": "tISBjbDG3vxE"
      },
      "source": [
        "## Goals \n",
        "   In this Lab session, you practice writing Python `NumPy` library. \n",
        "   \n",
        "   Most of the linear algebra compuations can be done by functions in Numpy library with a very simple and efficient manner."
      ]
    },
    {
      "cell_type": "markdown",
      "metadata": {
        "id": "5g782FkM3vxG"
      },
      "source": [
        "Today's Issues:\n",
        "  1. Why NumPy and Not Python lists\n",
        "  2. How to create NumPy Arrays\n",
        "  3. Create N-Dimensional Array\n",
        "  4. Mathematical Operations and Array Calculations "
      ]
    },
    {
      "cell_type": "markdown",
      "metadata": {
        "id": "OcTPhhq73vxH"
      },
      "source": [
        "## 1. Why NumPy and Not Python lists\n",
        "   "
      ]
    },
    {
      "cell_type": "markdown",
      "metadata": {
        "id": "kwZ0CRP23vxL"
      },
      "source": [
        "NumPy provides efficient storage and better ways of handling data for Mathematical Operations.\n",
        "\n",
        "NumPy is the fundamental package for scientific computing with Python. Extremely useful!!\n",
        "\n",
        "links used:\n",
        "https://docs.scipy.org/doc/numpy/reference/arrays.indexing.html    "
      ]
    },
    {
      "cell_type": "markdown",
      "metadata": {
        "id": "Tel1cacc3vxM"
      },
      "source": [
        "## 2. How to create NumPy Arrays"
      ]
    },
    {
      "cell_type": "markdown",
      "metadata": {
        "id": "uMbZhX_B3vxO"
      },
      "source": [
        " - Import the \"numpy\" library as \"np\""
      ]
    },
    {
      "cell_type": "code",
      "metadata": {
        "id": "y9pBhU7d3vxP",
        "colab": {
          "base_uri": "https://localhost:8080/"
        },
        "outputId": "bb544c6e-e6b0-4d85-ba12-0f20faf91bc3"
      },
      "source": [
        "import numpy as np\n",
        "print(np.__version__)"
      ],
      "execution_count": 2,
      "outputs": [
        {
          "output_type": "stream",
          "text": [
            "1.19.5\n"
          ],
          "name": "stdout"
        }
      ]
    },
    {
      "cell_type": "markdown",
      "metadata": {
        "id": "xm_bH1hY3vxV"
      },
      "source": [
        "- Use `np.array(....)` function for creating a numpy array"
      ]
    },
    {
      "cell_type": "code",
      "metadata": {
        "id": "5fwFzvNG3vxW"
      },
      "source": [
        "np_arr = np.array([1,2,3,4,5,6])"
      ],
      "execution_count": 3,
      "outputs": []
    },
    {
      "cell_type": "code",
      "metadata": {
        "id": "HItBZ5eY3vxY",
        "colab": {
          "base_uri": "https://localhost:8080/"
        },
        "outputId": "61da5644-d895-4f47-d432-83996331ac93"
      },
      "source": [
        "np_arr  #  print(np_arr)"
      ],
      "execution_count": 4,
      "outputs": [
        {
          "output_type": "execute_result",
          "data": {
            "text/plain": [
              "array([1, 2, 3, 4, 5, 6])"
            ]
          },
          "metadata": {
            "tags": []
          },
          "execution_count": 4
        }
      ]
    },
    {
      "cell_type": "markdown",
      "metadata": {
        "id": "IepjKOfMxGMt"
      },
      "source": [
        "- How about a `python list` with the same contents?"
      ]
    },
    {
      "cell_type": "code",
      "metadata": {
        "id": "LWXIMRYD3vxc"
      },
      "source": [
        "py_arr = [1,2,3,4,5,6]"
      ],
      "execution_count": 5,
      "outputs": []
    },
    {
      "cell_type": "code",
      "metadata": {
        "id": "7xFo85qV3vxe",
        "colab": {
          "base_uri": "https://localhost:8080/"
        },
        "outputId": "ddd0a978-6422-4681-d694-4310ca2c9b58"
      },
      "source": [
        "py_arr"
      ],
      "execution_count": 7,
      "outputs": [
        {
          "output_type": "execute_result",
          "data": {
            "text/plain": [
              "[1, 2, 3, 4, 5, 6]"
            ]
          },
          "metadata": {
            "tags": []
          },
          "execution_count": 7
        }
      ]
    },
    {
      "cell_type": "markdown",
      "metadata": {
        "id": "e58XxfUo3vxh"
      },
      "source": [
        "- Check the difference between python array and numpy array"
      ]
    },
    {
      "cell_type": "code",
      "metadata": {
        "id": "1LqFjigJ3vxi"
      },
      "source": [
        "py_arr = [1,2,3,4, \"Hi\",5,6] #heterogenuous"
      ],
      "execution_count": 12,
      "outputs": []
    },
    {
      "cell_type": "code",
      "metadata": {
        "id": "cJE6z_OD3vxl",
        "colab": {
          "base_uri": "https://localhost:8080/"
        },
        "outputId": "8b8312f9-654c-4470-97e6-c3ff005bf58f"
      },
      "source": [
        "py_arr"
      ],
      "execution_count": 13,
      "outputs": [
        {
          "output_type": "execute_result",
          "data": {
            "text/plain": [
              "[1, 2, 3, 4, 'Hi', 5, 6]"
            ]
          },
          "metadata": {
            "tags": []
          },
          "execution_count": 13
        }
      ]
    },
    {
      "cell_type": "code",
      "metadata": {
        "colab": {
          "base_uri": "https://localhost:8080/"
        },
        "id": "1ye9Vgn7yg8k",
        "outputId": "f2ca1307-ad0d-456b-d22a-6a7c8f58097f"
      },
      "source": [
        "[type(item) for item in py_arr]"
      ],
      "execution_count": 20,
      "outputs": [
        {
          "output_type": "execute_result",
          "data": {
            "text/plain": [
              "[int, int, int, int, str, int, int]"
            ]
          },
          "metadata": {
            "tags": []
          },
          "execution_count": 20
        }
      ]
    },
    {
      "cell_type": "code",
      "metadata": {
        "id": "8LezmhDZ3vxo"
      },
      "source": [
        "np_arr = np.array([1,2,3, \"bye\",4,5,6])  #homogenous"
      ],
      "execution_count": 14,
      "outputs": []
    },
    {
      "cell_type": "code",
      "metadata": {
        "id": "l-kF4I-B3vxq",
        "colab": {
          "base_uri": "https://localhost:8080/"
        },
        "outputId": "cf24752c-a4d6-4886-c64d-f56d15229f16"
      },
      "source": [
        "np_arr"
      ],
      "execution_count": 15,
      "outputs": [
        {
          "output_type": "execute_result",
          "data": {
            "text/plain": [
              "array(['1', '2', '3', 'bye', '4', '5', '6'], dtype='<U21')"
            ]
          },
          "metadata": {
            "tags": []
          },
          "execution_count": 15
        }
      ]
    },
    {
      "cell_type": "code",
      "metadata": {
        "colab": {
          "base_uri": "https://localhost:8080/"
        },
        "id": "ytxd0CLvytpC",
        "outputId": "a13b97b3-9e32-4943-ec49-3d891e3abf21"
      },
      "source": [
        "[type(item) for item in np_arr]"
      ],
      "execution_count": 21,
      "outputs": [
        {
          "output_type": "execute_result",
          "data": {
            "text/plain": [
              "[numpy.str_,\n",
              " numpy.str_,\n",
              " numpy.str_,\n",
              " numpy.str_,\n",
              " numpy.str_,\n",
              " numpy.str_,\n",
              " numpy.str_]"
            ]
          },
          "metadata": {
            "tags": []
          },
          "execution_count": 21
        }
      ]
    },
    {
      "cell_type": "markdown",
      "metadata": {
        "id": "uuK1aUm13vxv"
      },
      "source": [
        " - Create a list with values 1 to 10 and assign it to the variable \"list1\"\n",
        " - Create an integer array from list1 and assign it\n",
        " - Check the data type of each array (use the attribute \"dtype\")"
      ]
    },
    {
      "cell_type": "code",
      "metadata": {
        "id": "qkiMlgjA3vxw",
        "colab": {
          "base_uri": "https://localhost:8080/"
        },
        "outputId": "33ce4ab7-a030-40c6-ab18-38630f9bda43"
      },
      "source": [
        "list1= range(1, 11)\n",
        "np_arr = np.array(list1, dtype = np.int16)   # np_arr = np.array(list1, \"i\") \n",
        "print(np_arr, np_arr.dtype)"
      ],
      "execution_count": 22,
      "outputs": [
        {
          "output_type": "stream",
          "text": [
            "[ 1  2  3  4  5  6  7  8  9 10] int16\n"
          ],
          "name": "stdout"
        }
      ]
    },
    {
      "cell_type": "code",
      "metadata": {
        "colab": {
          "base_uri": "https://localhost:8080/"
        },
        "id": "fQwCCYtnzAZo",
        "outputId": "2c11bd78-00bc-44ff-af94-8b8cd5e760b9"
      },
      "source": [
        "array1 = np.arange(1,11, dtype = np.int16)\n",
        "print(array1)"
      ],
      "execution_count": 27,
      "outputs": [
        {
          "output_type": "stream",
          "text": [
            "[ 1  2  3  4  5  6  7  8  9 10]\n"
          ],
          "name": "stdout"
        }
      ]
    },
    {
      "cell_type": "markdown",
      "metadata": {
        "id": "nc9gdqTd3vxz"
      },
      "source": [
        " - Create a list with values 1 to 10 and assign it to the variable \"list1\"\n",
        " - Create an array of floats from list1 and assign it\n",
        " - Check the data type of each array (use the attribute \"dtype\")"
      ]
    },
    {
      "cell_type": "code",
      "metadata": {
        "id": "fmmNjatv3vx0",
        "colab": {
          "base_uri": "https://localhost:8080/",
          "height": 35
        },
        "outputId": "e205c5e5-43d6-40fb-951d-046c90eaa3e3"
      },
      "source": [
        "list1= range(1, 11)\n",
        "np_arr = np.array(list1, dtype = np.float64)   # np_arr = np.array(list1, \"i\") \n",
        "print(np_arr, np_arr.dtype)"
      ],
      "execution_count": null,
      "outputs": [
        {
          "output_type": "stream",
          "text": [
            "[ 1.  2.  3.  4.  5.  6.  7.  8.  9. 10.] float64\n"
          ],
          "name": "stdout"
        }
      ]
    },
    {
      "cell_type": "markdown",
      "metadata": {
        "id": "QZVJAMIp3vx3"
      },
      "source": [
        "## 3. Create N-Dimensional Array"
      ]
    },
    {
      "cell_type": "markdown",
      "metadata": {
        "id": "SOjdBLod3vx5"
      },
      "source": [
        "- Use `np.array()` and many other function for creating a numpy array\n",
        "- Use `np.reshape()` function   for reshaping the array without changing the original elemets\n",
        "- Use `np.arange()` function for creating sequence of numbers in array\n",
        "- Use `np.empty()` function to get an array with uninitialized (artibrary) elements\n",
        "- Use `np.zeros()` and `np.ones()` functions for creating numpy arrays whose contents are all zeros or ones\n",
        "- Use `np.diag()` function for creating a diagonal matrix\n",
        "- Use `np.ravel()` function for flatting a given array"
      ]
    },
    {
      "cell_type": "markdown",
      "metadata": {
        "id": "pFQGq54m3vx7"
      },
      "source": [
        "<script src=\"https://npmcdn.com/jupyter-js-widgets@~1.2.0/dist/embed.js\"></script><img src='https://www.oreilly.com/library/view/elegant-scipy/9781491922927/assets/elsp_0105.png'><script type=\"application/vnd.jupyter-embedded-widgets\">{}</script>"
      ]
    },
    {
      "cell_type": "code",
      "metadata": {
        "id": "9PjIlAUr3vx8",
        "colab": {
          "base_uri": "https://localhost:8080/"
        },
        "outputId": "3e14b960-5807-475e-bcaf-31cec74dbbb7"
      },
      "source": [
        "import numpy as np\n",
        "np_arr=np.arange(0,10,1)\n",
        "np_arr"
      ],
      "execution_count": 65,
      "outputs": [
        {
          "output_type": "execute_result",
          "data": {
            "text/plain": [
              "array([0, 1, 2, 3, 4, 5, 6, 7, 8, 9])"
            ]
          },
          "metadata": {
            "tags": []
          },
          "execution_count": 65
        }
      ]
    },
    {
      "cell_type": "markdown",
      "metadata": {
        "id": "2ovRaSnz3vyA"
      },
      "source": [
        "<script src=\"https://npmcdn.com/jupyter-js-widgets@~1.2.0/dist/embed.js\"></script><img src='https://t1.daumcdn.net/cfile/tistory/99B4C23C5A884A392C'><script type=\"application/vnd.jupyter-embedded-widgets\">{}</script>"
      ]
    },
    {
      "cell_type": "code",
      "metadata": {
        "id": "x7T1oV1z3vyA",
        "colab": {
          "base_uri": "https://localhost:8080/"
        },
        "outputId": "459c2501-99ff-45f3-a4a6-3bbacc9e63e7"
      },
      "source": [
        "np_arr.reshape(2,5) #2 by 5"
      ],
      "execution_count": 66,
      "outputs": [
        {
          "output_type": "execute_result",
          "data": {
            "text/plain": [
              "array([[0, 1, 2, 3, 4],\n",
              "       [5, 6, 7, 8, 9]])"
            ]
          },
          "metadata": {
            "tags": []
          },
          "execution_count": 66
        }
      ]
    },
    {
      "cell_type": "code",
      "metadata": {
        "colab": {
          "base_uri": "https://localhost:8080/"
        },
        "id": "HiuZc0Hw2b7W",
        "outputId": "ec1e145e-4781-471d-d5ac-2f910226e5db"
      },
      "source": [
        "print(np_arr)"
      ],
      "execution_count": 67,
      "outputs": [
        {
          "output_type": "stream",
          "text": [
            "[0 1 2 3 4 5 6 7 8 9]\n"
          ],
          "name": "stdout"
        }
      ]
    },
    {
      "cell_type": "code",
      "metadata": {
        "colab": {
          "base_uri": "https://localhost:8080/"
        },
        "id": "dbkJmLjx2hIS",
        "outputId": "6459aef3-5771-43a9-965b-023184774bb9"
      },
      "source": [
        "np.reshape(np_arr,(2,5))"
      ],
      "execution_count": 68,
      "outputs": [
        {
          "output_type": "execute_result",
          "data": {
            "text/plain": [
              "array([[0, 1, 2, 3, 4],\n",
              "       [5, 6, 7, 8, 9]])"
            ]
          },
          "metadata": {
            "tags": []
          },
          "execution_count": 68
        }
      ]
    },
    {
      "cell_type": "code",
      "metadata": {
        "id": "CRz1ykH73vyI",
        "colab": {
          "base_uri": "https://localhost:8080/"
        },
        "outputId": "4a23c97d-2fa5-482c-f189-a6f66b4d243f"
      },
      "source": [
        "np_arr = np.empty((5,2))\n",
        "print(np_arr)"
      ],
      "execution_count": 51,
      "outputs": [
        {
          "output_type": "stream",
          "text": [
            "[[4.63787362e-310 2.17388884e-322]\n",
            " [2.12199579e-314 3.44620186e-085]\n",
            " [4.34900767e+199 1.87422380e+261]\n",
            " [4.56782417e-085 2.51968629e+180]\n",
            " [1.19480757e+190 9.54596908e-307]]\n"
          ],
          "name": "stdout"
        }
      ]
    },
    {
      "cell_type": "code",
      "metadata": {
        "id": "4EfAoTaI3vyN",
        "colab": {
          "base_uri": "https://localhost:8080/"
        },
        "outputId": "bed221ce-ae4d-4470-efa2-50b00d9f5d33"
      },
      "source": [
        "np_arr=np.empty((5,2), dtype = np.int8)\n",
        "print(np_arr)"
      ],
      "execution_count": 58,
      "outputs": [
        {
          "output_type": "stream",
          "text": [
            "[[64 85]\n",
            " [16 46]\n",
            " [96 85]\n",
            " [ 0  0]\n",
            " [ 3  0]]\n"
          ],
          "name": "stdout"
        }
      ]
    },
    {
      "cell_type": "code",
      "metadata": {
        "id": "4OsmI0ZU3vyS",
        "colab": {
          "base_uri": "https://localhost:8080/"
        },
        "outputId": "cb3ae093-93c2-40b9-8845-5982c6a1556b"
      },
      "source": [
        "np_arr = np.zeros((5,2)) # Create an array of all zeros\n",
        "print(np_arr)"
      ],
      "execution_count": 60,
      "outputs": [
        {
          "output_type": "stream",
          "text": [
            "[[0. 0.]\n",
            " [0. 0.]\n",
            " [0. 0.]\n",
            " [0. 0.]\n",
            " [0. 0.]]\n"
          ],
          "name": "stdout"
        }
      ]
    },
    {
      "cell_type": "code",
      "metadata": {
        "id": "1yBHKXTQ3vyX",
        "colab": {
          "base_uri": "https://localhost:8080/"
        },
        "outputId": "5656d427-81fa-44af-9db7-8167673f2afe"
      },
      "source": [
        "np_arr = np.ones((5,2), dtype = np.int8)  # Create an array of all ones\n",
        "print(np_arr)"
      ],
      "execution_count": 70,
      "outputs": [
        {
          "output_type": "stream",
          "text": [
            "[[1 1]\n",
            " [1 1]\n",
            " [1 1]\n",
            " [1 1]\n",
            " [1 1]]\n"
          ],
          "name": "stdout"
        }
      ]
    },
    {
      "cell_type": "code",
      "metadata": {
        "colab": {
          "base_uri": "https://localhost:8080/"
        },
        "id": "zBD4o8TW2uzf",
        "outputId": "60f126fe-3c04-442f-cc35-52b1ae441918"
      },
      "source": [
        "np_arr = np.array([[1,2,3,4],[5,6,7,8],[9,10,11,12]])\n",
        "print(np_arr)"
      ],
      "execution_count": 77,
      "outputs": [
        {
          "output_type": "stream",
          "text": [
            "[[ 1  2  3  4]\n",
            " [ 5  6  7  8]\n",
            " [ 9 10 11 12]]\n"
          ],
          "name": "stdout"
        }
      ]
    },
    {
      "cell_type": "code",
      "metadata": {
        "id": "_htEJhIj3vyc",
        "colab": {
          "base_uri": "https://localhost:8080/"
        },
        "outputId": "f1428437-924a-4beb-90e2-fdbd7860dd60"
      },
      "source": [
        "np_arr.ravel(order='C')"
      ],
      "execution_count": 82,
      "outputs": [
        {
          "output_type": "execute_result",
          "data": {
            "text/plain": [
              "array([ 1,  2,  3,  4,  5,  6,  7,  8,  9, 10, 11, 12])"
            ]
          },
          "metadata": {
            "tags": []
          },
          "execution_count": 82
        }
      ]
    },
    {
      "cell_type": "code",
      "metadata": {
        "colab": {
          "base_uri": "https://localhost:8080/"
        },
        "id": "kWe4Ji0q3V4J",
        "outputId": "00b33fad-31bb-4fb0-c8c7-5016c9c236c6"
      },
      "source": [
        "np_arr.ravel(order='F')"
      ],
      "execution_count": 83,
      "outputs": [
        {
          "output_type": "execute_result",
          "data": {
            "text/plain": [
              "array([ 1,  5,  9,  2,  6, 10,  3,  7, 11,  4,  8, 12])"
            ]
          },
          "metadata": {
            "tags": []
          },
          "execution_count": 83
        }
      ]
    },
    {
      "cell_type": "code",
      "metadata": {
        "id": "rnUuwRUo3vyf",
        "colab": {
          "base_uri": "https://localhost:8080/"
        },
        "outputId": "4d9f2370-251b-443f-9de8-c6e2bfeab504"
      },
      "source": [
        "np.eye(3, dtype=np.int8) # 3 by b matrics"
      ],
      "execution_count": 87,
      "outputs": [
        {
          "output_type": "execute_result",
          "data": {
            "text/plain": [
              "array([[1, 0, 0],\n",
              "       [0, 1, 0],\n",
              "       [0, 0, 1]], dtype=int8)"
            ]
          },
          "metadata": {
            "tags": []
          },
          "execution_count": 87
        }
      ]
    },
    {
      "cell_type": "code",
      "metadata": {
        "id": "svik2jMl3vyj",
        "colab": {
          "base_uri": "https://localhost:8080/"
        },
        "outputId": "c4b3fde7-a9c5-4007-f628-8ff9bca71e71"
      },
      "source": [
        "np.full((2,3), 7)  # Create a constant array"
      ],
      "execution_count": 89,
      "outputs": [
        {
          "output_type": "execute_result",
          "data": {
            "text/plain": [
              "array([[7, 7, 7],\n",
              "       [7, 7, 7]])"
            ]
          },
          "metadata": {
            "tags": []
          },
          "execution_count": 89
        }
      ]
    },
    {
      "cell_type": "markdown",
      "metadata": {
        "id": "y5K9386V3vym"
      },
      "source": [
        "#### Practice 1\n",
        "- Create an array of shape (2,3,4) of zeros\n",
        "- Create an array of shape (3,4,5) of ones\n",
        "- Create an array with values 0 to 49 using the np.arange() "
      ]
    },
    {
      "cell_type": "code",
      "metadata": {
        "id": "MCxxAJ8F3vyn",
        "colab": {
          "base_uri": "https://localhost:8080/"
        },
        "outputId": "18402ac1-9ae7-4019-f713-2f04759df840"
      },
      "source": [
        "import numpy as np\n",
        "np_arr=np.zeros((2,3,4))\n",
        "print(np_arr)\n",
        "np_arr = np.ones((3, 4, 5))\n",
        "print(np_arr)\n",
        "np_arr = np.arange(50)\n",
        "print(np_arr)"
      ],
      "execution_count": 90,
      "outputs": [
        {
          "output_type": "stream",
          "text": [
            "[[[0. 0. 0. 0.]\n",
            "  [0. 0. 0. 0.]\n",
            "  [0. 0. 0. 0.]]\n",
            "\n",
            " [[0. 0. 0. 0.]\n",
            "  [0. 0. 0. 0.]\n",
            "  [0. 0. 0. 0.]]]\n",
            "[[[1. 1. 1. 1. 1.]\n",
            "  [1. 1. 1. 1. 1.]\n",
            "  [1. 1. 1. 1. 1.]\n",
            "  [1. 1. 1. 1. 1.]]\n",
            "\n",
            " [[1. 1. 1. 1. 1.]\n",
            "  [1. 1. 1. 1. 1.]\n",
            "  [1. 1. 1. 1. 1.]\n",
            "  [1. 1. 1. 1. 1.]]\n",
            "\n",
            " [[1. 1. 1. 1. 1.]\n",
            "  [1. 1. 1. 1. 1.]\n",
            "  [1. 1. 1. 1. 1.]\n",
            "  [1. 1. 1. 1. 1.]]]\n",
            "[ 0  1  2  3  4  5  6  7  8  9 10 11 12 13 14 15 16 17 18 19 20 21 22 23\n",
            " 24 25 26 27 28 29 30 31 32 33 34 35 36 37 38 39 40 41 42 43 44 45 46 47\n",
            " 48 49]\n"
          ],
          "name": "stdout"
        }
      ]
    },
    {
      "cell_type": "markdown",
      "metadata": {
        "id": "nkyma5Em3vyp"
      },
      "source": [
        "#### Practice  2    \n",
        "- Create an array of from the list [2,5,5, -7.2, 3,5, 2.7, 4.7] and assign it \n",
        "  print np_arr[1] \n",
        "- try printing np_arr[1:4] to print the 1st element to 3rd element.\n",
        "- Create a 2-D array from the following list and assign it \n",
        "  [[2, 3.2, 5.5, -6.4, -2.2, 2.4], \n",
        "  [1, 22, 4, 0.1, 5.3, -9], \n",
        "  [3, 1, 2.1, 21, 1.1, -2]]\n",
        "\n",
        "- try printing the following\n",
        "  a[:, 3], \n",
        "  a[1:4, 0:4], \n",
        "  a[1:, 2] "
      ]
    },
    {
      "cell_type": "code",
      "metadata": {
        "id": "LMGbCMrg3vyq",
        "colab": {
          "base_uri": "https://localhost:8080/"
        },
        "outputId": "e3e151f1-87b4-4097-f171-13b7f6d1aa15"
      },
      "source": [
        "import numpy as np\n",
        "np_arr = np.array([2,5.5, -7.2, 3.5, 2.7, 4.7])\n",
        "print(np_arr)"
      ],
      "execution_count": 98,
      "outputs": [
        {
          "output_type": "stream",
          "text": [
            "[ 2.   5.5 -7.2  3.5  2.7  4.7]\n"
          ],
          "name": "stdout"
        }
      ]
    },
    {
      "cell_type": "code",
      "metadata": {
        "id": "G3X-fY2h3vyu",
        "colab": {
          "base_uri": "https://localhost:8080/"
        },
        "outputId": "4115028f-8128-49eb-9f08-fd8d2eb6935e"
      },
      "source": [
        "np_arr[1]"
      ],
      "execution_count": 100,
      "outputs": [
        {
          "output_type": "execute_result",
          "data": {
            "text/plain": [
              "5.5"
            ]
          },
          "metadata": {
            "tags": []
          },
          "execution_count": 100
        }
      ]
    },
    {
      "cell_type": "code",
      "metadata": {
        "id": "vqKyyTzo3vyy",
        "colab": {
          "base_uri": "https://localhost:8080/"
        },
        "outputId": "714469fc-e0d0-409f-fb3d-c2b6aa8cfaa6"
      },
      "source": [
        "np_arr[1:4]"
      ],
      "execution_count": 107,
      "outputs": [
        {
          "output_type": "execute_result",
          "data": {
            "text/plain": [
              "array([ 5.5, -7.2,  3.5])"
            ]
          },
          "metadata": {
            "tags": []
          },
          "execution_count": 107
        }
      ]
    },
    {
      "cell_type": "code",
      "metadata": {
        "id": "tVJdalYy3vy5",
        "colab": {
          "base_uri": "https://localhost:8080/"
        },
        "outputId": "f153fa76-9b24-4d1e-dd4a-51019da29537"
      },
      "source": [
        "np_arr = np.array([[2, 3.2, 5.5, -6.4, -2.2, 2.4],\n",
        "                [1, 22, 4, 0.1, 5.3, -9],\n",
        "                [3, 1, 2.1, 21, 1.1, -2]])\n",
        "print(np_arr)"
      ],
      "execution_count": 108,
      "outputs": [
        {
          "output_type": "stream",
          "text": [
            "[[ 2.   3.2  5.5 -6.4 -2.2  2.4]\n",
            " [ 1.  22.   4.   0.1  5.3 -9. ]\n",
            " [ 3.   1.   2.1 21.   1.1 -2. ]]\n"
          ],
          "name": "stdout"
        }
      ]
    },
    {
      "cell_type": "code",
      "metadata": {
        "id": "lLp9FmMx3vy-",
        "colab": {
          "base_uri": "https://localhost:8080/"
        },
        "outputId": "4df34bf0-3cbb-42dc-e7ee-71e213d24b98"
      },
      "source": [
        "np_arr[:,3]"
      ],
      "execution_count": 109,
      "outputs": [
        {
          "output_type": "execute_result",
          "data": {
            "text/plain": [
              "array([-6.4,  0.1, 21. ])"
            ]
          },
          "metadata": {
            "tags": []
          },
          "execution_count": 109
        }
      ]
    },
    {
      "cell_type": "code",
      "metadata": {
        "id": "mPb1boXq3vzB",
        "colab": {
          "base_uri": "https://localhost:8080/"
        },
        "outputId": "977eed5c-fcb8-4eaf-ec49-1cd1e1315d36"
      },
      "source": [
        "np_arr[1:3, 3:5]"
      ],
      "execution_count": 112,
      "outputs": [
        {
          "output_type": "execute_result",
          "data": {
            "text/plain": [
              "array([[ 0.1,  5.3],\n",
              "       [21. ,  1.1]])"
            ]
          },
          "metadata": {
            "tags": []
          },
          "execution_count": 112
        }
      ]
    },
    {
      "cell_type": "code",
      "metadata": {
        "id": "4YHM9C-S4oQ9"
      },
      "source": [
        ""
      ],
      "execution_count": null,
      "outputs": []
    },
    {
      "cell_type": "markdown",
      "metadata": {
        "id": "jLKLmr7e3vzE"
      },
      "source": [
        "#### POPCORN QUIZ (Do it yourself)\n",
        "Write a Python program to create a 2d array with 1s on the border and 0s on the inside.\n",
        "- Sample Output\n",
        "\n",
        " Original array:     \n",
        " \n",
        "    [[ 1.  1.  1.  1.  1.]                                                  \n",
        " [ 1.  1.  1.  1.  1.]                                                  \n",
        " [ 1.  1.  1.  1.  1.]                                                  \n",
        " [ 1.  1.  1.  1.  1.]                                                  \n",
        " [ 1.  1.  1.  1.  1.]]  \n",
        " \n",
        " result in below:\n",
        " \n",
        "    [[ 1.  1.  1.  1.  1.]                                                  \n",
        " [ 1.  0.  0.  1.  1.]                                                  \n",
        " [ 1.  0.  0.  1.  1.]                                                  \n",
        " [ 1.  0.  0.  1.  1.]                                                  \n",
        " [ 1.  1.  1.  1.  1.]]"
      ]
    },
    {
      "cell_type": "code",
      "metadata": {
        "id": "6D1YiAya3vzF",
        "colab": {
          "base_uri": "https://localhost:8080/",
          "height": 197
        },
        "outputId": "e2332030-58ad-4282-c36c-bd85ea68ef90"
      },
      "source": [
        "import numpy as np  # itp11704\n",
        "np_arr = np.ones((5,5))\n",
        "print(np_arr)\n",
        "# write your answer in here\n",
        "np_arr[1:4, 1:3] = np.zeros((3,2))\n",
        "print(np_arr)"
      ],
      "execution_count": null,
      "outputs": [
        {
          "output_type": "stream",
          "text": [
            "[[1. 1. 1. 1. 1.]\n",
            " [1. 1. 1. 1. 1.]\n",
            " [1. 1. 1. 1. 1.]\n",
            " [1. 1. 1. 1. 1.]\n",
            " [1. 1. 1. 1. 1.]]\n",
            "[[1. 1. 1. 1. 1.]\n",
            " [1. 0. 0. 1. 1.]\n",
            " [1. 0. 0. 1. 1.]\n",
            " [1. 0. 0. 1. 1.]\n",
            " [1. 1. 1. 1. 1.]]\n"
          ],
          "name": "stdout"
        }
      ]
    },
    {
      "cell_type": "markdown",
      "metadata": {
        "id": "Gl2kBCd03vzH"
      },
      "source": [
        "#### Practice 3\n",
        "- Create a 2-D array of shape (2, 4) containing two lists (range(4), range(10, 14)).\n",
        "\n",
        "- Check the `shape`, the `size`,n the maximum and minimum elements of the array "
      ]
    },
    {
      "cell_type": "code",
      "metadata": {
        "id": "3UTLUgos3vzI",
        "colab": {
          "base_uri": "https://localhost:8080/"
        },
        "outputId": "565328fb-8f1a-4d72-bc13-be256dea248a"
      },
      "source": [
        "import numpy as np\n",
        "np_arr=np.array([range(4),range(10,14)])\n",
        "print(np_arr)\n",
        "print(np_arr.shape) # return the shape of a given array\n",
        "print(np_arr.size)  # size returns the total number of elemets in a given array\n",
        "print(np_arr.ndim)  # returns the dimension of a given array\n",
        "print(np_arr.max())\n",
        "print(np_arr.min())"
      ],
      "execution_count": 117,
      "outputs": [
        {
          "output_type": "stream",
          "text": [
            "[[ 0  1  2  3]\n",
            " [10 11 12 13]]\n",
            "(2, 4)\n",
            "8\n",
            "2\n",
            "13\n",
            "0\n"
          ],
          "name": "stdout"
        }
      ]
    },
    {
      "cell_type": "markdown",
      "metadata": {
        "id": "1kSW-uzC3vzO"
      },
      "source": [
        "- Contiunue to use the array as defined above. \n",
        "- print the array which is reshaped by (4,2)\n",
        "- print the array transposed\n",
        "- print the array flattened to a single dimension"
      ]
    },
    {
      "cell_type": "code",
      "metadata": {
        "id": "t3j34zaq3vzO",
        "colab": {
          "base_uri": "https://localhost:8080/"
        },
        "outputId": "5e7e3ea7-74cc-4f9f-b5ee-93d9db34d7ea"
      },
      "source": [
        "np.reshape(np_arr,(4,2))\n",
        "print(np_arr)\n",
        "print(np.transpose(np_arr))  # Recall 'transpose' in our 1st lecture\n",
        "print(np.ravel(np_arr))"
      ],
      "execution_count": 122,
      "outputs": [
        {
          "output_type": "stream",
          "text": [
            "[[ 0  1  2  3]\n",
            " [10 11 12 13]]\n",
            "[[ 0 10]\n",
            " [ 1 11]\n",
            " [ 2 12]\n",
            " [ 3 13]]\n",
            "[ 0  1  2  3 10 11 12 13]\n"
          ],
          "name": "stdout"
        }
      ]
    },
    {
      "cell_type": "markdown",
      "metadata": {
        "id": "KYvV1qYe3vzR"
      },
      "source": [
        "## 4. Mathematical Operations and Array Calculations \n",
        "\n",
        "NumPy n-dimensional arrays makes it extremely easy to perform mathematical operations on it.\n",
        "- Mathematical operations with arrays\n",
        "- Mathematical operations mixing scalars and arrays\n",
        "- Comparison operators and Boolean operations on arrays\n",
        "- Broadcasting"
      ]
    },
    {
      "cell_type": "code",
      "metadata": {
        "id": "U3PQ5mj93vzR"
      },
      "source": [
        "py_arr = [1,2,3] * 2"
      ],
      "execution_count": 123,
      "outputs": []
    },
    {
      "cell_type": "code",
      "metadata": {
        "id": "LO2m1vK23vzS"
      },
      "source": [
        "np_arr = np.array([1,2,3]) * 2 "
      ],
      "execution_count": 124,
      "outputs": []
    },
    {
      "cell_type": "code",
      "metadata": {
        "id": "qt0q6bwX3vzW",
        "colab": {
          "base_uri": "https://localhost:8080/"
        },
        "outputId": "d0be2713-dbcb-43c9-fe2c-b92919f2c07a"
      },
      "source": [
        "py_arr  # python list repeats the same list twice (*2 does not mean arithmetic multiplication)"
      ],
      "execution_count": 125,
      "outputs": [
        {
          "output_type": "execute_result",
          "data": {
            "text/plain": [
              "[1, 2, 3, 1, 2, 3]"
            ]
          },
          "metadata": {
            "tags": []
          },
          "execution_count": 125
        }
      ]
    },
    {
      "cell_type": "code",
      "metadata": {
        "id": "6Bmea5hE3vzZ",
        "colab": {
          "base_uri": "https://localhost:8080/"
        },
        "outputId": "2577eb9c-1111-44e2-e1f3-cea4f6bfa65c"
      },
      "source": [
        "np_arr  # numpy array works for arithmetic multiplication"
      ],
      "execution_count": 127,
      "outputs": [
        {
          "output_type": "execute_result",
          "data": {
            "text/plain": [
              "array([2, 4, 6])"
            ]
          },
          "metadata": {
            "tags": []
          },
          "execution_count": 127
        }
      ]
    },
    {
      "cell_type": "markdown",
      "metadata": {
        "id": "V7EqG5rD3vzc"
      },
      "source": [
        "multi dimensional mathematical operations"
      ]
    },
    {
      "cell_type": "code",
      "metadata": {
        "id": "MkInjLP43vzc",
        "colab": {
          "base_uri": "https://localhost:8080/"
        },
        "outputId": "32c8a518-4356-4d9c-cf2f-10608acf3752"
      },
      "source": [
        "np_arr = np.ones((5,2)) * 10\n",
        "print(np_arr)"
      ],
      "execution_count": 130,
      "outputs": [
        {
          "output_type": "stream",
          "text": [
            "[[10. 10.]\n",
            " [10. 10.]\n",
            " [10. 10.]\n",
            " [10. 10.]\n",
            " [10. 10.]]\n"
          ],
          "name": "stdout"
        }
      ]
    },
    {
      "cell_type": "markdown",
      "metadata": {
        "id": "OOH6W0mc3vzh"
      },
      "source": [
        "#### Practice 4\n",
        "- Create a 2-D array of shape (2, 4) containing two lists (range(4), range(10, 14)) and assign it to the   \n",
        "  variable \"a\" \n",
        "- Create an array from a list [2, -1, 1, 0] and assign it to the variable \"b\"\n",
        "- Multiply array \"a\" by \"b\" and view the result. Do you understand how NumPy has used its broadcasting feature\n",
        "  to do the calculation even though the arrays are different shapes?"
      ]
    },
    {
      "cell_type": "code",
      "metadata": {
        "id": "ybqDZvsf3vzh"
      },
      "source": [
        "import numpy as np"
      ],
      "execution_count": 131,
      "outputs": []
    },
    {
      "cell_type": "code",
      "metadata": {
        "id": "O57IRTF73vzj",
        "colab": {
          "base_uri": "https://localhost:8080/"
        },
        "outputId": "34e4fcb3-47fd-41b0-90b9-903d18615c73"
      },
      "source": [
        "a = np.array([range(4), range(10,14)])\n",
        "a"
      ],
      "execution_count": 132,
      "outputs": [
        {
          "output_type": "execute_result",
          "data": {
            "text/plain": [
              "array([[ 0,  1,  2,  3],\n",
              "       [10, 11, 12, 13]])"
            ]
          },
          "metadata": {
            "tags": []
          },
          "execution_count": 132
        }
      ]
    },
    {
      "cell_type": "code",
      "metadata": {
        "id": "_xsEKLdh3vzm",
        "colab": {
          "base_uri": "https://localhost:8080/"
        },
        "outputId": "77c59cdc-83b2-4334-8937-bd2ac5beae68"
      },
      "source": [
        "b = np.array([2,-1,1,0])\n",
        "b"
      ],
      "execution_count": 133,
      "outputs": [
        {
          "output_type": "execute_result",
          "data": {
            "text/plain": [
              "array([ 2, -1,  1,  0])"
            ]
          },
          "metadata": {
            "tags": []
          },
          "execution_count": 133
        }
      ]
    },
    {
      "cell_type": "code",
      "metadata": {
        "id": "eKOLevz33vzp",
        "colab": {
          "base_uri": "https://localhost:8080/"
        },
        "outputId": "673bce93-58b1-4cfd-ab7d-c456506ed8de"
      },
      "source": [
        "# a*b\n",
        "print(a*b)  # a*b returns a matrix whose the first row is element-wise multiplication of a[1,:] and b and the second row is element-wise multiplication of a[2,:] and b"
      ],
      "execution_count": 135,
      "outputs": [
        {
          "output_type": "stream",
          "text": [
            "[[  0  -1   2   0]\n",
            " [ 20 -11  12   0]]\n"
          ],
          "name": "stdout"
        }
      ]
    },
    {
      "cell_type": "markdown",
      "metadata": {
        "id": "SM4GM70M3vzy"
      },
      "source": [
        "### Broadcasting \n",
        "Broadcasting is simply a set of rules for applying binary ufuncs (e.g., addition, subtraction, multiplication, etc.) on arrays of different sizes.\n"
      ]
    },
    {
      "cell_type": "code",
      "metadata": {
        "id": "Nc9ONYvU3vzy"
      },
      "source": [
        "import numpy as np"
      ],
      "execution_count": 139,
      "outputs": []
    },
    {
      "cell_type": "code",
      "metadata": {
        "id": "hoVPxvLo3vz0"
      },
      "source": [
        "a = np.array([0,1,2])\n",
        "b = np.array([5,5,5])"
      ],
      "execution_count": 140,
      "outputs": []
    },
    {
      "cell_type": "code",
      "metadata": {
        "id": "H17nf7vj3vz1",
        "colab": {
          "base_uri": "https://localhost:8080/"
        },
        "outputId": "2c03fc5b-eebc-4750-ee4e-a83d11291839"
      },
      "source": [
        "a+b"
      ],
      "execution_count": 141,
      "outputs": [
        {
          "output_type": "execute_result",
          "data": {
            "text/plain": [
              "array([5, 6, 7])"
            ]
          },
          "metadata": {
            "tags": []
          },
          "execution_count": 141
        }
      ]
    },
    {
      "cell_type": "markdown",
      "metadata": {
        "id": "Dv3pd1pA3vz4"
      },
      "source": [
        "Broadcasting allows these types of binary operations to be performed on arrays of different sizes–for example,\n",
        "you can just as easily add a scalar (think of it as a zero-dimensional array) to an array:"
      ]
    },
    {
      "cell_type": "code",
      "metadata": {
        "id": "0Z63p_zZ3vz4",
        "colab": {
          "base_uri": "https://localhost:8080/"
        },
        "outputId": "9a4aea89-af96-4f55-9f50-0a5b8a3fe4d0"
      },
      "source": [
        "a+5"
      ],
      "execution_count": 142,
      "outputs": [
        {
          "output_type": "execute_result",
          "data": {
            "text/plain": [
              "array([5, 6, 7])"
            ]
          },
          "metadata": {
            "tags": []
          },
          "execution_count": 142
        }
      ]
    },
    {
      "cell_type": "markdown",
      "metadata": {
        "id": "6hfg8mzT3vz7"
      },
      "source": [
        "\n",
        "\n",
        "You can think of this as an operation that stretches or duplicates the value 5 into the array [5, 5, 5], and adds the results. The advantage of NumPy's broadcasting is that this duplication of values does not actually take place, but it is a useful mental model as we think about broadcasting.\n",
        "\n",
        "You can similarly extend this to arrays of higher dimension. Observe the result when we add a one-dimensional array to a two-dimensional array:\n"
      ]
    },
    {
      "cell_type": "code",
      "metadata": {
        "id": "5b9RUOmJ3vz8",
        "colab": {
          "base_uri": "https://localhost:8080/"
        },
        "outputId": "27dd2e8d-f97b-4da0-8ef2-2d67884bb0ef"
      },
      "source": [
        "c = np.ones((3,3))\n",
        "print(c)"
      ],
      "execution_count": 144,
      "outputs": [
        {
          "output_type": "stream",
          "text": [
            "[[1. 1. 1.]\n",
            " [1. 1. 1.]\n",
            " [1. 1. 1.]]\n"
          ],
          "name": "stdout"
        }
      ]
    },
    {
      "cell_type": "code",
      "metadata": {
        "id": "7TLaRBWQ3v0E",
        "colab": {
          "base_uri": "https://localhost:8080/",
          "height": 71
        },
        "outputId": "fd6bd55d-af6e-4221-e8d5-4d1c1c16d3a9"
      },
      "source": [
        "c + a # recall that the shape of c is (3,3) and the shape of a is (1,3)\n",
        "      # Then a is 'broadcasted' to have the shape (3,3) and added to c."
      ],
      "execution_count": null,
      "outputs": [
        {
          "output_type": "execute_result",
          "data": {
            "text/plain": [
              "array([[1., 2., 3.],\n",
              "       [1., 2., 3.],\n",
              "       [1., 2., 3.]])"
            ]
          },
          "metadata": {
            "tags": []
          },
          "execution_count": 60
        }
      ]
    },
    {
      "cell_type": "markdown",
      "metadata": {
        "id": "a3AQQQKk3v0Q"
      },
      "source": [
        "<script src=\"https://npmcdn.com/jupyter-js-widgets@~1.2.0/dist/embed.js\"></script><img src='https://jakevdp.github.io/PythonDataScienceHandbook/figures/02.05-broadcasting.png'><script type=\"application/vnd.jupyter-embedded-widgets\">{}</script>\n"
      ]
    },
    {
      "cell_type": "markdown",
      "metadata": {
        "id": "gZ1Iz1HK3v0Q"
      },
      "source": [
        "The light boxes represent the broadcasted values: again, this extra memory is not actually allocated in the course of the operation, but it can be useful conceptually to imagine that it is."
      ]
    },
    {
      "cell_type": "markdown",
      "metadata": {
        "id": "ZOhQlRyw3v0Q"
      },
      "source": [
        "### Rules of Broadcasting"
      ]
    },
    {
      "cell_type": "code",
      "metadata": {
        "id": "HwiAKJQ23v0R",
        "colab": {
          "base_uri": "https://localhost:8080/"
        },
        "outputId": "0cc0414b-0804-43ee-828e-a446c6375858"
      },
      "source": [
        "a = np.ones((2,3))\n",
        "print(a)\n",
        "b = np.arange(3)\n",
        "print(b)"
      ],
      "execution_count": 146,
      "outputs": [
        {
          "output_type": "stream",
          "text": [
            "[[1. 1. 1.]\n",
            " [1. 1. 1.]]\n",
            "[0 1 2]\n"
          ],
          "name": "stdout"
        }
      ]
    },
    {
      "cell_type": "code",
      "metadata": {
        "id": "4iw80ZAy3v0V",
        "colab": {
          "base_uri": "https://localhost:8080/"
        },
        "outputId": "92c01e1b-7cb7-4876-b137-bacb30d732b0"
      },
      "source": [
        "s1 = a.shape\n",
        "print(s1)\n",
        "s2 = b.shape\n",
        "print(s2)"
      ],
      "execution_count": 147,
      "outputs": [
        {
          "output_type": "stream",
          "text": [
            "(2, 3)\n",
            "(3,)\n"
          ],
          "name": "stdout"
        }
      ]
    },
    {
      "cell_type": "code",
      "metadata": {
        "id": "fK_6vAvs3v0Y",
        "colab": {
          "base_uri": "https://localhost:8080/"
        },
        "outputId": "307ff171-633a-4db3-a7df-4b2b95401847"
      },
      "source": [
        "s = a+b\n",
        "print(s)\n",
        "s.shape"
      ],
      "execution_count": 148,
      "outputs": [
        {
          "output_type": "stream",
          "text": [
            "[[1. 2. 3.]\n",
            " [1. 2. 3.]]\n"
          ],
          "name": "stdout"
        },
        {
          "output_type": "execute_result",
          "data": {
            "text/plain": [
              "(2, 3)"
            ]
          },
          "metadata": {
            "tags": []
          },
          "execution_count": 148
        }
      ]
    },
    {
      "cell_type": "code",
      "metadata": {
        "id": "ouhTZuue3v0a",
        "colab": {
          "base_uri": "https://localhost:8080/"
        },
        "outputId": "8bf75b5e-ae93-4d47-e077-a7bec23dff36"
      },
      "source": [
        "a = np.arange(3).reshape((3,1))\n",
        "b = np.arange(3)\n",
        "print(a)\n",
        "print(b)"
      ],
      "execution_count": 151,
      "outputs": [
        {
          "output_type": "stream",
          "text": [
            "[[0]\n",
            " [1]\n",
            " [2]]\n",
            "[0 1 2]\n"
          ],
          "name": "stdout"
        }
      ]
    },
    {
      "cell_type": "code",
      "metadata": {
        "id": "CQCoq_ls3v0d",
        "colab": {
          "base_uri": "https://localhost:8080/"
        },
        "outputId": "e2b871ea-894d-4cee-89da-8ae0f0fa0487"
      },
      "source": [
        "a+b"
      ],
      "execution_count": 152,
      "outputs": [
        {
          "output_type": "execute_result",
          "data": {
            "text/plain": [
              "array([[0, 1, 2],\n",
              "       [1, 2, 3],\n",
              "       [2, 3, 4]])"
            ]
          },
          "metadata": {
            "tags": []
          },
          "execution_count": 152
        }
      ]
    },
    {
      "cell_type": "code",
      "metadata": {
        "id": "WbpnQj7a3v0g",
        "colab": {
          "base_uri": "https://localhost:8080/"
        },
        "outputId": "0abf2952-9622-42f6-b1e6-b0be4e319f7b"
      },
      "source": [
        "a = np.ones((3,2))\n",
        "print(a)\n",
        "b = np.arange(3)\n",
        "print(b)"
      ],
      "execution_count": 153,
      "outputs": [
        {
          "output_type": "stream",
          "text": [
            "[[1. 1.]\n",
            " [1. 1.]\n",
            " [1. 1.]]\n",
            "[0 1 2]\n"
          ],
          "name": "stdout"
        }
      ]
    },
    {
      "cell_type": "code",
      "metadata": {
        "id": "wBTf2oeb3v0h",
        "colab": {
          "base_uri": "https://localhost:8080/",
          "height": 165
        },
        "outputId": "23c3323d-4540-4091-d0ff-6d5ae1d6dac0"
      },
      "source": [
        "a + b"
      ],
      "execution_count": 154,
      "outputs": [
        {
          "output_type": "error",
          "ename": "ValueError",
          "evalue": "ignored",
          "traceback": [
            "\u001b[0;31m---------------------------------------------------------------------------\u001b[0m",
            "\u001b[0;31mValueError\u001b[0m                                Traceback (most recent call last)",
            "\u001b[0;32m<ipython-input-154-bd58363a63fc>\u001b[0m in \u001b[0;36m<module>\u001b[0;34m()\u001b[0m\n\u001b[0;32m----> 1\u001b[0;31m \u001b[0ma\u001b[0m \u001b[0;34m+\u001b[0m \u001b[0mb\u001b[0m\u001b[0;34m\u001b[0m\u001b[0;34m\u001b[0m\u001b[0m\n\u001b[0m",
            "\u001b[0;31mValueError\u001b[0m: operands could not be broadcast together with shapes (3,2) (3,) "
          ]
        }
      ]
    },
    {
      "cell_type": "markdown",
      "metadata": {
        "id": "5g_jboHo3v0y"
      },
      "source": [
        "Thanks for your attention!!! "
      ]
    }
  ]
}