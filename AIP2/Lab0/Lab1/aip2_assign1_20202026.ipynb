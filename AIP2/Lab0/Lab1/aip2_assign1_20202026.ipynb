{
  "nbformat": 4,
  "nbformat_minor": 0,
  "metadata": {
    "colab": {
      "name": "aip2_assign1_20202026.ipynb",
      "provenance": [],
      "collapsed_sections": []
    },
    "kernelspec": {
      "name": "python3",
      "display_name": "Python 3"
    },
    "language_info": {
      "name": "python"
    }
  },
  "cells": [
    {
      "cell_type": "code",
      "metadata": {
        "id": "XBLEBgbGeZ0c"
      },
      "source": [
        "import pandas as pd\n",
        "import matplotlib\n",
        "import matplotlib.pyplot as plt \n",
        "%matplotlib inline\n",
        "\n",
        "housing = pd.read_csv('housing.csv') \n",
        "housing.head(10)"
      ],
      "execution_count": null,
      "outputs": []
    },
    {
      "cell_type": "code",
      "metadata": {
        "id": "ph4tUkU7ekX2"
      },
      "source": [
        "type(housing)"
      ],
      "execution_count": null,
      "outputs": []
    },
    {
      "cell_type": "code",
      "metadata": {
        "id": "X1IwqQgveMnc"
      },
      "source": [
        "def plot_histogram(df, col):\n",
        "  bins = 50\n",
        "  col_list = list(housing)\n",
        "  col_list.remove('ocean_proximity')\n",
        "  print(\"column: \" + col)\n",
        "  plt.hist(housing[col], bins=bins)\n",
        "  plt.title(\"Histogram of \" + col)\n",
        "  plt.xlabel(col)\n",
        "  plt.ylabel(\"frequency\")\n",
        "  plt.show()\n",
        "\n",
        "plot_histogram(housing, \"longitude\")\n",
        "plot_histogram(housing, \"latitude\")\n",
        "plot_histogram(housing, \"housing_median_age\")\n",
        "plot_histogram(housing, \"total_rooms\")\n",
        "#plot_histogram(housing, \"total_bedrooms\")\n",
        "plot_histogram(housing, \"population\")\n",
        "plot_histogram(housing, \"median_income\")\n",
        "plot_histogram(housing, \"median_house_value\")"
      ],
      "execution_count": null,
      "outputs": []
    },
    {
      "cell_type": "code",
      "metadata": {
        "id": "KV3Rr95RfHjn"
      },
      "source": [
        "plt.rcParams['axes.labelsize'] = 14\n",
        "plt.rcParams['xtick.labelsize'] = 12\n",
        "plt.rcParams['ytick.labelsize'] = 12\n",
        "\n",
        "housing.plot(kind='scatter', x='longitude', y='latitude', alpha=0.4, \n",
        "             s=housing['population']/50, label='population', figsize=(10,7),\n",
        "             c='median_house_value', cmap=plt.get_cmap('jet'), colorbar=True,\n",
        "             sharex=False)"
      ],
      "execution_count": null,
      "outputs": []
    },
    {
      "cell_type": "code",
      "metadata": {
        "id": "63Q4RBz0gweA"
      },
      "source": [
        "from pandas.plotting import scatter_matrix\n",
        "attribute = ['median_house_value', 'median_income', 'total_rooms', 'housing_median_age']\n",
        "scatter_matrix(housing[attribute], figsize=(12, 8))"
      ],
      "execution_count": null,
      "outputs": []
    },
    {
      "cell_type": "code",
      "metadata": {
        "id": "o1IuLgDthuvq"
      },
      "source": [
        "housing.plot(kind='scatter', x='median_income', y='median_house_value', alpha=0.1)"
      ],
      "execution_count": null,
      "outputs": []
    },
    {
      "cell_type": "code",
      "metadata": {
        "id": "eSqW4erzh-yz"
      },
      "source": [
        "housing.info()"
      ],
      "execution_count": null,
      "outputs": []
    },
    {
      "cell_type": "code",
      "metadata": {
        "id": "i_qUzAoVisvs"
      },
      "source": [
        "corr_matrix = housing.corr()\n",
        "corr_matrix['median_house_value'].sort_values(ascending=False)"
      ],
      "execution_count": null,
      "outputs": []
    },
    {
      "cell_type": "code",
      "metadata": {
        "id": "ajUMTeVCj2yb"
      },
      "source": [
        "median = housing['total_bedrooms'].median()\n",
        "housing['total_bedrooms'] = housing['total_bedrooms'].fillna(median)\n",
        "housing.info()"
      ],
      "execution_count": null,
      "outputs": []
    },
    {
      "cell_type": "code",
      "metadata": {
        "id": "EaEAfiifkZ1o"
      },
      "source": [
        "housing['rooms_per_household'] = housing['total_rooms'] / housing['households']\n",
        "housing['bedrooms_per_household'] = housing['total_bedrooms'] / housing['households']\n",
        "del housing['total_rooms'], housing['total_bedrooms']\n",
        "\n",
        "housing.info()"
      ],
      "execution_count": null,
      "outputs": []
    },
    {
      "cell_type": "code",
      "metadata": {
        "id": "EHsOgChflgd-"
      },
      "source": [
        "from sklearn.preprocessing import StandardScaler\n",
        "\n",
        "scaler = StandardScaler()\n",
        "\n",
        "col_list = list(housing)\n",
        "col_list.remove('ocean_proximity')\n",
        "col_list.remove('median_house_value')\n",
        "\n",
        "housing_numeric = housing[col_list]\n",
        "housing_scaled = scaler.fit_transform(housing_numeric)\n",
        "\n",
        "housing_scaled_df = pd.DataFrame(housing_scaled, index=housing_numeric.index, columns=housing_numeric.columns)\n",
        "\n",
        "housing = pd.concat([housing_scaled_df, housing['median_house_value'], housing['ocean_proximity']], axis=1)\n",
        "housing.head()"
      ],
      "execution_count": null,
      "outputs": []
    },
    {
      "cell_type": "code",
      "metadata": {
        "id": "m-dubmuJm3bQ"
      },
      "source": [
        "housing = pd.get_dummies(housing)\n",
        "housing.tail(10)"
      ],
      "execution_count": null,
      "outputs": []
    },
    {
      "cell_type": "code",
      "metadata": {
        "id": "hH6COt_-nLJ0"
      },
      "source": [
        "from sklearn.model_selection import train_test_split\n",
        "\n",
        "train_set, test_set = train_test_split(housing, test_size=0.2, random_state=42)\n",
        "print(\"# of train set: %.0f. # of test set: %.0f\" % (train_set.shape[0], test_set.shape[0]))"
      ],
      "execution_count": null,
      "outputs": []
    },
    {
      "cell_type": "code",
      "metadata": {
        "id": "caJKmEX2oA2a"
      },
      "source": [
        "train_set_features = train_set.drop('median_house_value', axis=1)\n",
        "train_set_target = train_set['median_house_value'].copy()"
      ],
      "execution_count": 66,
      "outputs": []
    }
  ]
}