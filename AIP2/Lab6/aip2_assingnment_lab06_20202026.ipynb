{
  "nbformat": 4,
  "nbformat_minor": 0,
  "metadata": {
    "colab": {
      "name": "aip2_assingnment_lab06_20202026.ipynb",
      "provenance": [],
      "collapsed_sections": []
    },
    "kernelspec": {
      "name": "python3",
      "display_name": "Python 3"
    },
    "language_info": {
      "name": "python"
    },
    "accelerator": "GPU"
  },
  "cells": [
    {
      "cell_type": "markdown",
      "metadata": {
        "id": "mtounP0lteWC"
      },
      "source": [
        "# **Exercise 0**"
      ]
    },
    {
      "cell_type": "code",
      "metadata": {
        "colab": {
          "base_uri": "https://localhost:8080/",
          "height": 35
        },
        "id": "M-QmOpTLo64x",
        "outputId": "b661935d-3946-4ce7-f8ce-547d8bc6833d"
      },
      "source": [
        "import sklearn as s\n",
        "s.__version__"
      ],
      "execution_count": 1,
      "outputs": [
        {
          "output_type": "execute_result",
          "data": {
            "application/vnd.google.colaboratory.intrinsic+json": {
              "type": "string"
            },
            "text/plain": [
              "'0.21.3'"
            ]
          },
          "metadata": {
            "tags": []
          },
          "execution_count": 1
        }
      ]
    },
    {
      "cell_type": "code",
      "metadata": {
        "colab": {
          "base_uri": "https://localhost:8080/"
        },
        "id": "ueBUuv86tLCp",
        "outputId": "567f5634-844a-4f70-a823-6096f2cb42bf"
      },
      "source": [
        "!pip install scikit-learn==0.21.3"
      ],
      "execution_count": 2,
      "outputs": [
        {
          "output_type": "stream",
          "text": [
            "Requirement already satisfied: scikit-learn==0.21.3 in /usr/local/lib/python3.7/dist-packages (0.21.3)\n",
            "Requirement already satisfied: joblib>=0.11 in /usr/local/lib/python3.7/dist-packages (from scikit-learn==0.21.3) (1.0.1)\n",
            "Requirement already satisfied: scipy>=0.17.0 in /usr/local/lib/python3.7/dist-packages (from scikit-learn==0.21.3) (1.4.1)\n",
            "Requirement already satisfied: numpy>=1.11.0 in /usr/local/lib/python3.7/dist-packages (from scikit-learn==0.21.3) (1.19.5)\n"
          ],
          "name": "stdout"
        }
      ]
    },
    {
      "cell_type": "markdown",
      "metadata": {
        "id": "FLW0ROLQtltT"
      },
      "source": [
        "# **Exercise 1**"
      ]
    },
    {
      "cell_type": "code",
      "metadata": {
        "id": "wuC6WD9Ttdlz"
      },
      "source": [
        "import tensorflow as tf\n",
        "from tensorflow import keras"
      ],
      "execution_count": 3,
      "outputs": []
    },
    {
      "cell_type": "code",
      "metadata": {
        "colab": {
          "base_uri": "https://localhost:8080/",
          "height": 35
        },
        "id": "hourrwKhtzsa",
        "outputId": "8b0ea8ea-20d0-4e52-ded0-502657c65ace"
      },
      "source": [
        "tf.__version__"
      ],
      "execution_count": 4,
      "outputs": [
        {
          "output_type": "execute_result",
          "data": {
            "application/vnd.google.colaboratory.intrinsic+json": {
              "type": "string"
            },
            "text/plain": [
              "'2.4.1'"
            ]
          },
          "metadata": {
            "tags": []
          },
          "execution_count": 4
        }
      ]
    },
    {
      "cell_type": "code",
      "metadata": {
        "colab": {
          "base_uri": "https://localhost:8080/",
          "height": 35
        },
        "id": "CFv3MJLXt1kf",
        "outputId": "b9ec197e-5c6a-47ac-e52d-7440cc84ec31"
      },
      "source": [
        "keras.__version__"
      ],
      "execution_count": 5,
      "outputs": [
        {
          "output_type": "execute_result",
          "data": {
            "application/vnd.google.colaboratory.intrinsic+json": {
              "type": "string"
            },
            "text/plain": [
              "'2.4.0'"
            ]
          },
          "metadata": {
            "tags": []
          },
          "execution_count": 5
        }
      ]
    },
    {
      "cell_type": "markdown",
      "metadata": {
        "id": "HUaqLVmw1iRB"
      },
      "source": [
        "# **Exercise 2**"
      ]
    },
    {
      "cell_type": "code",
      "metadata": {
        "id": "Uz24g-yat3_f"
      },
      "source": [
        "fashion_mnist = keras.datasets.fashion_mnist\n",
        "(X_train_full, Y_train_full), (X_test, Y_test) = fashion_mnist.load_data()"
      ],
      "execution_count": 6,
      "outputs": []
    },
    {
      "cell_type": "code",
      "metadata": {
        "colab": {
          "base_uri": "https://localhost:8080/"
        },
        "id": "Vt3k4Z7BuOaB",
        "outputId": "f7786042-e6d0-4390-d1e9-ecb410e7146a"
      },
      "source": [
        "X_train_full.shape"
      ],
      "execution_count": 7,
      "outputs": [
        {
          "output_type": "execute_result",
          "data": {
            "text/plain": [
              "(60000, 28, 28)"
            ]
          },
          "metadata": {
            "tags": []
          },
          "execution_count": 7
        }
      ]
    },
    {
      "cell_type": "code",
      "metadata": {
        "colab": {
          "base_uri": "https://localhost:8080/"
        },
        "id": "TOZ4gzeju6pD",
        "outputId": "0fc0d2de-55ff-4f2c-e71d-386cfc298fd9"
      },
      "source": [
        "X_train_full.dtype"
      ],
      "execution_count": 8,
      "outputs": [
        {
          "output_type": "execute_result",
          "data": {
            "text/plain": [
              "dtype('uint8')"
            ]
          },
          "metadata": {
            "tags": []
          },
          "execution_count": 8
        }
      ]
    },
    {
      "cell_type": "code",
      "metadata": {
        "id": "Zl0H8mkHvAI_"
      },
      "source": [
        "X_valid, X_train = X_train_full[:5000] / 255, X_train_full[5000:] / 255\n",
        "Y_valid, Y_train = Y_train_full[:5000], Y_train_full[5000:]"
      ],
      "execution_count": 9,
      "outputs": []
    },
    {
      "cell_type": "code",
      "metadata": {
        "id": "3aIk7WqfvOu9"
      },
      "source": [
        "class_name = [\"T-shirt/top\", \"Trouser\", \"Pullover\", \"Dress\", \"Coat\", \"Sandal\",\n",
        "              \"Shirt\", \"Sneaker\", \"Bag\", \"Ankle boot\"]"
      ],
      "execution_count": 10,
      "outputs": []
    },
    {
      "cell_type": "code",
      "metadata": {
        "colab": {
          "base_uri": "https://localhost:8080/"
        },
        "id": "eELjbrEYv-Vg",
        "outputId": "2887ed57-1f13-4e36-8297-f4984e421e0b"
      },
      "source": [
        "Y_train[0]"
      ],
      "execution_count": 11,
      "outputs": [
        {
          "output_type": "execute_result",
          "data": {
            "text/plain": [
              "4"
            ]
          },
          "metadata": {
            "tags": []
          },
          "execution_count": 11
        }
      ]
    },
    {
      "cell_type": "code",
      "metadata": {
        "colab": {
          "base_uri": "https://localhost:8080/",
          "height": 35
        },
        "id": "l1fRXyO5wE-1",
        "outputId": "84366804-38b1-46fb-87b9-b41ed81474a6"
      },
      "source": [
        "class_name[Y_train[0]]"
      ],
      "execution_count": 12,
      "outputs": [
        {
          "output_type": "execute_result",
          "data": {
            "application/vnd.google.colaboratory.intrinsic+json": {
              "type": "string"
            },
            "text/plain": [
              "'Coat'"
            ]
          },
          "metadata": {
            "tags": []
          },
          "execution_count": 12
        }
      ]
    },
    {
      "cell_type": "markdown",
      "metadata": {
        "id": "8FyAZisiw-Og"
      },
      "source": [
        "# **Exercise 3**"
      ]
    },
    {
      "cell_type": "code",
      "metadata": {
        "id": "NcvSBW-IwIN2"
      },
      "source": [
        "model = keras.models.Sequential()\n",
        "model.add(keras.layers.Flatten(input_shape=[28, 28]))\n",
        "model.add(keras.layers.Dense(300, activation=\"relu\"))\n",
        "model.add(keras.layers.Dense(100, activation=\"relu\"))\n",
        "model.add(keras.layers.Dense(10, activation=\"softmax\"))"
      ],
      "execution_count": 13,
      "outputs": []
    },
    {
      "cell_type": "code",
      "metadata": {
        "colab": {
          "base_uri": "https://localhost:8080/"
        },
        "id": "5gP0QvPJwoqH",
        "outputId": "6bcc7027-9a73-4620-ae37-81fe0d7be51c"
      },
      "source": [
        "model.summary()"
      ],
      "execution_count": 14,
      "outputs": [
        {
          "output_type": "stream",
          "text": [
            "Model: \"sequential\"\n",
            "_________________________________________________________________\n",
            "Layer (type)                 Output Shape              Param #   \n",
            "=================================================================\n",
            "flatten (Flatten)            (None, 784)               0         \n",
            "_________________________________________________________________\n",
            "dense (Dense)                (None, 300)               235500    \n",
            "_________________________________________________________________\n",
            "dense_1 (Dense)              (None, 100)               30100     \n",
            "_________________________________________________________________\n",
            "dense_2 (Dense)              (None, 10)                1010      \n",
            "=================================================================\n",
            "Total params: 266,610\n",
            "Trainable params: 266,610\n",
            "Non-trainable params: 0\n",
            "_________________________________________________________________\n"
          ],
          "name": "stdout"
        }
      ]
    },
    {
      "cell_type": "code",
      "metadata": {
        "colab": {
          "base_uri": "https://localhost:8080/"
        },
        "id": "iVNlCyhewxcH",
        "outputId": "df658a60-d6c6-403b-ef01-7f9c156e0450"
      },
      "source": [
        "model.layers"
      ],
      "execution_count": 15,
      "outputs": [
        {
          "output_type": "execute_result",
          "data": {
            "text/plain": [
              "[<tensorflow.python.keras.layers.core.Flatten at 0x7f26362bb810>,\n",
              " <tensorflow.python.keras.layers.core.Dense at 0x7f26363f3fd0>,\n",
              " <tensorflow.python.keras.layers.core.Dense at 0x7f2636f4aed0>,\n",
              " <tensorflow.python.keras.layers.core.Dense at 0x7f26378bf950>]"
            ]
          },
          "metadata": {
            "tags": []
          },
          "execution_count": 15
        }
      ]
    },
    {
      "cell_type": "code",
      "metadata": {
        "id": "yBjGCFUMyFGj"
      },
      "source": [
        "hidden1 = model.layers[1]"
      ],
      "execution_count": 16,
      "outputs": []
    },
    {
      "cell_type": "code",
      "metadata": {
        "colab": {
          "base_uri": "https://localhost:8080/",
          "height": 35
        },
        "id": "oO0f4bdtyK9Q",
        "outputId": "e75c62d7-5399-4ba9-af48-caedfb95be20"
      },
      "source": [
        "hidden1.name"
      ],
      "execution_count": 17,
      "outputs": [
        {
          "output_type": "execute_result",
          "data": {
            "application/vnd.google.colaboratory.intrinsic+json": {
              "type": "string"
            },
            "text/plain": [
              "'dense'"
            ]
          },
          "metadata": {
            "tags": []
          },
          "execution_count": 17
        }
      ]
    },
    {
      "cell_type": "code",
      "metadata": {
        "colab": {
          "base_uri": "https://localhost:8080/"
        },
        "id": "cJmD5-QcyNmD",
        "outputId": "f313fccb-572e-49be-a165-dfdf405ffbf3"
      },
      "source": [
        "model.get_layer('dense') is hidden1"
      ],
      "execution_count": 18,
      "outputs": [
        {
          "output_type": "execute_result",
          "data": {
            "text/plain": [
              "True"
            ]
          },
          "metadata": {
            "tags": []
          },
          "execution_count": 18
        }
      ]
    },
    {
      "cell_type": "code",
      "metadata": {
        "colab": {
          "base_uri": "https://localhost:8080/"
        },
        "id": "mtGbXTW3yS5T",
        "outputId": "2e4e4437-1b8b-48d6-99b3-053c7d13ed09"
      },
      "source": [
        "weights, biases = hidden1.get_weights()\n",
        "print(weights)"
      ],
      "execution_count": 19,
      "outputs": [
        {
          "output_type": "stream",
          "text": [
            "[[ 0.01927079 -0.0554423  -0.02095671 ... -0.02502625 -0.01032586\n",
            "  -0.06268987]\n",
            " [-0.02427737  0.0641208  -0.02219892 ... -0.06860738 -0.0140445\n",
            "   0.06741703]\n",
            " [-0.00477266 -0.04463046  0.03013668 ... -0.0563863   0.02192899\n",
            "   0.01267309]\n",
            " ...\n",
            " [-0.02720581 -0.06601004  0.0370452  ...  0.06368567 -0.04085998\n",
            "   0.03060441]\n",
            " [ 0.0741758  -0.00523907  0.06814016 ...  0.06359442 -0.0377525\n",
            "   0.06397732]\n",
            " [ 0.06772937  0.00723843 -0.00757474 ...  0.01961413  0.01292128\n",
            "  -0.03164866]]\n"
          ],
          "name": "stdout"
        }
      ]
    },
    {
      "cell_type": "code",
      "metadata": {
        "colab": {
          "base_uri": "https://localhost:8080/"
        },
        "id": "a5N8tq-Bynkv",
        "outputId": "78abd36c-a8b6-4fbd-eba1-203bd09005d1"
      },
      "source": [
        "weights.shape"
      ],
      "execution_count": 20,
      "outputs": [
        {
          "output_type": "execute_result",
          "data": {
            "text/plain": [
              "(784, 300)"
            ]
          },
          "metadata": {
            "tags": []
          },
          "execution_count": 20
        }
      ]
    },
    {
      "cell_type": "code",
      "metadata": {
        "colab": {
          "base_uri": "https://localhost:8080/"
        },
        "id": "P-JZMxI0ylKh",
        "outputId": "495cc019-ef37-46e3-b04b-c99a3d066602"
      },
      "source": [
        "biases"
      ],
      "execution_count": 21,
      "outputs": [
        {
          "output_type": "execute_result",
          "data": {
            "text/plain": [
              "array([0., 0., 0., 0., 0., 0., 0., 0., 0., 0., 0., 0., 0., 0., 0., 0., 0.,\n",
              "       0., 0., 0., 0., 0., 0., 0., 0., 0., 0., 0., 0., 0., 0., 0., 0., 0.,\n",
              "       0., 0., 0., 0., 0., 0., 0., 0., 0., 0., 0., 0., 0., 0., 0., 0., 0.,\n",
              "       0., 0., 0., 0., 0., 0., 0., 0., 0., 0., 0., 0., 0., 0., 0., 0., 0.,\n",
              "       0., 0., 0., 0., 0., 0., 0., 0., 0., 0., 0., 0., 0., 0., 0., 0., 0.,\n",
              "       0., 0., 0., 0., 0., 0., 0., 0., 0., 0., 0., 0., 0., 0., 0., 0., 0.,\n",
              "       0., 0., 0., 0., 0., 0., 0., 0., 0., 0., 0., 0., 0., 0., 0., 0., 0.,\n",
              "       0., 0., 0., 0., 0., 0., 0., 0., 0., 0., 0., 0., 0., 0., 0., 0., 0.,\n",
              "       0., 0., 0., 0., 0., 0., 0., 0., 0., 0., 0., 0., 0., 0., 0., 0., 0.,\n",
              "       0., 0., 0., 0., 0., 0., 0., 0., 0., 0., 0., 0., 0., 0., 0., 0., 0.,\n",
              "       0., 0., 0., 0., 0., 0., 0., 0., 0., 0., 0., 0., 0., 0., 0., 0., 0.,\n",
              "       0., 0., 0., 0., 0., 0., 0., 0., 0., 0., 0., 0., 0., 0., 0., 0., 0.,\n",
              "       0., 0., 0., 0., 0., 0., 0., 0., 0., 0., 0., 0., 0., 0., 0., 0., 0.,\n",
              "       0., 0., 0., 0., 0., 0., 0., 0., 0., 0., 0., 0., 0., 0., 0., 0., 0.,\n",
              "       0., 0., 0., 0., 0., 0., 0., 0., 0., 0., 0., 0., 0., 0., 0., 0., 0.,\n",
              "       0., 0., 0., 0., 0., 0., 0., 0., 0., 0., 0., 0., 0., 0., 0., 0., 0.,\n",
              "       0., 0., 0., 0., 0., 0., 0., 0., 0., 0., 0., 0., 0., 0., 0., 0., 0.,\n",
              "       0., 0., 0., 0., 0., 0., 0., 0., 0., 0., 0.], dtype=float32)"
            ]
          },
          "metadata": {
            "tags": []
          },
          "execution_count": 21
        }
      ]
    },
    {
      "cell_type": "code",
      "metadata": {
        "colab": {
          "base_uri": "https://localhost:8080/"
        },
        "id": "A1SOq4gFzL0m",
        "outputId": "194b8586-8b44-4544-f7c8-a1712e998b5f"
      },
      "source": [
        "biases.shape"
      ],
      "execution_count": 22,
      "outputs": [
        {
          "output_type": "execute_result",
          "data": {
            "text/plain": [
              "(300,)"
            ]
          },
          "metadata": {
            "tags": []
          },
          "execution_count": 22
        }
      ]
    },
    {
      "cell_type": "markdown",
      "metadata": {
        "id": "NEQRTkdq1Yas"
      },
      "source": [
        "# **Exercise 4**"
      ]
    },
    {
      "cell_type": "code",
      "metadata": {
        "id": "w9Dd8erIzOoA"
      },
      "source": [
        "model.compile(loss = 'sparse_categorical_crossentropy', optimizer = 'sgd', \n",
        "              metrics=['accuracy'])"
      ],
      "execution_count": 23,
      "outputs": []
    },
    {
      "cell_type": "code",
      "metadata": {
        "colab": {
          "base_uri": "https://localhost:8080/"
        },
        "id": "fSyXeHEEzmCS",
        "outputId": "49bd7b0a-64bd-404b-a0bb-bdb11004ea37"
      },
      "source": [
        "history = model.fit(X_train, Y_train, epochs = 30, validation_data = (X_valid,\n",
        "                                                                      Y_valid))"
      ],
      "execution_count": 24,
      "outputs": [
        {
          "output_type": "stream",
          "text": [
            "Epoch 1/30\n",
            "1719/1719 [==============================] - 5s 2ms/step - loss: 0.9977 - accuracy: 0.6802 - val_loss: 0.5300 - val_accuracy: 0.8094\n",
            "Epoch 2/30\n",
            "1719/1719 [==============================] - 4s 2ms/step - loss: 0.5041 - accuracy: 0.8237 - val_loss: 0.4590 - val_accuracy: 0.8408\n",
            "Epoch 3/30\n",
            "1719/1719 [==============================] - 4s 2ms/step - loss: 0.4508 - accuracy: 0.8399 - val_loss: 0.4309 - val_accuracy: 0.8498\n",
            "Epoch 4/30\n",
            "1719/1719 [==============================] - 4s 2ms/step - loss: 0.4198 - accuracy: 0.8543 - val_loss: 0.4055 - val_accuracy: 0.8614\n",
            "Epoch 5/30\n",
            "1719/1719 [==============================] - 4s 2ms/step - loss: 0.4001 - accuracy: 0.8577 - val_loss: 0.3950 - val_accuracy: 0.8636\n",
            "Epoch 6/30\n",
            "1719/1719 [==============================] - 4s 2ms/step - loss: 0.3800 - accuracy: 0.8648 - val_loss: 0.3957 - val_accuracy: 0.8614\n",
            "Epoch 7/30\n",
            "1719/1719 [==============================] - 4s 2ms/step - loss: 0.3740 - accuracy: 0.8652 - val_loss: 0.3544 - val_accuracy: 0.8756\n",
            "Epoch 8/30\n",
            "1719/1719 [==============================] - 4s 2ms/step - loss: 0.3549 - accuracy: 0.8747 - val_loss: 0.3792 - val_accuracy: 0.8668\n",
            "Epoch 9/30\n",
            "1719/1719 [==============================] - 4s 2ms/step - loss: 0.3489 - accuracy: 0.8759 - val_loss: 0.3716 - val_accuracy: 0.8684\n",
            "Epoch 10/30\n",
            "1719/1719 [==============================] - 4s 2ms/step - loss: 0.3328 - accuracy: 0.8816 - val_loss: 0.3519 - val_accuracy: 0.8744\n",
            "Epoch 11/30\n",
            "1719/1719 [==============================] - 4s 2ms/step - loss: 0.3312 - accuracy: 0.8814 - val_loss: 0.3571 - val_accuracy: 0.8734\n",
            "Epoch 12/30\n",
            "1719/1719 [==============================] - 4s 2ms/step - loss: 0.3181 - accuracy: 0.8860 - val_loss: 0.3280 - val_accuracy: 0.8860\n",
            "Epoch 13/30\n",
            "1719/1719 [==============================] - 4s 2ms/step - loss: 0.3118 - accuracy: 0.8880 - val_loss: 0.3272 - val_accuracy: 0.8814\n",
            "Epoch 14/30\n",
            "1719/1719 [==============================] - 4s 2ms/step - loss: 0.3054 - accuracy: 0.8903 - val_loss: 0.3252 - val_accuracy: 0.8802\n",
            "Epoch 15/30\n",
            "1719/1719 [==============================] - 4s 2ms/step - loss: 0.2969 - accuracy: 0.8939 - val_loss: 0.3190 - val_accuracy: 0.8860\n",
            "Epoch 16/30\n",
            "1719/1719 [==============================] - 4s 2ms/step - loss: 0.2901 - accuracy: 0.8947 - val_loss: 0.3261 - val_accuracy: 0.8824\n",
            "Epoch 17/30\n",
            "1719/1719 [==============================] - 4s 2ms/step - loss: 0.2846 - accuracy: 0.8961 - val_loss: 0.3081 - val_accuracy: 0.8876\n",
            "Epoch 18/30\n",
            "1719/1719 [==============================] - 4s 2ms/step - loss: 0.2791 - accuracy: 0.8996 - val_loss: 0.3186 - val_accuracy: 0.8846\n",
            "Epoch 19/30\n",
            "1719/1719 [==============================] - 4s 2ms/step - loss: 0.2777 - accuracy: 0.8992 - val_loss: 0.3098 - val_accuracy: 0.8874\n",
            "Epoch 20/30\n",
            "1719/1719 [==============================] - 4s 2ms/step - loss: 0.2673 - accuracy: 0.9023 - val_loss: 0.3186 - val_accuracy: 0.8840\n",
            "Epoch 21/30\n",
            "1719/1719 [==============================] - 4s 2ms/step - loss: 0.2629 - accuracy: 0.9048 - val_loss: 0.3218 - val_accuracy: 0.8842\n",
            "Epoch 22/30\n",
            "1719/1719 [==============================] - 4s 2ms/step - loss: 0.2622 - accuracy: 0.9050 - val_loss: 0.3158 - val_accuracy: 0.8852\n",
            "Epoch 23/30\n",
            "1719/1719 [==============================] - 4s 2ms/step - loss: 0.2517 - accuracy: 0.9102 - val_loss: 0.3187 - val_accuracy: 0.8794\n",
            "Epoch 24/30\n",
            "1719/1719 [==============================] - 4s 2ms/step - loss: 0.2499 - accuracy: 0.9089 - val_loss: 0.3085 - val_accuracy: 0.8880\n",
            "Epoch 25/30\n",
            "1719/1719 [==============================] - 4s 2ms/step - loss: 0.2485 - accuracy: 0.9092 - val_loss: 0.3190 - val_accuracy: 0.8828\n",
            "Epoch 26/30\n",
            "1719/1719 [==============================] - 4s 2ms/step - loss: 0.2449 - accuracy: 0.9115 - val_loss: 0.2916 - val_accuracy: 0.8930\n",
            "Epoch 27/30\n",
            "1719/1719 [==============================] - 4s 2ms/step - loss: 0.2363 - accuracy: 0.9157 - val_loss: 0.2953 - val_accuracy: 0.8938\n",
            "Epoch 28/30\n",
            "1719/1719 [==============================] - 4s 2ms/step - loss: 0.2347 - accuracy: 0.9138 - val_loss: 0.2952 - val_accuracy: 0.8906\n",
            "Epoch 29/30\n",
            "1719/1719 [==============================] - 4s 2ms/step - loss: 0.2312 - accuracy: 0.9177 - val_loss: 0.3000 - val_accuracy: 0.8936\n",
            "Epoch 30/30\n",
            "1719/1719 [==============================] - 4s 2ms/step - loss: 0.2263 - accuracy: 0.9176 - val_loss: 0.2903 - val_accuracy: 0.8944\n"
          ],
          "name": "stdout"
        }
      ]
    },
    {
      "cell_type": "code",
      "metadata": {
        "id": "D0zO31Mw01eB"
      },
      "source": [
        "import pandas as pd\n",
        "import matplotlib.pyplot as plt"
      ],
      "execution_count": 25,
      "outputs": []
    },
    {
      "cell_type": "code",
      "metadata": {
        "colab": {
          "base_uri": "https://localhost:8080/",
          "height": 324
        },
        "id": "-BXQ1Ctz05lb",
        "outputId": "3870c0af-a3ba-45e3-fa14-db1ab6a561bf"
      },
      "source": [
        "pd.DataFrame(history.history).plot(figsize=(8, 5))\n",
        "plt.grid(True)\n",
        "plt.gca().set_ylim(0, 1)\n",
        "plt.show()"
      ],
      "execution_count": 26,
      "outputs": [
        {
          "output_type": "display_data",
          "data": {
            "image/png": "[encoded data removed]",
            "text/plain": [
              "<Figure size 576x360 with 1 Axes>"
            ]
          },
          "metadata": {
            "tags": [],
            "needs_background": "light"
          }
        }
      ]
    },
    {
      "cell_type": "markdown",
      "metadata": {
        "id": "SaagOSn91n0j"
      },
      "source": [
        "# **Exercise 5**"
      ]
    },
    {
      "cell_type": "code",
      "metadata": {
        "colab": {
          "base_uri": "https://localhost:8080/"
        },
        "id": "DhfIKEtw1USe",
        "outputId": "b5a21883-f361-4464-bd0e-09669c705bcc"
      },
      "source": [
        "model.evaluate(X_test, Y_test)"
      ],
      "execution_count": 27,
      "outputs": [
        {
          "output_type": "stream",
          "text": [
            "313/313 [==============================] - 1s 2ms/step - loss: 66.5925 - accuracy: 0.8441\n"
          ],
          "name": "stdout"
        },
        {
          "output_type": "execute_result",
          "data": {
            "text/plain": [
              "[66.59252166748047, 0.8440999984741211]"
            ]
          },
          "metadata": {
            "tags": []
          },
          "execution_count": 27
        }
      ]
    },
    {
      "cell_type": "code",
      "metadata": {
        "colab": {
          "base_uri": "https://localhost:8080/"
        },
        "id": "9wlzhPLQ17pE",
        "outputId": "217573ea-21a7-4a04-f33b-3caf1e04a314"
      },
      "source": [
        "X_new = X_test[:3]\n",
        "y_proba = model.predict(X_new)\n",
        "y_proba.round(2)"
      ],
      "execution_count": 28,
      "outputs": [
        {
          "output_type": "execute_result",
          "data": {
            "text/plain": [
              "array([[0., 0., 0., 0., 0., 0., 0., 0., 0., 1.],\n",
              "       [0., 0., 1., 0., 0., 0., 0., 0., 0., 0.],\n",
              "       [0., 1., 0., 0., 0., 0., 0., 0., 0., 0.]], dtype=float32)"
            ]
          },
          "metadata": {
            "tags": []
          },
          "execution_count": 28
        }
      ]
    },
    {
      "cell_type": "code",
      "metadata": {
        "colab": {
          "base_uri": "https://localhost:8080/"
        },
        "id": "l07fw1kc2IrR",
        "outputId": "3da04f31-e466-40e3-d3c0-31adc0fedeb9"
      },
      "source": [
        "Y_pred = model.predict_classes(X_new)\n",
        "print(Y_pred)"
      ],
      "execution_count": 29,
      "outputs": [
        {
          "output_type": "stream",
          "text": [
            "[9 2 1]\n"
          ],
          "name": "stdout"
        },
        {
          "output_type": "stream",
          "text": [
            "/usr/local/lib/python3.7/dist-packages/tensorflow/python/keras/engine/sequential.py:450: UserWarning: `model.predict_classes()` is deprecated and will be removed after 2021-01-01. Please use instead:* `np.argmax(model.predict(x), axis=-1)`,   if your model does multi-class classification   (e.g. if it uses a `softmax` last-layer activation).* `(model.predict(x) > 0.5).astype(\"int32\")`,   if your model does binary classification   (e.g. if it uses a `sigmoid` last-layer activation).\n",
            "  warnings.warn('`model.predict_classes()` is deprecated and '\n"
          ],
          "name": "stderr"
        }
      ]
    },
    {
      "cell_type": "code",
      "metadata": {
        "colab": {
          "base_uri": "https://localhost:8080/"
        },
        "id": "L7qpdEbx2fXu",
        "outputId": "6d4b4a09-a185-48aa-be44-5a76882076bd"
      },
      "source": [
        "import numpy as np\n",
        "print(np.array(class_name)[Y_pred])"
      ],
      "execution_count": 30,
      "outputs": [
        {
          "output_type": "stream",
          "text": [
            "['Ankle boot' 'Pullover' 'Trouser']\n"
          ],
          "name": "stdout"
        }
      ]
    },
    {
      "cell_type": "code",
      "metadata": {
        "colab": {
          "base_uri": "https://localhost:8080/"
        },
        "id": "kRTXv79w2wRe",
        "outputId": "0959b6eb-e2b7-4c4d-fdca-0ecda81810d3"
      },
      "source": [
        "Y_new = Y_test[:3]\n",
        "Y_new"
      ],
      "execution_count": 31,
      "outputs": [
        {
          "output_type": "execute_result",
          "data": {
            "text/plain": [
              "array([9, 2, 1], dtype=uint8)"
            ]
          },
          "metadata": {
            "tags": []
          },
          "execution_count": 31
        }
      ]
    },
    {
      "cell_type": "markdown",
      "metadata": {
        "id": "QfE8l5De24eg"
      },
      "source": [
        "# **Exercise 6**"
      ]
    },
    {
      "cell_type": "code",
      "metadata": {
        "colab": {
          "base_uri": "https://localhost:8080/"
        },
        "id": "jmt-zVjl267B",
        "outputId": "d75beeee-6686-4fd2-e476-00e2db2bde9a"
      },
      "source": [
        "from sklearn.datasets import fetch_california_housing\n",
        "from sklearn.model_selection import train_test_split\n",
        "from sklearn.preprocessing import StandardScaler\n",
        "housing = fetch_california_housing()"
      ],
      "execution_count": 32,
      "outputs": [
        {
          "output_type": "stream",
          "text": [
            "Downloading Cal. housing from https://ndownloader.figshare.com/files/5976036 to /root/scikit_learn_data\n"
          ],
          "name": "stderr"
        }
      ]
    },
    {
      "cell_type": "code",
      "metadata": {
        "id": "DmRfWEs-30hI"
      },
      "source": [
        "X_train_full, X_test, Y_train_full, Y_test = train_test_split(housing.data, \n",
        "                                                              housing.target)\n",
        "X_train, X_valid, Y_train, Y_valid = train_test_split(X_train_full, \n",
        "                                                      Y_train_full)\n",
        "scaler = StandardScaler()\n",
        "X_train = scaler.fit_transform(X_train)\n",
        "X_valid = scaler.transform(X_valid)\n",
        "X_test = scaler.transform(X_test)"
      ],
      "execution_count": 33,
      "outputs": []
    },
    {
      "cell_type": "code",
      "metadata": {
        "colab": {
          "base_uri": "https://localhost:8080/"
        },
        "id": "mqpFck2847gB",
        "outputId": "1d99775f-4db5-4feb-b99b-46b760c90da9"
      },
      "source": [
        "model = keras.models.Sequential([keras.layers.Dense(30, activation = \"relu\", \n",
        "                                 input_shape = X_train.shape[1:]),\n",
        "                                 keras.layers.Dense(1)])\n",
        "model.compile(loss=\"mean_squared_error\", optimizer='sgd')\n",
        "history = model.fit(X_train, Y_train, epochs = 20, \n",
        "                    validation_data = (X_valid, Y_valid))\n",
        "mse_test = model.evaluate(X_test, Y_test)\n",
        "X_new = X_test[:3]\n",
        "Y_pred = model.predict(X_new)"
      ],
      "execution_count": 34,
      "outputs": [
        {
          "output_type": "stream",
          "text": [
            "Epoch 1/20\n",
            "363/363 [==============================] - 1s 2ms/step - loss: 1.2858 - val_loss: 0.5891\n",
            "Epoch 2/20\n",
            "363/363 [==============================] - 1s 2ms/step - loss: 0.5786 - val_loss: 0.5010\n",
            "Epoch 3/20\n",
            "363/363 [==============================] - 1s 2ms/step - loss: 0.5053 - val_loss: 0.4735\n",
            "Epoch 4/20\n",
            "363/363 [==============================] - 1s 2ms/step - loss: 0.4981 - val_loss: 0.4610\n",
            "Epoch 5/20\n",
            "363/363 [==============================] - 1s 2ms/step - loss: 0.4671 - val_loss: 0.4428\n",
            "Epoch 6/20\n",
            "363/363 [==============================] - 1s 2ms/step - loss: 0.4431 - val_loss: 0.4333\n",
            "Epoch 7/20\n",
            "363/363 [==============================] - 1s 2ms/step - loss: 0.4509 - val_loss: 0.4268\n",
            "Epoch 8/20\n",
            "363/363 [==============================] - 1s 2ms/step - loss: 0.4374 - val_loss: 0.4257\n",
            "Epoch 9/20\n",
            "363/363 [==============================] - 1s 2ms/step - loss: 0.4305 - val_loss: 0.4190\n",
            "Epoch 10/20\n",
            "363/363 [==============================] - 1s 2ms/step - loss: 0.4628 - val_loss: 0.4138\n",
            "Epoch 11/20\n",
            "363/363 [==============================] - 1s 2ms/step - loss: 0.4553 - val_loss: 0.4127\n",
            "Epoch 12/20\n",
            "363/363 [==============================] - 1s 2ms/step - loss: 0.4166 - val_loss: 0.4042\n",
            "Epoch 13/20\n",
            "363/363 [==============================] - 1s 2ms/step - loss: 0.4248 - val_loss: 0.4005\n",
            "Epoch 14/20\n",
            "363/363 [==============================] - 1s 2ms/step - loss: 0.4129 - val_loss: 0.3926\n",
            "Epoch 15/20\n",
            "363/363 [==============================] - 1s 2ms/step - loss: 0.4246 - val_loss: 0.3868\n",
            "Epoch 16/20\n",
            "363/363 [==============================] - 1s 2ms/step - loss: 0.4124 - val_loss: 0.3955\n",
            "Epoch 17/20\n",
            "363/363 [==============================] - 1s 2ms/step - loss: 0.4202 - val_loss: 0.3856\n",
            "Epoch 18/20\n",
            "363/363 [==============================] - 1s 2ms/step - loss: 0.4074 - val_loss: 0.3795\n",
            "Epoch 19/20\n",
            "363/363 [==============================] - 1s 2ms/step - loss: 0.4190 - val_loss: 0.3853\n",
            "Epoch 20/20\n",
            "363/363 [==============================] - 1s 2ms/step - loss: 0.4076 - val_loss: 0.3832\n",
            "162/162 [==============================] - 0s 1ms/step - loss: 0.3748\n"
          ],
          "name": "stdout"
        }
      ]
    },
    {
      "cell_type": "markdown",
      "metadata": {
        "id": "dQtocl496d43"
      },
      "source": [
        "# **Exercise 7**"
      ]
    },
    {
      "cell_type": "code",
      "metadata": {
        "id": "yr0YJg3H6a0O"
      },
      "source": [
        "input_ = keras.layers.Input(shape=X_train.shape[1:])\n",
        "hidden1 = keras.layers.Dense(30, activation = \"relu\")(input_)\n",
        "hidden2 = keras.layers.Dense(30, activation = \"relu\")(hidden1)\n",
        "concat = keras.layers.Concatenate()([input_, hidden2])\n",
        "output = keras.layers.Dense(1)(concat)\n",
        "model = keras.Model(inputs = [input_], outputs = [output])"
      ],
      "execution_count": 35,
      "outputs": []
    },
    {
      "cell_type": "code",
      "metadata": {
        "id": "nfnEEf_V7Rad"
      },
      "source": [
        "input_A = keras.layers.Input(shape = [5], name = \"wide_input\")\n",
        "input_B = keras.layers.Input(shape = [6], name = \"deep_input\")\n",
        "hidden1 = keras.layers.Dense(30, activation = \"relu\")(input_B)\n",
        "hidden2 = keras.layers.Dense(30, activation = \"relu\")(hidden1)\n",
        "concat = keras.layers.concatenate([input_A, hidden2])\n",
        "output = keras.layers.Dense(1, name = \"output\")(concat)\n",
        "model = keras.Model(inputs = [input_A, input_B], outputs = [output])"
      ],
      "execution_count": 36,
      "outputs": []
    },
    {
      "cell_type": "code",
      "metadata": {
        "colab": {
          "base_uri": "https://localhost:8080/"
        },
        "id": "DB8aKIEC8kwM",
        "outputId": "9ef3c34d-19fc-4c81-9aab-bacf492177d0"
      },
      "source": [
        "model.compile(loss=\"mse\", optimizer=keras.optimizers.SGD(lr = 1e-3))\n",
        "X_train_A, X_train_B = X_train[:, :5], X_train[:, 2:]\n",
        "X_valid_A, X_valid_B = X_valid[:, :5], X_valid[:, 2:]\n",
        "X_test_A, X_test_B = X_test[:, :5], X_test[:, 2:]\n",
        "X_new_A, X_new_B = X_test_A[:3], X_test_B[:3]\n",
        "history = model.fit((X_train_A, X_train_B), Y_train, epochs = 20, \n",
        "                    validation_data = ((X_valid_A, X_valid_B),Y_valid))\n",
        "mse_test = model.evaluate((X_test_A, X_test_B), Y_test)\n",
        "y_pred = model.predict((X_new_A, X_new_B))"
      ],
      "execution_count": 37,
      "outputs": [
        {
          "output_type": "stream",
          "text": [
            "Epoch 1/20\n",
            "363/363 [==============================] - 1s 3ms/step - loss: 3.6133 - val_loss: 1.0137\n",
            "Epoch 2/20\n",
            "363/363 [==============================] - 1s 2ms/step - loss: 0.8955 - val_loss: 0.8043\n",
            "Epoch 3/20\n",
            "363/363 [==============================] - 1s 2ms/step - loss: 0.7569 - val_loss: 0.7263\n",
            "Epoch 4/20\n",
            "363/363 [==============================] - 1s 2ms/step - loss: 0.6961 - val_loss: 0.6810\n",
            "Epoch 5/20\n",
            "363/363 [==============================] - 1s 2ms/step - loss: 0.6826 - val_loss: 0.6473\n",
            "Epoch 6/20\n",
            "363/363 [==============================] - 1s 2ms/step - loss: 0.6289 - val_loss: 0.6206\n",
            "Epoch 7/20\n",
            "363/363 [==============================] - 1s 2ms/step - loss: 0.5998 - val_loss: 0.5998\n",
            "Epoch 8/20\n",
            "363/363 [==============================] - 1s 2ms/step - loss: 0.5727 - val_loss: 0.5813\n",
            "Epoch 9/20\n",
            "363/363 [==============================] - 1s 2ms/step - loss: 0.5793 - val_loss: 0.5664\n",
            "Epoch 10/20\n",
            "363/363 [==============================] - 1s 2ms/step - loss: 0.5662 - val_loss: 0.5536\n",
            "Epoch 11/20\n",
            "363/363 [==============================] - 1s 2ms/step - loss: 0.5573 - val_loss: 0.5436\n",
            "Epoch 12/20\n",
            "363/363 [==============================] - 1s 2ms/step - loss: 0.5618 - val_loss: 0.5336\n",
            "Epoch 13/20\n",
            "363/363 [==============================] - 1s 2ms/step - loss: 0.5255 - val_loss: 0.5255\n",
            "Epoch 14/20\n",
            "363/363 [==============================] - 1s 2ms/step - loss: 0.5434 - val_loss: 0.5181\n",
            "Epoch 15/20\n",
            "363/363 [==============================] - 1s 2ms/step - loss: 0.5284 - val_loss: 0.5122\n",
            "Epoch 16/20\n",
            "363/363 [==============================] - 1s 2ms/step - loss: 0.5210 - val_loss: 0.5065\n",
            "Epoch 17/20\n",
            "363/363 [==============================] - 1s 2ms/step - loss: 0.5378 - val_loss: 0.5018\n",
            "Epoch 18/20\n",
            "363/363 [==============================] - 1s 2ms/step - loss: 0.5217 - val_loss: 0.4981\n",
            "Epoch 19/20\n",
            "363/363 [==============================] - 1s 2ms/step - loss: 0.5118 - val_loss: 0.4954\n",
            "Epoch 20/20\n",
            "363/363 [==============================] - 1s 2ms/step - loss: 0.4982 - val_loss: 0.4896\n",
            "162/162 [==============================] - 0s 1ms/step - loss: 0.4677\n"
          ],
          "name": "stdout"
        }
      ]
    },
    {
      "cell_type": "code",
      "metadata": {
        "id": "zAzipOs-_NPz"
      },
      "source": [
        "output = keras.layers.Dense(1, name = \"main_output\")(concat)\n",
        "aux_output = keras.layers.Dense(1, name = \"aux_output\")(hidden2)\n",
        "model = keras.Model(inputs = [input_A, input_B], outputs = [output, aux_output])"
      ],
      "execution_count": 39,
      "outputs": []
    },
    {
      "cell_type": "code",
      "metadata": {
        "colab": {
          "base_uri": "https://localhost:8080/"
        },
        "id": "GPMhNyWg_g_6",
        "outputId": "f9bf2d05-b988-40ff-9d72-333c36175e16"
      },
      "source": [
        "model.compile(loss = ['mse', 'mse'], loss_weights = [0.9, 0.1], optimizer = 'sgd')\n",
        "history = model.fit([X_train_A, X_train_B], [Y_train, Y_train], epochs = 20,\n",
        "                    validation_data = ([X_valid_A, X_valid_B], [Y_valid, Y_valid]))"
      ],
      "execution_count": 41,
      "outputs": [
        {
          "output_type": "stream",
          "text": [
            "Epoch 1/20\n",
            "363/363 [==============================] - 2s 4ms/step - loss: 0.3812 - main_output_loss: 0.3646 - aux_output_loss: 0.5304 - val_loss: 0.3684 - val_main_output_loss: 0.3525 - val_aux_output_loss: 0.5107\n",
            "Epoch 2/20\n",
            "363/363 [==============================] - 1s 3ms/step - loss: 0.3757 - main_output_loss: 0.3596 - aux_output_loss: 0.5205 - val_loss: 0.3665 - val_main_output_loss: 0.3508 - val_aux_output_loss: 0.5073\n",
            "Epoch 3/20\n",
            "363/363 [==============================] - 1s 3ms/step - loss: 0.3623 - main_output_loss: 0.3473 - aux_output_loss: 0.4974 - val_loss: 0.3590 - val_main_output_loss: 0.3441 - val_aux_output_loss: 0.4935\n",
            "Epoch 4/20\n",
            "363/363 [==============================] - 1s 3ms/step - loss: 0.3621 - main_output_loss: 0.3476 - aux_output_loss: 0.4922 - val_loss: 0.3549 - val_main_output_loss: 0.3399 - val_aux_output_loss: 0.4897\n",
            "Epoch 5/20\n",
            "363/363 [==============================] - 1s 3ms/step - loss: 0.3704 - main_output_loss: 0.3568 - aux_output_loss: 0.4921 - val_loss: 0.3538 - val_main_output_loss: 0.3396 - val_aux_output_loss: 0.4814\n",
            "Epoch 6/20\n",
            "363/363 [==============================] - 1s 3ms/step - loss: 0.3679 - main_output_loss: 0.3546 - aux_output_loss: 0.4877 - val_loss: 0.3829 - val_main_output_loss: 0.3709 - val_aux_output_loss: 0.4909\n",
            "Epoch 7/20\n",
            "363/363 [==============================] - 1s 3ms/step - loss: 0.3705 - main_output_loss: 0.3576 - aux_output_loss: 0.4862 - val_loss: 0.3584 - val_main_output_loss: 0.3448 - val_aux_output_loss: 0.4813\n",
            "Epoch 8/20\n",
            "363/363 [==============================] - 1s 3ms/step - loss: 0.3555 - main_output_loss: 0.3425 - aux_output_loss: 0.4728 - val_loss: 0.3454 - val_main_output_loss: 0.3323 - val_aux_output_loss: 0.4633\n",
            "Epoch 9/20\n",
            "363/363 [==============================] - 1s 3ms/step - loss: 0.3695 - main_output_loss: 0.3586 - aux_output_loss: 0.4676 - val_loss: 0.3474 - val_main_output_loss: 0.3343 - val_aux_output_loss: 0.4647\n",
            "Epoch 10/20\n",
            "363/363 [==============================] - 1s 3ms/step - loss: 0.3352 - main_output_loss: 0.3232 - aux_output_loss: 0.4429 - val_loss: 0.3612 - val_main_output_loss: 0.3497 - val_aux_output_loss: 0.4649\n",
            "Epoch 11/20\n",
            "363/363 [==============================] - 1s 3ms/step - loss: 0.3445 - main_output_loss: 0.3327 - aux_output_loss: 0.4506 - val_loss: 0.3436 - val_main_output_loss: 0.3313 - val_aux_output_loss: 0.4546\n",
            "Epoch 12/20\n",
            "363/363 [==============================] - 1s 3ms/step - loss: 0.3545 - main_output_loss: 0.3442 - aux_output_loss: 0.4467 - val_loss: 0.3506 - val_main_output_loss: 0.3398 - val_aux_output_loss: 0.4476\n",
            "Epoch 13/20\n",
            "363/363 [==============================] - 1s 3ms/step - loss: 0.3511 - main_output_loss: 0.3393 - aux_output_loss: 0.4571 - val_loss: 0.3608 - val_main_output_loss: 0.3493 - val_aux_output_loss: 0.4637\n",
            "Epoch 14/20\n",
            "363/363 [==============================] - 1s 3ms/step - loss: 0.3317 - main_output_loss: 0.3203 - aux_output_loss: 0.4344 - val_loss: 0.3433 - val_main_output_loss: 0.3311 - val_aux_output_loss: 0.4534\n",
            "Epoch 15/20\n",
            "363/363 [==============================] - 1s 3ms/step - loss: 0.3559 - main_output_loss: 0.3448 - aux_output_loss: 0.4557 - val_loss: 0.3447 - val_main_output_loss: 0.3338 - val_aux_output_loss: 0.4432\n",
            "Epoch 16/20\n",
            "363/363 [==============================] - 1s 3ms/step - loss: 0.3585 - main_output_loss: 0.3480 - aux_output_loss: 0.4539 - val_loss: 0.3457 - val_main_output_loss: 0.3352 - val_aux_output_loss: 0.4396\n",
            "Epoch 17/20\n",
            "363/363 [==============================] - 1s 3ms/step - loss: 0.3408 - main_output_loss: 0.3310 - aux_output_loss: 0.4296 - val_loss: 0.3356 - val_main_output_loss: 0.3242 - val_aux_output_loss: 0.4375\n",
            "Epoch 18/20\n",
            "363/363 [==============================] - 1s 3ms/step - loss: 0.3384 - main_output_loss: 0.3283 - aux_output_loss: 0.4292 - val_loss: 0.3606 - val_main_output_loss: 0.3513 - val_aux_output_loss: 0.4448\n",
            "Epoch 19/20\n",
            "363/363 [==============================] - 1s 3ms/step - loss: 0.3408 - main_output_loss: 0.3308 - aux_output_loss: 0.4308 - val_loss: 0.3392 - val_main_output_loss: 0.3287 - val_aux_output_loss: 0.4345\n",
            "Epoch 20/20\n",
            "363/363 [==============================] - 1s 3ms/step - loss: 0.3388 - main_output_loss: 0.3302 - aux_output_loss: 0.4165 - val_loss: 0.3331 - val_main_output_loss: 0.3228 - val_aux_output_loss: 0.4264\n"
          ],
          "name": "stdout"
        }
      ]
    },
    {
      "cell_type": "code",
      "metadata": {
        "colab": {
          "base_uri": "https://localhost:8080/"
        },
        "id": "oNauySfMAG5o",
        "outputId": "c857c689-7692-40d2-8e1e-978e6bb3881d"
      },
      "source": [
        "total_loss, main_loss, aux_loss = model.evaluate([X_test_A, X_test_B], [Y_test, \n",
        "                                                                        Y_test])"
      ],
      "execution_count": 42,
      "outputs": [
        {
          "output_type": "stream",
          "text": [
            "162/162 [==============================] - 0s 2ms/step - loss: 0.3237 - main_output_loss: 0.3149 - aux_output_loss: 0.4029\n"
          ],
          "name": "stdout"
        }
      ]
    },
    {
      "cell_type": "code",
      "metadata": {
        "id": "RGTrtghPAvk7"
      },
      "source": [
        "Y_pred_main, Y_pred_aux = model.predict([X_new_A, X_new_B])"
      ],
      "execution_count": 43,
      "outputs": []
    }
  ]
}