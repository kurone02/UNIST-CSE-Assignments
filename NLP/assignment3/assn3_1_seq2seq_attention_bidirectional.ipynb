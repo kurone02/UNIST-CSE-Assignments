{
 "cells": [
  {
   "attachments": {},
   "cell_type": "markdown",
   "metadata": {},
   "source": [
    "# **Implementing sequence-to-sequence model with attention**\n",
    "- Please make sure you use GPU by setting the menu: Runtime > change runtime type > GPU"
   ]
  },
  {
   "attachments": {},
   "cell_type": "markdown",
   "metadata": {},
   "source": [
    "## **Preparing Data**"
   ]
  },
  {
   "cell_type": "code",
   "execution_count": 407,
   "metadata": {
    "collapsed": true
   },
   "outputs": [],
   "source": [
    "# !apt install python3.7\n",
    "# !pip install -U torchtext==0.6.0\n",
    "# !python -m spacy download en\n",
    "# !python -m spacy download de"
   ]
  },
  {
   "cell_type": "code",
   "execution_count": 408,
   "metadata": {
    "collapsed": true
   },
   "outputs": [],
   "source": [
    "import torch\n",
    "import torch.nn as nn\n",
    "import torch.optim as optim\n",
    "\n",
    "from torchtext.datasets import Multi30k\n",
    "from torchtext.data import Field, BucketIterator\n",
    "\n",
    "import spacy\n",
    "import numpy as np\n",
    "\n",
    "import random\n",
    "import math\n",
    "import time\n",
    "\n",
    "SEED = 1234\n",
    "\n",
    "random.seed(SEED)\n",
    "np.random.seed(SEED)\n",
    "torch.manual_seed(SEED)\n",
    "torch.cuda.manual_seed(SEED)\n",
    "torch.backends.cudnn.deterministic = True"
   ]
  },
  {
   "attachments": {},
   "cell_type": "markdown",
   "metadata": {},
   "source": [
    "### **Tokenizers**\n",
    "- We convert sentences to individual tokens by using tokenizers.\n",
    "  - e.g. \"good morning!\" becomes [\"good\", \"morning\", \"!\"]\n",
    "- We will use python package `spaCy` for this"
   ]
  },
  {
   "cell_type": "code",
   "execution_count": 409,
   "metadata": {
    "collapsed": true
   },
   "outputs": [],
   "source": [
    "spacy_de = spacy.load('de_core_news_sm')\n",
    "spacy_en = spacy.load('en_core_web_sm')"
   ]
  },
  {
   "cell_type": "code",
   "execution_count": 410,
   "metadata": {
    "collapsed": true
   },
   "outputs": [],
   "source": [
    "def tokenize_de(text):\n",
    "  return [tok.text for tok in spacy_de.tokenizer(text)]\n",
    "\n",
    "def tokenize_en(text):\n",
    "  return [tok.text for tok in spacy_en.tokenizer(text)]"
   ]
  },
  {
   "attachments": {},
   "cell_type": "markdown",
   "metadata": {},
   "source": [
    "We use Field library to process data. By setting batch_first = True, we set the batch dimension comes first."
   ]
  },
  {
   "cell_type": "code",
   "execution_count": 411,
   "metadata": {
    "collapsed": true
   },
   "outputs": [],
   "source": [
    "SRC = Field(tokenize= tokenize_de,\n",
    "            init_token = '<sos>',\n",
    "            eos_token = '<eos>',\n",
    "            lower = True,\n",
    "            batch_first = True)\n",
    "\n",
    "TRG = Field(tokenize= tokenize_en,\n",
    "            init_token = '<sos>',\n",
    "            eos_token = '<eos>',\n",
    "            lower = True,\n",
    "            batch_first = True)"
   ]
  },
  {
   "attachments": {},
   "cell_type": "markdown",
   "metadata": {},
   "source": [
    "We use Multi30k dataset of about 30k English, Deutch, and French sentences, and each sentence has 12 words. We set exts as the langauges for source and target languages."
   ]
  },
  {
   "cell_type": "code",
   "execution_count": 412,
   "metadata": {
    "collapsed": true
   },
   "outputs": [],
   "source": [
    "train_data, valid_data, test_data = Multi30k.splits(exts= ('.de', '.en'),\n",
    "                                                    fields = (SRC, TRG))"
   ]
  },
  {
   "cell_type": "code",
   "execution_count": 413,
   "metadata": {
    "collapsed": true
   },
   "outputs": [
    {
     "name": "stdout",
     "output_type": "stream",
     "text": [
      "Number of training examples: 29000\n",
      "Number of validation examples: 1014\n",
      "Number of testing examples: 1000\n"
     ]
    }
   ],
   "source": [
    "print(f\"Number of training examples: {len(train_data.examples)}\")\n",
    "print(f\"Number of validation examples: {len(valid_data.examples)}\")\n",
    "print(f\"Number of testing examples: {len(test_data.examples)}\")"
   ]
  },
  {
   "cell_type": "code",
   "execution_count": 414,
   "metadata": {
    "collapsed": true
   },
   "outputs": [
    {
     "name": "stdout",
     "output_type": "stream",
     "text": [
      "13\n",
      "8\n",
      "{'src': ['zwei', 'junge', 'weiße', 'männer', 'sind', 'im', 'freien', 'in', 'der', 'nähe', 'vieler', 'büsche', '.'], 'trg': ['two', 'young', ',', 'white', 'males', 'are', 'outside', 'near', 'many', 'bushes', '.']}\n",
      "{'src': ['mehrere', 'männer', 'mit', 'schutzhelmen', 'bedienen', 'ein', 'antriebsradsystem', '.'], 'trg': ['several', 'men', 'in', 'hard', 'hats', 'are', 'operating', 'a', 'giant', 'pulley', 'system', '.']}\n"
     ]
    }
   ],
   "source": [
    "print(len(vars(train_data.examples[0])['src']))\n",
    "print(len(vars(train_data.examples[1])['src']))\n",
    "\n",
    "print(vars(train_data.examples[0]))\n",
    "print(vars(train_data.examples[1]))"
   ]
  },
  {
   "attachments": {},
   "cell_type": "markdown",
   "metadata": {},
   "source": [
    "## **Build Vocabulary**\n",
    "- We use `build_vocab` function to get indexing of tokens. Note that the vocabularies of source and target are different. \n",
    "- We use `min_freq` to have words that appear at least twice in the corpus to add to the vocabulary. So the word that apears only once will convert to <unk> token. \n",
    "- Note that we have to use only training set to build the vocabulary, neither validation nor test set."
   ]
  },
  {
   "cell_type": "code",
   "execution_count": 415,
   "metadata": {
    "collapsed": true
   },
   "outputs": [],
   "source": [
    "SRC.build_vocab(train_data, min_freq = 2)\n",
    "TRG.build_vocab(train_data, min_freq = 2)"
   ]
  },
  {
   "cell_type": "code",
   "execution_count": 416,
   "metadata": {
    "collapsed": true
   },
   "outputs": [
    {
     "name": "stdout",
     "output_type": "stream",
     "text": [
      "Unique tokens in source (de) vocabulary: 7853\n",
      "Unique tokens in target (en) vocabulary: 5893\n"
     ]
    }
   ],
   "source": [
    "print(f\"Unique tokens in source (de) vocabulary: {len(SRC.vocab)}\")\n",
    "print(f\"Unique tokens in target (en) vocabulary: {len(TRG.vocab)}\")"
   ]
  },
  {
   "attachments": {},
   "cell_type": "markdown",
   "metadata": {},
   "source": [
    "### Create the iterators\n",
    "- we use `BucketIterator` to pack tokens as a batch and convert tokens to indices."
   ]
  },
  {
   "cell_type": "code",
   "execution_count": 417,
   "metadata": {
    "collapsed": true
   },
   "outputs": [],
   "source": [
    "# for using GPU\n",
    "device = torch.device('cuda' if torch.cuda.is_available() else 'cpu')"
   ]
  },
  {
   "cell_type": "code",
   "execution_count": 418,
   "metadata": {
    "collapsed": true
   },
   "outputs": [],
   "source": [
    "BATCH_SIZE = 128\n",
    "\n",
    "train_iterator, valid_iterator, test_iterator = BucketIterator.splits(\n",
    "    (train_data, valid_data, test_data),\n",
    "    batch_size = BATCH_SIZE,\n",
    "    device = device\n",
    ")"
   ]
  },
  {
   "attachments": {},
   "cell_type": "markdown",
   "metadata": {},
   "source": [
    "## **Building the Model**"
   ]
  },
  {
   "attachments": {},
   "cell_type": "markdown",
   "metadata": {},
   "source": [
    "### Encoder"
   ]
  },
  {
   "cell_type": "code",
   "execution_count": 419,
   "metadata": {
    "collapsed": true
   },
   "outputs": [],
   "source": [
    "class Encoder(nn.Module):\n",
    "    def __init__(self, input_dim, embedding_dim, encoder_hidden_dim, n_layers,dropout_p):\n",
    "        super().__init__()\n",
    "        \n",
    "        ## TODO: define your model here\n",
    "        self.hidden_dim = encoder_hidden_dim\n",
    "\n",
    "        self.embedding = nn.Embedding(input_dim, embedding_dim)\n",
    "        self.encoder = nn.LSTM(embedding_dim, encoder_hidden_dim, n_layers, batch_first=True, dropout=dropout_p, bidirectional=True)\n",
    "        \n",
    "    def forward(self, x):\n",
    "        \n",
    "        ## TODO: write down the forward step   \n",
    "        # print(x.shape)\n",
    "        embedding = self.embedding(x)\n",
    "        # print(embedding.shape)\n",
    "        output, hidden = self.encoder(embedding)\n",
    "        # print(\"HIDDEN\", hidden[0].shape)\n",
    "        \n",
    "        return output, hidden       "
   ]
  },
  {
   "attachments": {},
   "cell_type": "markdown",
   "metadata": {},
   "source": [
    "### Decoder with attention"
   ]
  },
  {
   "cell_type": "code",
   "execution_count": 420,
   "metadata": {
    "collapsed": true
   },
   "outputs": [],
   "source": [
    "class Decoder(nn.Module):\n",
    "    def __init__(self, output_dim, embedding_dim, encoder_hidden_dim, \n",
    "                    decoder_hidden_dim, n_layers, dropout_p):\n",
    "        super().__init__()\n",
    "        \n",
    "        self.embedding_dim = embedding_dim\n",
    "        self.encoder_hidden_dim = encoder_hidden_dim\n",
    "        self.decoder_hidden_dim = decoder_hidden_dim\n",
    "        self.output_dim = output_dim\n",
    "        \n",
    "        self.embedding = nn.Embedding(output_dim, embedding_dim)\n",
    "        # Times two since we are dealing with bidirectional encoder\n",
    "        self.linear_proj_hidden = nn.Linear(encoder_hidden_dim * 2, decoder_hidden_dim)\n",
    "        self.linear_proj_hidden_attention = nn.Linear(decoder_hidden_dim, encoder_hidden_dim * 2)\n",
    "        self.linear_proj_cell = nn.Linear(encoder_hidden_dim * 2, decoder_hidden_dim)\n",
    "        self.decoder = nn.LSTM(embedding_dim, decoder_hidden_dim, n_layers, batch_first=True, dropout=dropout_p)\n",
    "\n",
    "        self.fc = nn.Linear(decoder_hidden_dim + encoder_hidden_dim * 2, output_dim)\n",
    "        self.softmax = nn.Softmax(dim=-1)\n",
    "        \n",
    "    def forward(self, x, hidden, encoder_output, previous_attention):\n",
    "\n",
    "        # TODO: write down the forward step \n",
    "\n",
    "        # print(x.shape)\n",
    "        # print(x.shape, previous_attention.shape)\n",
    "        embedding = self.embedding(x.unsqueeze(1))\n",
    "        # print(embedding.shape, previous_attention.shape)\n",
    "        embedding = torch.cat([embedding], dim=-1)\n",
    "\n",
    "        # print(\"HIDDEN\", hidden[0].shape, hidden[1].shape)\n",
    "        \n",
    "        output, hidden = self.decoder(embedding, hidden)\n",
    "        # print(torch.cat([output, attention], dim=-1).shape)\n",
    "        # print(\"OUTPUT_SHAPE\", output.shape)\n",
    "\n",
    "        # print(hidden[0].shape, encoder_output.shape)\n",
    "        projected_hidden = self.linear_proj_hidden_attention(hidden[0].squeeze(0))\n",
    "        # print(projected_hidden.shape)\n",
    "        attention_score = torch.bmm(projected_hidden.unsqueeze(1), encoder_output.permute(0, 2, 1))\n",
    "        attention_distr = self.softmax(attention_score)\n",
    "        # print(attention_distr.shape, encoder_output.shape)\n",
    "        attention = torch.bmm(attention_distr, encoder_output)\n",
    "\n",
    "        # print(output.shape, attention.shape)\n",
    "        output = self.fc(torch.cat([output.squeeze(), attention.squeeze()], dim=-1))\n",
    "        # output = self.softmax(output)\n",
    "\n",
    "        return output, hidden, (attention_distr, attention)\n"
   ]
  },
  {
   "attachments": {},
   "cell_type": "markdown",
   "metadata": {},
   "source": [
    "### Sequence-to-sequence model"
   ]
  },
  {
   "cell_type": "code",
   "execution_count": 421,
   "metadata": {
    "collapsed": true
   },
   "outputs": [],
   "source": [
    "class Seq2Seq(nn.Module):\n",
    "    def __init__(self, \n",
    "                 encoder, \n",
    "                 decoder, \n",
    "                 src_pad_idx, \n",
    "                 trg_pad_idx, \n",
    "                 device):\n",
    "        super().__init__()\n",
    "        \n",
    "        self.encoder = encoder\n",
    "        self.decoder = decoder\n",
    "        self.src_pad_idx = src_pad_idx\n",
    "        self.trg_pad_idx = trg_pad_idx\n",
    "        self.device = device\n",
    "\n",
    "\n",
    "    def forward(self, src, trg, teacher_forcing_ratio=0.5):\n",
    "        \n",
    "        ## TODO: write down the forward step \n",
    "        batch_size, seq_len = trg.shape\n",
    "\n",
    "        enc_output, enc_hidden = self.encoder(src)\n",
    "        # print(\"ENC_OUTPUT\", enc_output.shape)\n",
    "        dec_hidden = enc_hidden\n",
    "        dec_hidden = torch.cat([dec_hidden[0][0], dec_hidden[0][1]], dim=-1).unsqueeze(0)\n",
    "        dec_cell = torch.cat([enc_hidden[1][0], enc_hidden[1][1]], dim=-1).unsqueeze(0)\n",
    "\n",
    "        # print(\"SEQ2SEQ1\", dec_hidden.shape, dec_cell.shape)\n",
    "\n",
    "        dec_hidden = self.decoder.linear_proj_hidden(dec_hidden.squeeze(0)).unsqueeze(0)\n",
    "        dec_cell = self.decoder.linear_proj_hidden(dec_cell.squeeze(0)).unsqueeze(0)\n",
    "\n",
    "        # print(\"SEQ2SEQ\", dec_hidden.shape, dec_cell.shape)\n",
    "\n",
    "        # Using teacher forcing at the first index\n",
    "        dec_input = trg[:, 0]\n",
    "        # print(\"Seq2Seq\", dec_input.shape)\n",
    "        # dec_input = torch.full((batch_size, 1), self.trg_pad_idx).to(self.device)\n",
    "\n",
    "        output_seq = []\n",
    "        attention = (0, torch.zeros((batch_size, 1, self.encoder.hidden_dim)).to(self.device))\n",
    "        attentions = []\n",
    "\n",
    "        for i in range(1, seq_len):\n",
    "            y_hat, (dec_hidden, dec_cell), attention = self.decoder(dec_input, (dec_hidden, dec_cell), enc_output, attention[1])\n",
    "            output_seq.append(y_hat)\n",
    "            attentions.append(attention)\n",
    "            use_teacher_forcing = True if random.random() < teacher_forcing_ratio else False\n",
    "            if use_teacher_forcing:\n",
    "                dec_input = trg[:, i]\n",
    "            else:\n",
    "                dec_input = y_hat.argmax(-1)\n",
    "            # print(\"DEC_INPUT\", dec_input.shape)\n",
    "\n",
    "        output = torch.stack(output_seq, dim=1)\n",
    "        return output, attentions"
   ]
  },
  {
   "attachments": {},
   "cell_type": "markdown",
   "metadata": {},
   "source": [
    "### Training the Seq2Seq Model"
   ]
  },
  {
   "cell_type": "code",
   "execution_count": 422,
   "metadata": {
    "collapsed": true
   },
   "outputs": [],
   "source": [
    "INPUT_DIM = len(SRC.vocab)\n",
    "OUTPUT_DIM = len(TRG.vocab)\n",
    "\n",
    "# define your hyperparameters here\n",
    "EMBEDDING_SIZE = 1024\n",
    "ENCODER_HIDDEN_SIZE = 256\n",
    "DECODER_HIDDEN_SIZE = 256\n",
    "N_LSTM_LAYERS = 1\n",
    "DROPOUT_P = 0\n",
    "\n",
    "\n",
    "enc = Encoder(INPUT_DIM, EMBEDDING_SIZE, ENCODER_HIDDEN_SIZE, N_LSTM_LAYERS, DROPOUT_P)\n",
    "dec = Decoder(OUTPUT_DIM, EMBEDDING_SIZE, ENCODER_HIDDEN_SIZE, DECODER_HIDDEN_SIZE, N_LSTM_LAYERS, DROPOUT_P)"
   ]
  },
  {
   "cell_type": "code",
   "execution_count": 423,
   "metadata": {
    "collapsed": true
   },
   "outputs": [],
   "source": [
    "SRC_PAD_IDX = SRC.vocab.stoi[SRC.pad_token]\n",
    "TRG_PAD_IDX = TRG.vocab.stoi[TRG.pad_token]\n",
    "\n",
    "model = Seq2Seq(enc, dec, SRC_PAD_IDX, TRG_PAD_IDX, device).to(device)"
   ]
  },
  {
   "attachments": {},
   "cell_type": "markdown",
   "metadata": {},
   "source": [
    "We initialize model weights"
   ]
  },
  {
   "cell_type": "code",
   "execution_count": 424,
   "metadata": {
    "collapsed": true
   },
   "outputs": [
    {
     "data": {
      "text/plain": [
       "Seq2Seq(\n",
       "  (encoder): Encoder(\n",
       "    (embedding): Embedding(7853, 1024)\n",
       "    (encoder): LSTM(1024, 256, batch_first=True, bidirectional=True)\n",
       "  )\n",
       "  (decoder): Decoder(\n",
       "    (embedding): Embedding(5893, 1024)\n",
       "    (linear_proj_hidden): Linear(in_features=512, out_features=256, bias=True)\n",
       "    (linear_proj_hidden_attention): Linear(in_features=256, out_features=512, bias=True)\n",
       "    (linear_proj_cell): Linear(in_features=512, out_features=256, bias=True)\n",
       "    (decoder): LSTM(1024, 256, batch_first=True)\n",
       "    (fc): Linear(in_features=768, out_features=5893, bias=True)\n",
       "    (softmax): Softmax(dim=-1)\n",
       "  )\n",
       ")"
      ]
     },
     "execution_count": 424,
     "metadata": {},
     "output_type": "execute_result"
    }
   ],
   "source": [
    "def initialize_weights(m):\n",
    "    if hasattr(m, 'weight') and m.weight.dim() > 1:\n",
    "        nn.init.xavier_uniform_(m.weight.data)\n",
    "\n",
    "model.apply(initialize_weights)"
   ]
  },
  {
   "attachments": {},
   "cell_type": "markdown",
   "metadata": {},
   "source": [
    "We use Adam as our optimizer and CrossEntropyLoss. Also we set to ignore <pad> token in calculating loss"
   ]
  },
  {
   "cell_type": "code",
   "execution_count": 425,
   "metadata": {
    "collapsed": true
   },
   "outputs": [],
   "source": [
    "LEARNING_RATE = 0.0005\n",
    "\n",
    "optimizer = torch.optim.Adam(model.parameters(), lr = LEARNING_RATE)"
   ]
  },
  {
   "cell_type": "code",
   "execution_count": 426,
   "metadata": {
    "collapsed": true
   },
   "outputs": [],
   "source": [
    "criterion = nn.CrossEntropyLoss(ignore_index = TRG_PAD_IDX)"
   ]
  },
  {
   "attachments": {},
   "cell_type": "markdown",
   "metadata": {},
   "source": [
    "### Training"
   ]
  },
  {
   "cell_type": "code",
   "execution_count": 427,
   "metadata": {
    "collapsed": true
   },
   "outputs": [],
   "source": [
    "def train(model, iterator, optimizer, criterion):\n",
    "    \n",
    "    model.train()\n",
    "    \n",
    "    epoch_loss = 0\n",
    "    \n",
    "    for i, batch in enumerate(iterator):\n",
    "        \n",
    "        src = batch.src\n",
    "        trg = batch.trg\n",
    "        \n",
    "        optimizer.zero_grad()\n",
    "        \n",
    "        # TODO: write down your training code here\n",
    "        output, attention = model(src, trg, 0.5)\n",
    "        # print(output)\n",
    "        output = output.view(-1, output.shape[-1])\n",
    "        trg = trg[:, 1:].contiguous().view(-1)\n",
    "        # print(\"LOSS: \", output.shape, trg.shape)\n",
    "        loss = criterion(output.float(), trg)\n",
    "\n",
    "        loss.backward()\n",
    "        optimizer.step()\n",
    "       \n",
    "        epoch_loss += loss.item()\n",
    "        \n",
    "    return epoch_loss / len(iterator)"
   ]
  },
  {
   "attachments": {},
   "cell_type": "markdown",
   "metadata": {},
   "source": [
    "### Evaluation"
   ]
  },
  {
   "cell_type": "code",
   "execution_count": 428,
   "metadata": {
    "collapsed": true
   },
   "outputs": [],
   "source": [
    "def evaluate(model, iterator, criterion):\n",
    "    \n",
    "    model.eval()\n",
    "    \n",
    "    epoch_loss = 0\n",
    "    \n",
    "    with torch.no_grad():\n",
    "    \n",
    "        for i, batch in enumerate(iterator):\n",
    "\n",
    "            src = batch.src\n",
    "            trg = batch.trg\n",
    "            \n",
    "            # TODO: write down your training code here\n",
    "            output, attention = model(src, trg, 0)\n",
    "            output = output.view(-1, output.shape[-1])\n",
    "            trg = trg[:, 1:].contiguous().view(-1)\n",
    "            # print(\"LOSS: \", output.shape, trg.shape)\n",
    "            loss = criterion(output.float(), trg)\n",
    "\n",
    "            epoch_loss += loss.item()\n",
    "        \n",
    "    return epoch_loss / len(iterator)"
   ]
  },
  {
   "cell_type": "code",
   "execution_count": 429,
   "metadata": {
    "collapsed": true
   },
   "outputs": [],
   "source": [
    "def epoch_time(start_time, end_time):\n",
    "    elapsed_time = end_time - start_time\n",
    "    elapsed_mins = int(elapsed_time / 60)\n",
    "    elapsed_secs = int(elapsed_time - (elapsed_mins * 60))\n",
    "    return elapsed_mins, elapsed_secs"
   ]
  },
  {
   "attachments": {},
   "cell_type": "markdown",
   "metadata": {},
   "source": [
    "### Train the model through multiple epochs"
   ]
  },
  {
   "cell_type": "code",
   "execution_count": 430,
   "metadata": {
    "collapsed": true
   },
   "outputs": [
    {
     "name": "stdout",
     "output_type": "stream",
     "text": [
      "Epoch: 01 | Time: 0m 10s\n",
      "\tTrain Loss: 5.236\n",
      "\t Val. Loss: 4.960\n",
      "Epoch: 02 | Time: 0m 10s\n",
      "\tTrain Loss: 4.475\n",
      "\t Val. Loss: 4.996\n",
      "Epoch: 03 | Time: 0m 10s\n",
      "\tTrain Loss: 4.027\n",
      "\t Val. Loss: 4.459\n",
      "Epoch: 04 | Time: 0m 10s\n",
      "\tTrain Loss: 3.491\n",
      "\t Val. Loss: 4.013\n",
      "Epoch: 05 | Time: 0m 10s\n",
      "\tTrain Loss: 3.070\n",
      "\t Val. Loss: 3.836\n",
      "Epoch: 06 | Time: 0m 10s\n",
      "\tTrain Loss: 2.786\n",
      "\t Val. Loss: 3.686\n",
      "Epoch: 07 | Time: 0m 10s\n",
      "\tTrain Loss: 2.577\n",
      "\t Val. Loss: 3.533\n",
      "Epoch: 08 | Time: 0m 10s\n",
      "\tTrain Loss: 2.388\n",
      "\t Val. Loss: 3.452\n",
      "Epoch: 09 | Time: 0m 10s\n",
      "\tTrain Loss: 2.235\n",
      "\t Val. Loss: 3.357\n",
      "Epoch: 10 | Time: 0m 10s\n",
      "\tTrain Loss: 2.133\n",
      "\t Val. Loss: 3.345\n"
     ]
    }
   ],
   "source": [
    "N_EPOCHS = 10\n",
    "\n",
    "best_valid_loss = float('inf')\n",
    "\n",
    "for epoch in range(N_EPOCHS):\n",
    "    \n",
    "    start_time = time.time()\n",
    "    \n",
    "    train_loss = train(model, train_iterator, optimizer, criterion)\n",
    "    valid_loss = evaluate(model, valid_iterator, criterion)\n",
    "    \n",
    "    end_time = time.time()\n",
    "    \n",
    "    epoch_mins, epoch_secs = epoch_time(start_time, end_time)\n",
    "    \n",
    "    if valid_loss < best_valid_loss:\n",
    "        best_valid_loss = valid_loss\n",
    "        torch.save(model.state_dict(), 'my-model.pt')\n",
    "    \n",
    "    print(f'Epoch: {epoch+1:02} | Time: {epoch_mins}m {epoch_secs}s')\n",
    "    print(f'\\tTrain Loss: {train_loss:.3f}')\n",
    "    print(f'\\t Val. Loss: {valid_loss:.3f}')"
   ]
  },
  {
   "cell_type": "code",
   "execution_count": 431,
   "metadata": {
    "collapsed": true
   },
   "outputs": [
    {
     "name": "stdout",
     "output_type": "stream",
     "text": [
      "| Test Loss: 3.322\n"
     ]
    }
   ],
   "source": [
    "model.load_state_dict(torch.load('my-model.pt'))\n",
    "\n",
    "test_loss = evaluate(model, test_iterator, criterion)\n",
    "\n",
    "print(f'| Test Loss: {test_loss:.3f}')"
   ]
  },
  {
   "attachments": {},
   "cell_type": "markdown",
   "metadata": {},
   "source": [
    "### Inference and attention visualization"
   ]
  },
  {
   "cell_type": "code",
   "execution_count": 432,
   "metadata": {
    "collapsed": true
   },
   "outputs": [],
   "source": [
    "import matplotlib.pyplot as plt\n",
    "import matplotlib.ticker as ticker"
   ]
  },
  {
   "cell_type": "code",
   "execution_count": 433,
   "metadata": {
    "collapsed": true
   },
   "outputs": [],
   "source": [
    "def translate_sentence(sentence, src_field, trg_field, model, device, max_len = 50):\n",
    "    \n",
    "    model.eval()\n",
    "    \n",
    "    # TODO: write your code \n",
    "    tokens = [token.lower() for token in sentence]\n",
    "        \n",
    "    tokens = [src_field.init_token] + tokens + [src_field.eos_token]\n",
    "\n",
    "    src_indexes = [src_field.vocab.stoi[token] for token in tokens]\n",
    "\n",
    "    src_tensor = torch.LongTensor(src_indexes).unsqueeze(0).to(device)\n",
    "\n",
    "    with torch.no_grad():\n",
    "        enc_output, enc_hidden = model.encoder(src_tensor)\n",
    "        dec_hidden = enc_hidden\n",
    "        dec_hidden = torch.cat([dec_hidden[0][0], dec_hidden[0][1]], dim=-1).unsqueeze(0)\n",
    "        dec_cell = torch.cat([enc_hidden[1][0], enc_hidden[1][1]], dim=-1).unsqueeze(0)\n",
    "\n",
    "        # print(\"TEST\", dec_hidden.shape, dec_cell.shape)\n",
    "\n",
    "        dec_hidden = model.decoder.linear_proj_hidden(dec_hidden.squeeze(0)).unsqueeze(0)\n",
    "        dec_cell = model.decoder.linear_proj_hidden(dec_cell.squeeze(0)).unsqueeze(0)\n",
    "\n",
    "        trg_indexes = [trg_field.vocab.stoi[trg_field.init_token]]\n",
    "        trg_tensor = torch.LongTensor(trg_indexes).to(device)\n",
    "\n",
    "        attention = (0, torch.zeros((1, 1, model.encoder.hidden_dim * 2)).to(device))\n",
    "        attentions = []\n",
    "\n",
    "        for i in range(max_len):\n",
    "            # print(trg_tensor)\n",
    "            # print(trg_tensor.shape, dec_hidden[0].shape, dec_hidden[1].shape, enc_output.shape)\n",
    "\n",
    "            output, (dec_hidden, dec_cell), attention = model.decoder(trg_tensor, (dec_hidden, dec_cell), enc_output, attention[1])\n",
    "            attentions.append(attention[0][0, 0])\n",
    "            \n",
    "            # print(output.shape)\n",
    "            pred_token = output.argmax(0).item()\n",
    "            # print(trg_field.vocab.itos[pred_token], attention[0][0, 0])\n",
    "            trg_indexes.append(pred_token)\n",
    "            trg_tensor = torch.LongTensor([pred_token]).to(device)\n",
    "\n",
    "            # print(\"-\" * 50)\n",
    "\n",
    "            if pred_token == trg_field.vocab.stoi[trg_field.eos_token]:\n",
    "                break\n",
    "\n",
    "        trg_tokens = [trg_field.vocab.itos[i] for i in trg_indexes]\n",
    "\n",
    "    return trg_tokens[1:], torch.stack(attentions).cpu()"
   ]
  },
  {
   "cell_type": "code",
   "execution_count": 434,
   "metadata": {
    "collapsed": true
   },
   "outputs": [],
   "source": [
    "def display_attention(sentence, translation, attention):\n",
    "    \n",
    "    # Set up figure with colorbar\n",
    "    fig = plt.figure(figsize=(15,25))\n",
    "    \n",
    "    ax = fig.add_subplot(111)\n",
    "    \n",
    "    cax = ax.matshow(attention.numpy(), cmap='bone')\n",
    "\n",
    "    # Set up axes\n",
    "    ax.tick_params(labelsize=12)\n",
    "    ax.set_xticklabels(['']+['<sos>']+[t.lower() for t in sentence]+['<eos>'], \n",
    "                           rotation=45)\n",
    "    ax.set_yticklabels(['']+translation)\n",
    "\n",
    "    # Show label at every tick\n",
    "    ax.xaxis.set_major_locator(ticker.MultipleLocator(1))\n",
    "    ax.yaxis.set_major_locator(ticker.MultipleLocator(1))\n",
    "\n",
    "    plt.show()\n",
    "    plt.close()\n",
    "    \n"
   ]
  },
  {
   "cell_type": "code",
   "execution_count": 443,
   "metadata": {
    "collapsed": true
   },
   "outputs": [
    {
     "name": "stdout",
     "output_type": "stream",
     "text": [
      "src = ['ein', 'brauner', 'hund', 'rennt', 'dem', 'schwarzen', 'hund', 'hinterher', '.']\n",
      "trg = ['a', 'brown', 'dog', 'is', 'running', 'after', 'the', 'black', 'dog', '.']\n"
     ]
    }
   ],
   "source": [
    "example_idx = 6\n",
    "# example_idx = 12\n",
    "\n",
    "src = vars(valid_data.examples[example_idx])['src']\n",
    "trg = vars(valid_data.examples[example_idx])['trg']\n",
    "\n",
    "print(f'src = {src}')\n",
    "print(f'trg = {trg}')"
   ]
  },
  {
   "cell_type": "code",
   "execution_count": 444,
   "metadata": {
    "collapsed": true
   },
   "outputs": [
    {
     "name": "stdout",
     "output_type": "stream",
     "text": [
      "predicted trg = ['a', 'brown', 'dog', 'runs', 'running', 'the', 'black', 'dog', '.', '<eos>']\n"
     ]
    }
   ],
   "source": [
    "translation, attention = translate_sentence(src, SRC, TRG, model, device)\n",
    "\n",
    "print(f'predicted trg = {translation}')"
   ]
  },
  {
   "cell_type": "code",
   "execution_count": 445,
   "metadata": {
    "collapsed": true
   },
   "outputs": [
    {
     "name": "stderr",
     "output_type": "stream",
     "text": [
      "/tmp/ipykernel_84278/2615269445.py:12: UserWarning: FixedFormatter should only be used together with FixedLocator\n",
      "  ax.set_xticklabels(['']+['<sos>']+[t.lower() for t in sentence]+['<eos>'],\n",
      "/tmp/ipykernel_84278/2615269445.py:14: UserWarning: FixedFormatter should only be used together with FixedLocator\n",
      "  ax.set_yticklabels(['']+translation)\n"
     ]
    },
    {
     "data": {
      "image/png": "[encoded data removed]",
      "text/plain": [
       "<Figure size 1500x2500 with 1 Axes>"
      ]
     },
     "metadata": {},
     "output_type": "display_data"
    }
   ],
   "source": [
    "display_attention(src, translation, attention)"
   ]
  },
  {
   "attachments": {},
   "cell_type": "markdown",
   "metadata": {},
   "source": [
    "### BLEU\n",
    "- Calculate BLEU for test set"
   ]
  },
  {
   "cell_type": "code",
   "execution_count": 438,
   "metadata": {
    "collapsed": true
   },
   "outputs": [],
   "source": [
    "from torchtext.data.metrics import bleu_score\n",
    "\n",
    "def calculate_bleu(data, src_field, trg_field, model, device, max_len = 50):\n",
    "    \n",
    "    trgs = []\n",
    "    pred_trgs = []\n",
    "    \n",
    "    for datum in data:\n",
    "        \n",
    "        src = vars(datum)['src']\n",
    "        trg = vars(datum)['trg']\n",
    "        \n",
    "        pred_trg, _ = translate_sentence(src, src_field, trg_field, model, device, max_len)\n",
    "        \n",
    "        #cut off <eos> token\n",
    "        pred_trg = pred_trg[:-1]\n",
    "        \n",
    "        pred_trgs.append(pred_trg)\n",
    "        trgs.append([trg])\n",
    "        \n",
    "    return bleu_score(pred_trgs, trgs)"
   ]
  },
  {
   "cell_type": "code",
   "execution_count": 439,
   "metadata": {
    "collapsed": true
   },
   "outputs": [
    {
     "name": "stdout",
     "output_type": "stream",
     "text": [
      "BLEU score = 31.93\n"
     ]
    }
   ],
   "source": [
    "bleu_score = calculate_bleu(test_data, SRC, TRG, model, device)\n",
    "\n",
    "print(f'BLEU score = {bleu_score*100:.2f}')"
   ]
  },
  {
   "cell_type": "code",
   "execution_count": null,
   "metadata": {},
   "outputs": [],
   "source": []
  }
 ],
 "metadata": {
  "kernelspec": {
   "display_name": "Python 3",
   "language": "python",
   "name": "python3"
  },
  "language_info": {
   "codemirror_mode": {
    "name": "ipython",
    "version": 3
   },
   "file_extension": ".py",
   "mimetype": "text/x-python",
   "name": "python",
   "nbconvert_exporter": "python",
   "pygments_lexer": "ipython3",
   "version": "3.8.16"
  }
 },
 "nbformat": 4,
 "nbformat_minor": 2
}
