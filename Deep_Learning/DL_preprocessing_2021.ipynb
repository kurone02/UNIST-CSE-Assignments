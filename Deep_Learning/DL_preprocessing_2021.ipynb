{
  "cells": [
    {
      "cell_type": "code",
      "execution_count": 40,
      "metadata": {},
      "outputs": [],
      "source": [
        "import pandas as pd\n",
        "import datetime\n",
        "import numpy as np\n",
        "import matplotlib.pylab as plt\n",
        "from dataprep.eda import *\n",
        "import os"
      ]
    },
    {
      "cell_type": "code",
      "execution_count": 41,
      "metadata": {
        "colab": {
          "base_uri": "https://localhost:8080/"
        },
        "id": "CNJvJMTq0YHt",
        "outputId": "e8028b0c-3ced-4154-fd26-20074c7c2e56"
      },
      "outputs": [],
      "source": [
        "# Link folder https://drive.google.com/drive/folders/1AD3DevmNPZSQ1dzFL1rE9gM0zSU1kyYy?usp=sharing\n",
        "# In your Google Drive: Share with me in the left taskbar --> Right mouse button to 'DL' folder --> Add shortcut to Drive --> My Drive \n",
        "# Tutorial: https://stackoverflow.com/questions/54351852/accessing-shared-with-me-with-colab\n",
        "\n",
        "# Yellow Data of 2021 \n",
        "base_path = 'Raw_data'"
      ]
    },
    {
      "cell_type": "code",
      "execution_count": 42,
      "metadata": {
        "colab": {
          "base_uri": "https://localhost:8080/"
        },
        "id": "pI3PeGhg0Rc8",
        "outputId": "41016dec-b115-42d0-b156-ea40e83c5136"
      },
      "outputs": [
        {
          "name": "stdout",
          "output_type": "stream",
          "text": [
            "['yellow_tripdata_2021-01.parquet', 'yellow_tripdata_2021-02.parquet', 'yellow_tripdata_2021-03.parquet', 'yellow_tripdata_2021-04.parquet', 'yellow_tripdata_2021-05.parquet', 'yellow_tripdata_2021-07.parquet', 'yellow_tripdata_2021-08.parquet', 'yellow_tripdata_2021-09.parquet', 'yellow_tripdata_2021-10.parquet', 'yellow_tripdata_2021-11.parquet', 'yellow_tripdata_2021-12.parquet']\n"
          ]
        }
      ],
      "source": [
        "# getting the name of all files.\n",
        "# link to source data files https://www.nyc.gov/site/tlc/about/tlc-trip-record-data.page\n",
        "\n",
        "categories = []\n",
        "for filename in os.listdir(base_path): \n",
        "  categories.append(filename)\n",
        "print(categories)   "
      ]
    },
    {
      "cell_type": "code",
      "execution_count": 43,
      "metadata": {
        "id": "ApEn-01pG65a"
      },
      "outputs": [],
      "source": [
        "\n",
        "# for i in range (1,6):\n",
        "#   file_path = base_path + '/' + 'yellow_tripdata_2021-%02d.parquet' % i \n",
        "#   # Read data file\n",
        "#   df = pd.read_parquet(file_path)\n",
        "#   df.tail(10)\n"
      ]
    },
    {
      "cell_type": "code",
      "execution_count": 44,
      "metadata": {
        "id": "cxYVanQZHZeh"
      },
      "outputs": [],
      "source": [
        "# There are 19 columns and check NaN values\n",
        "def check_NaN(df):\n",
        "  display(df.info())\n",
        "  print('-'*20)\n",
        "  display(df.isnull().sum())\n"
      ]
    },
    {
      "cell_type": "markdown",
      "metadata": {
        "id": "i_4gsxTCKqAV"
      },
      "source": [
        "## Problem: \n",
        "Find the demand (pick up times) given a specific time and region. "
      ]
    },
    {
      "cell_type": "markdown",
      "metadata": {
        "id": "MQ9kTl2SQFwD"
      },
      "source": [
        "# I. Data Cleaning:\n"
      ]
    },
    {
      "cell_type": "markdown",
      "metadata": {
        "id": "lOJadMPnOWFF"
      },
      "source": [
        "## 1. Keeping all categories that are necessary:\n",
        "- tpep_pickup_datetime\n",
        "- tpep_dropoff_datetime\n",
        "- passenger_count\n",
        "- trip_distance\n",
        "- PULocationID\n",
        "- DOLocationID\n"
      ]
    },
    {
      "cell_type": "code",
      "execution_count": 45,
      "metadata": {
        "id": "YGGWfQKbPl4P"
      },
      "outputs": [],
      "source": [
        "def getting_valuable_columns_and_fill_NaN(df):\n",
        "  df = df[['tpep_pickup_datetime','tpep_dropoff_datetime', 'passenger_count', 'trip_distance', 'PULocationID', 'DOLocationID']]\n",
        "  # filling NaN in passenger_count column to 0\n",
        "  df = df.fillna(0) \n",
        "  return df"
      ]
    },
    {
      "cell_type": "markdown",
      "metadata": {
        "id": "qP6hoDwPQK77"
      },
      "source": [
        "## 2. Cleaning noisy data and adding One-hot coding vector "
      ]
    },
    {
      "cell_type": "markdown",
      "metadata": {
        "id": "5xIN3PdrTIBr"
      },
      "source": [
        "### 2.1 EDA for 2021 Jan - May\n",
        "\n",
        "1. Jan:\n",
        "- Fri: Jan 01: New Year's Day\n",
        "- Mon: Jan 18: Martin Luther King Jr. Day\n",
        "\n",
        "2. Feb:\n",
        "- Fri: Feb 12: Lincoln's Birthday\n",
        "- Mon: Feb 15: Presidents' Day\n",
        "\n",
        "3. May:\n",
        "- Mon: May 31: Memorial Day\n",
        "\n",
        "\n",
        "Source: https://www1.nyc.gov/assets/opa/downloads/pdf/2021-list-of-holidays.pdf\n",
        "\n"
      ]
    },
    {
      "cell_type": "markdown",
      "metadata": {
        "id": "3GZXRLfzt5Nk"
      },
      "source": [
        "#### 2.2 Removing Outlier trips using trip_duration, trip_speed\n",
        "a. trip_duration\n",
        "- Less than or equal to 0 trip_duration\n",
        "- According to Taxi and Limousine Commission (TLC) regulations:\n",
        "      The maximum allowed trip duration in a 24 hour interval is 12 hours. \n",
        "      --> trip_duration <= 12 hours == 720 minutes\n",
        "\n",
        "b. trip_speed\n",
        "- Maximum allowed speed is 65mph\n",
        "\n",
        "c. trip distance\n",
        "- 0.0 trip distance\n",
        "- trip distance > 30.0 (less than 100 data points)\n",
        "\n",
        "\n"
      ]
    },
    {
      "cell_type": "markdown",
      "metadata": {
        "id": "sfaae1O-1vUF"
      },
      "source": [
        "#### 2.3 Removing Outlier trips using passenger_count\n",
        "- NaN passenger_count\n",
        "- According to the TLC regulations 5 is the maximum number of passengers allowed in a yellow taxi\n",
        "  - Toddlers and children below age 7 are allowed to sit on laps\n",
        "  - Maybe it takes into account the toddlers and children but the number data of 7 ,8 and 9 are ridiculous."
      ]
    },
    {
      "cell_type": "code",
      "execution_count": 46,
      "metadata": {
        "id": "KbZHh8TWKpcH"
      },
      "outputs": [],
      "source": [
        "def noisy_data_add_features(df, data_month):\n",
        "  isHoliday = []\n",
        "  DayofWeek = []\n",
        "  noisydata = []\n",
        "  trip_duration = []\n",
        "  trip_speed = []\n",
        "  holiday = [datetime.date(2021,1,1), datetime.date(2021,1,18), datetime.date(2021,2,12), datetime.date(2021,2,15), datetime.date(2021,5,31)]\n",
        "  pickup_hour = []\n",
        "  pickup_month = []\n",
        "\n",
        "  for i in range(df.shape[0]):\n",
        "    if df.iat[i,0].year != 2021 or df.iat[i,1].year != 2021 or df.iat[i,0].month != data_month or df.iat[i,1].month != data_month:\n",
        "      noisydata.append(i)\n",
        "      continue\n",
        "\n",
        "    if df.iat[i,2] == 0.0 or df.iat[i,3] == 0.0:  # Find data with 0 number of passengers or 0.0 trip_distance\n",
        "      noisydata.append(i)\n",
        "      continue\n",
        "\n",
        "    if df.iat[i,3] > 30.0: # Drop pickup with trip distance > 30.0 (less than 100 data points)\n",
        "      noisydata.append(i)\n",
        "      continue\n",
        "    \n",
        "    if df.iat[i,2] > 6.0:   # Drop pickup with more than 6 passengers (maximum capacity)\n",
        "      noisydata.append(i)\n",
        "      continue\n",
        "    \n",
        "    #   According to Taxi and Limousine Commission (TLC) regulations:\n",
        "      # The maximum allowed trip duration in a 24 hour interval is 12 hours. \n",
        "      # --> trip_duration <= 12 hours == 720 minutes\n",
        "    PUtime = (df.iat[i,0]).value/10e8 # in seconds\n",
        "    DOtime = (df.iat[i,1]).value/10e8\n",
        "    duration = (DOtime - PUtime)/60.0 # in minutes\n",
        "    if duration <= 0.0 or duration > (12 * 60.0) or duration > 70.0:\n",
        "      noisydata.append(i)\n",
        "      continue\n",
        "\n",
        "    # Checking allowed speed 65mph\n",
        "    speed = df.iat[i,3] / (duration / 60.0)\n",
        "    if speed <= 0.0 or speed > 65.0:\n",
        "      noisydata.append(i)\n",
        "      continue\n",
        "\n",
        "    trip_duration.append(duration)\n",
        "    trip_speed.append(speed)\n",
        "    # Adding one hot coding vector related to pickup hour, month\n",
        "    pickup_hour.append(df.iat[i,0].hour)\n",
        "    pickup_month.append(df.iat[i,0].month)\n",
        "\n",
        "    # Adding one hot coding vector related to weekdays, weekends\n",
        "    # Monday : 0 ~ Sunday: 6\n",
        "    DayofWeek.append((df.iat[i,0]).day_of_week)\n",
        "\n",
        "    # Adding one hot coding vector related to Holiday in Jan\n",
        "    if df.iat[i,0] in holiday:\n",
        "      isHoliday.append(1)\n",
        "    else:\n",
        "      isHoliday.append(0)\n",
        "\n",
        "\n",
        "  print(\"Length of noisy data:\", len(noisydata)) \n",
        "  # dropping noisy data and add more features to dataframe\n",
        "  df = df.drop(noisydata)\n",
        "  df = df.reset_index()\n",
        "  df = df.drop('index', axis = 1)\n",
        "  df.insert(3, \"trip_duration\", trip_duration, True)\n",
        "  df.insert(5, \"trip_speed\", trip_speed, True)\n",
        "  df['DayofWeek'] = DayofWeek\n",
        "  df['isHoliday'] = isHoliday\n",
        "  df['pickup_hour'] = pickup_hour\n",
        "  df['pickup_month'] = pickup_month\n",
        "\n",
        "  return df\n",
        "\n",
        "  \n",
        "\n",
        " \n",
        " \n"
      ]
    },
    {
      "cell_type": "code",
      "execution_count": 47,
      "metadata": {
        "id": "WMKSoA0RXnqz"
      },
      "outputs": [],
      "source": [
        "# print(len(noisydata)) \n",
        "# print(len(isHoliday))\n",
        "# print(len(DayofWeek))"
      ]
    },
    {
      "cell_type": "code",
      "execution_count": 48,
      "metadata": {
        "id": "TGS8IefqYxC4"
      },
      "outputs": [],
      "source": [
        "# df = df.drop(noisydata)\n",
        "# df = df.reset_index()\n",
        "# df = df.drop('index', axis = 1)\n",
        "# df.insert(3, \"trip_duration\", trip_duration, True)\n",
        "# df.insert(5, \"trip_speed\", trip_speed, True)\n",
        "# df['DayofWeek'] = DayofWeek\n",
        "# df['isHoliday'] = isHoliday\n",
        "# df['pickup_hour'] = pickup_hour\n",
        "# df['pickup_month'] = pickup_month\n"
      ]
    },
    {
      "cell_type": "markdown",
      "metadata": {
        "id": "1xPhvmh8VGyc"
      },
      "source": [
        "# II. Preprocessing data files"
      ]
    },
    {
      "cell_type": "code",
      "execution_count": 49,
      "metadata": {
        "colab": {
          "base_uri": "https://localhost:8080/",
          "height": 1000
        },
        "id": "3j-yizvh0o5b",
        "outputId": "80a855c5-8084-43e7-b9bc-18f002370b3c"
      },
      "outputs": [
        {
          "name": "stdout",
          "output_type": "stream",
          "text": [
            "Reading yellow_tripdata_2021-01.parquet' file.\n",
            "Check all catergories of the data and NaN values.\n",
            "<class 'pandas.core.frame.DataFrame'>\n",
            "RangeIndex: 1369769 entries, 0 to 1369768\n",
            "Data columns (total 19 columns):\n",
            " #   Column                 Non-Null Count    Dtype         \n",
            "---  ------                 --------------    -----         \n",
            " 0   VendorID               1369769 non-null  int64         \n",
            " 1   tpep_pickup_datetime   1369769 non-null  datetime64[ns]\n",
            " 2   tpep_dropoff_datetime  1369769 non-null  datetime64[ns]\n",
            " 3   passenger_count        1271417 non-null  float64       \n",
            " 4   trip_distance          1369769 non-null  float64       \n",
            " 5   RatecodeID             1271417 non-null  float64       \n",
            " 6   store_and_fwd_flag     1271417 non-null  object        \n",
            " 7   PULocationID           1369769 non-null  int64         \n",
            " 8   DOLocationID           1369769 non-null  int64         \n",
            " 9   payment_type           1369769 non-null  int64         \n",
            " 10  fare_amount            1369769 non-null  float64       \n",
            " 11  extra                  1369769 non-null  float64       \n",
            " 12  mta_tax                1369769 non-null  float64       \n",
            " 13  tip_amount             1369769 non-null  float64       \n",
            " 14  tolls_amount           1369769 non-null  float64       \n",
            " 15  improvement_surcharge  1369769 non-null  float64       \n",
            " 16  total_amount           1369769 non-null  float64       \n",
            " 17  congestion_surcharge   1271417 non-null  float64       \n",
            " 18  airport_fee            5 non-null        float64       \n",
            "dtypes: datetime64[ns](2), float64(12), int64(4), object(1)\n",
            "memory usage: 198.6+ MB\n"
          ]
        },
        {
          "data": {
            "text/plain": [
              "None"
            ]
          },
          "metadata": {},
          "output_type": "display_data"
        },
        {
          "name": "stdout",
          "output_type": "stream",
          "text": [
            "--------------------\n"
          ]
        },
        {
          "data": {
            "text/plain": [
              "VendorID                       0\n",
              "tpep_pickup_datetime           0\n",
              "tpep_dropoff_datetime          0\n",
              "passenger_count            98352\n",
              "trip_distance                  0\n",
              "RatecodeID                 98352\n",
              "store_and_fwd_flag         98352\n",
              "PULocationID                   0\n",
              "DOLocationID                   0\n",
              "payment_type                   0\n",
              "fare_amount                    0\n",
              "extra                          0\n",
              "mta_tax                        0\n",
              "tip_amount                     0\n",
              "tolls_amount                   0\n",
              "improvement_surcharge          0\n",
              "total_amount                   0\n",
              "congestion_surcharge       98352\n",
              "airport_fee              1369764\n",
              "dtype: int64"
            ]
          },
          "metadata": {},
          "output_type": "display_data"
        },
        {
          "name": "stderr",
          "output_type": "stream",
          "text": [
            "/tmp/ipykernel_1363/4292361570.py:55: FutureWarning: Comparison of Timestamp with datetime.date is deprecated in order to match the standard library behavior. In a future version these will be considered non-comparable. Use 'ts == pd.Timestamp(date)' or 'ts.date() == date' instead.\n",
            "  if df.iat[i,0] in holiday:\n"
          ]
        },
        {
          "name": "stdout",
          "output_type": "stream",
          "text": [
            "Length of noisy data: 148453\n"
          ]
        },
        {
          "data": {
            "application/vnd.jupyter.widget-view+json": {
              "model_id": "a64207498f5147fda5f1e569b2e6a326",
              "version_major": 2,
              "version_minor": 0
            },
            "text/plain": [
              "  0%|          | 0/474 [00:00<?, ?it/s]"
            ]
          },
          "metadata": {},
          "output_type": "display_data"
        },
        {
          "name": "stdout",
          "output_type": "stream",
          "text": [
            "Reading yellow_tripdata_2021-02.parquet' file.\n",
            "Check all catergories of the data and NaN values.\n",
            "<class 'pandas.core.frame.DataFrame'>\n",
            "RangeIndex: 1371709 entries, 0 to 1371708\n",
            "Data columns (total 19 columns):\n",
            " #   Column                 Non-Null Count    Dtype         \n",
            "---  ------                 --------------    -----         \n",
            " 0   VendorID               1371709 non-null  int64         \n",
            " 1   tpep_pickup_datetime   1371709 non-null  datetime64[ns]\n",
            " 2   tpep_dropoff_datetime  1371709 non-null  datetime64[ns]\n",
            " 3   passenger_count        1273463 non-null  float64       \n",
            " 4   trip_distance          1371709 non-null  float64       \n",
            " 5   RatecodeID             1273463 non-null  float64       \n",
            " 6   store_and_fwd_flag     1273463 non-null  object        \n",
            " 7   PULocationID           1371709 non-null  int64         \n",
            " 8   DOLocationID           1371709 non-null  int64         \n",
            " 9   payment_type           1371709 non-null  int64         \n",
            " 10  fare_amount            1371709 non-null  float64       \n",
            " 11  extra                  1371709 non-null  float64       \n",
            " 12  mta_tax                1371709 non-null  float64       \n",
            " 13  tip_amount             1371709 non-null  float64       \n",
            " 14  tolls_amount           1371709 non-null  float64       \n",
            " 15  improvement_surcharge  1371709 non-null  float64       \n",
            " 16  total_amount           1371709 non-null  float64       \n",
            " 17  congestion_surcharge   1273463 non-null  float64       \n",
            " 18  airport_fee            1 non-null        float64       \n",
            "dtypes: datetime64[ns](2), float64(12), int64(4), object(1)\n",
            "memory usage: 198.8+ MB\n"
          ]
        },
        {
          "data": {
            "text/plain": [
              "None"
            ]
          },
          "metadata": {},
          "output_type": "display_data"
        },
        {
          "name": "stdout",
          "output_type": "stream",
          "text": [
            "--------------------\n"
          ]
        },
        {
          "data": {
            "text/plain": [
              "VendorID                       0\n",
              "tpep_pickup_datetime           0\n",
              "tpep_dropoff_datetime          0\n",
              "passenger_count            98246\n",
              "trip_distance                  0\n",
              "RatecodeID                 98246\n",
              "store_and_fwd_flag         98246\n",
              "PULocationID                   0\n",
              "DOLocationID                   0\n",
              "payment_type                   0\n",
              "fare_amount                    0\n",
              "extra                          0\n",
              "mta_tax                        0\n",
              "tip_amount                     0\n",
              "tolls_amount                   0\n",
              "improvement_surcharge          0\n",
              "total_amount                   0\n",
              "congestion_surcharge       98246\n",
              "airport_fee              1371708\n",
              "dtype: int64"
            ]
          },
          "metadata": {},
          "output_type": "display_data"
        },
        {
          "name": "stderr",
          "output_type": "stream",
          "text": [
            "/tmp/ipykernel_1363/4292361570.py:55: FutureWarning: Comparison of Timestamp with datetime.date is deprecated in order to match the standard library behavior. In a future version these will be considered non-comparable. Use 'ts == pd.Timestamp(date)' or 'ts.date() == date' instead.\n",
            "  if df.iat[i,0] in holiday:\n"
          ]
        },
        {
          "name": "stdout",
          "output_type": "stream",
          "text": [
            "Length of noisy data: 146806\n"
          ]
        },
        {
          "data": {
            "application/vnd.jupyter.widget-view+json": {
              "model_id": "09b4f567224941058cb3c4cd0f381282",
              "version_major": 2,
              "version_minor": 0
            },
            "text/plain": [
              "  0%|          | 0/474 [00:00<?, ?it/s]"
            ]
          },
          "metadata": {},
          "output_type": "display_data"
        },
        {
          "name": "stdout",
          "output_type": "stream",
          "text": [
            "Reading yellow_tripdata_2021-03.parquet' file.\n",
            "Check all catergories of the data and NaN values.\n",
            "<class 'pandas.core.frame.DataFrame'>\n",
            "RangeIndex: 1925152 entries, 0 to 1925151\n",
            "Data columns (total 19 columns):\n",
            " #   Column                 Dtype         \n",
            "---  ------                 -----         \n",
            " 0   VendorID               int64         \n",
            " 1   tpep_pickup_datetime   datetime64[ns]\n",
            " 2   tpep_dropoff_datetime  datetime64[ns]\n",
            " 3   passenger_count        float64       \n",
            " 4   trip_distance          float64       \n",
            " 5   RatecodeID             float64       \n",
            " 6   store_and_fwd_flag     object        \n",
            " 7   PULocationID           int64         \n",
            " 8   DOLocationID           int64         \n",
            " 9   payment_type           int64         \n",
            " 10  fare_amount            float64       \n",
            " 11  extra                  float64       \n",
            " 12  mta_tax                float64       \n",
            " 13  tip_amount             float64       \n",
            " 14  tolls_amount           float64       \n",
            " 15  improvement_surcharge  float64       \n",
            " 16  total_amount           float64       \n",
            " 17  congestion_surcharge   float64       \n",
            " 18  airport_fee            float64       \n",
            "dtypes: datetime64[ns](2), float64(12), int64(4), object(1)\n",
            "memory usage: 279.1+ MB\n"
          ]
        },
        {
          "data": {
            "text/plain": [
              "None"
            ]
          },
          "metadata": {},
          "output_type": "display_data"
        },
        {
          "name": "stdout",
          "output_type": "stream",
          "text": [
            "--------------------\n"
          ]
        },
        {
          "data": {
            "text/plain": [
              "VendorID                       0\n",
              "tpep_pickup_datetime           0\n",
              "tpep_dropoff_datetime          0\n",
              "passenger_count           127920\n",
              "trip_distance                  0\n",
              "RatecodeID                127920\n",
              "store_and_fwd_flag        127920\n",
              "PULocationID                   0\n",
              "DOLocationID                   0\n",
              "payment_type                   0\n",
              "fare_amount                    0\n",
              "extra                          0\n",
              "mta_tax                        0\n",
              "tip_amount                     0\n",
              "tolls_amount                   0\n",
              "improvement_surcharge          0\n",
              "total_amount                   0\n",
              "congestion_surcharge      127920\n",
              "airport_fee              1745645\n",
              "dtype: int64"
            ]
          },
          "metadata": {},
          "output_type": "display_data"
        },
        {
          "name": "stderr",
          "output_type": "stream",
          "text": [
            "/tmp/ipykernel_1363/4292361570.py:55: FutureWarning: Comparison of Timestamp with datetime.date is deprecated in order to match the standard library behavior. In a future version these will be considered non-comparable. Use 'ts == pd.Timestamp(date)' or 'ts.date() == date' instead.\n",
            "  if df.iat[i,0] in holiday:\n"
          ]
        },
        {
          "name": "stdout",
          "output_type": "stream",
          "text": [
            "Length of noisy data: 197122\n"
          ]
        },
        {
          "data": {
            "application/vnd.jupyter.widget-view+json": {
              "model_id": "9ed5f06bff564b338b57467e6e2f8c54",
              "version_major": 2,
              "version_minor": 0
            },
            "text/plain": [
              "  0%|          | 0/584 [00:00<?, ?it/s]"
            ]
          },
          "metadata": {},
          "output_type": "display_data"
        },
        {
          "name": "stdout",
          "output_type": "stream",
          "text": [
            "Reading yellow_tripdata_2021-04.parquet' file.\n",
            "Check all catergories of the data and NaN values.\n",
            "<class 'pandas.core.frame.DataFrame'>\n",
            "RangeIndex: 2171187 entries, 0 to 2171186\n",
            "Data columns (total 19 columns):\n",
            " #   Column                 Dtype         \n",
            "---  ------                 -----         \n",
            " 0   VendorID               int64         \n",
            " 1   tpep_pickup_datetime   datetime64[ns]\n",
            " 2   tpep_dropoff_datetime  datetime64[ns]\n",
            " 3   passenger_count        float64       \n",
            " 4   trip_distance          float64       \n",
            " 5   RatecodeID             float64       \n",
            " 6   store_and_fwd_flag     object        \n",
            " 7   PULocationID           int64         \n",
            " 8   DOLocationID           int64         \n",
            " 9   payment_type           int64         \n",
            " 10  fare_amount            float64       \n",
            " 11  extra                  float64       \n",
            " 12  mta_tax                float64       \n",
            " 13  tip_amount             float64       \n",
            " 14  tolls_amount           float64       \n",
            " 15  improvement_surcharge  float64       \n",
            " 16  total_amount           float64       \n",
            " 17  congestion_surcharge   float64       \n",
            " 18  airport_fee            float64       \n",
            "dtypes: datetime64[ns](2), float64(12), int64(4), object(1)\n",
            "memory usage: 314.7+ MB\n"
          ]
        },
        {
          "data": {
            "text/plain": [
              "None"
            ]
          },
          "metadata": {},
          "output_type": "display_data"
        },
        {
          "name": "stdout",
          "output_type": "stream",
          "text": [
            "--------------------\n"
          ]
        },
        {
          "data": {
            "text/plain": [
              "VendorID                      0\n",
              "tpep_pickup_datetime          0\n",
              "tpep_dropoff_datetime         0\n",
              "passenger_count          128020\n",
              "trip_distance                 0\n",
              "RatecodeID               128020\n",
              "store_and_fwd_flag       128020\n",
              "PULocationID                  0\n",
              "DOLocationID                  0\n",
              "payment_type                  0\n",
              "fare_amount                   0\n",
              "extra                         0\n",
              "mta_tax                       0\n",
              "tip_amount                    0\n",
              "tolls_amount                  0\n",
              "improvement_surcharge         0\n",
              "total_amount                  0\n",
              "congestion_surcharge     128020\n",
              "airport_fee              128096\n",
              "dtype: int64"
            ]
          },
          "metadata": {},
          "output_type": "display_data"
        },
        {
          "name": "stdout",
          "output_type": "stream",
          "text": [
            "Unexpected exception formatting exception. Falling back to standard exception\n"
          ]
        },
        {
          "name": "stderr",
          "output_type": "stream",
          "text": [
            "Traceback (most recent call last):\n",
            "  File \"/mnt/d/kurone/UNIST/5thSemester/Deep_Learning/venv/lib/python3.8/site-packages/IPython/core/interactiveshell.py\", line 3433, in run_code\n",
            "    exec(code_obj, self.user_global_ns, self.user_ns)\n",
            "  File \"/tmp/ipykernel_1363/2431663123.py\", line 11, in <module>\n",
            "    df = noisy_data_add_features(df, i)\n",
            "  File \"/tmp/ipykernel_1363/4292361570.py\", line 16, in noisy_data_add_features\n",
            "    if df.iat[i,2] == 0.0 or df.iat[i,3] == 0.0:  # Find data with 0 number of passengers or 0.0 trip_distance\n",
            "  File \"/mnt/d/kurone/UNIST/5thSemester/Deep_Learning/venv/lib/python3.8/site-packages/pandas/core/indexing.py\", line 2382, in __getitem__\n",
            "    return self.obj._get_value(*key, takeable=self._takeable)\n",
            "  File \"/mnt/d/kurone/UNIST/5thSemester/Deep_Learning/venv/lib/python3.8/site-packages/pandas/core/frame.py\", line 3911, in _get_value\n",
            "    series = self._ixs(col, axis=1)\n",
            "  File \"/mnt/d/kurone/UNIST/5thSemester/Deep_Learning/venv/lib/python3.8/site-packages/pandas/core/frame.py\", line 3731, in _ixs\n",
            "    result._set_as_cached(label, self)\n",
            "  File \"/mnt/d/kurone/UNIST/5thSemester/Deep_Learning/venv/lib/python3.8/site-packages/pandas/core/series.py\", line 1272, in _set_as_cached\n",
            "    self._cacher = (item, weakref.ref(cacher))\n",
            "  File \"/mnt/d/kurone/UNIST/5thSemester/Deep_Learning/venv/lib/python3.8/site-packages/pandas/core/generic.py\", line 5921, in __setattr__\n",
            "    if name in self._internal_names_set:\n",
            "KeyboardInterrupt\n",
            "\n",
            "During handling of the above exception, another exception occurred:\n",
            "\n",
            "Traceback (most recent call last):\n",
            "  File \"/mnt/d/kurone/UNIST/5thSemester/Deep_Learning/venv/lib/python3.8/site-packages/IPython/core/interactiveshell.py\", line 2052, in showtraceback\n",
            "    stb = self.InteractiveTB.structured_traceback(\n",
            "  File \"/mnt/d/kurone/UNIST/5thSemester/Deep_Learning/venv/lib/python3.8/site-packages/IPython/core/ultratb.py\", line 1112, in structured_traceback\n",
            "    return FormattedTB.structured_traceback(\n",
            "  File \"/mnt/d/kurone/UNIST/5thSemester/Deep_Learning/venv/lib/python3.8/site-packages/IPython/core/ultratb.py\", line 1006, in structured_traceback\n",
            "    return VerboseTB.structured_traceback(\n",
            "  File \"/mnt/d/kurone/UNIST/5thSemester/Deep_Learning/venv/lib/python3.8/site-packages/IPython/core/ultratb.py\", line 859, in structured_traceback\n",
            "    formatted_exception = self.format_exception_as_a_whole(etype, evalue, etb, number_of_lines_of_context,\n",
            "  File \"/mnt/d/kurone/UNIST/5thSemester/Deep_Learning/venv/lib/python3.8/site-packages/IPython/core/ultratb.py\", line 812, in format_exception_as_a_whole\n",
            "    frames.append(self.format_record(r))\n",
            "  File \"/mnt/d/kurone/UNIST/5thSemester/Deep_Learning/venv/lib/python3.8/site-packages/IPython/core/ultratb.py\", line 730, in format_record\n",
            "    result += ''.join(_format_traceback_lines(frame_info.lines, Colors, self.has_colors, lvals))\n",
            "  File \"/mnt/d/kurone/UNIST/5thSemester/Deep_Learning/venv/lib/python3.8/site-packages/stack_data/utils.py\", line 144, in cached_property_wrapper\n",
            "    value = obj.__dict__[self.func.__name__] = self.func(obj)\n",
            "  File \"/mnt/d/kurone/UNIST/5thSemester/Deep_Learning/venv/lib/python3.8/site-packages/stack_data/core.py\", line 720, in lines\n",
            "    pieces = self.included_pieces\n",
            "  File \"/mnt/d/kurone/UNIST/5thSemester/Deep_Learning/venv/lib/python3.8/site-packages/stack_data/utils.py\", line 144, in cached_property_wrapper\n",
            "    value = obj.__dict__[self.func.__name__] = self.func(obj)\n",
            "  File \"/mnt/d/kurone/UNIST/5thSemester/Deep_Learning/venv/lib/python3.8/site-packages/stack_data/core.py\", line 663, in included_pieces\n",
            "    scope_pieces = self.scope_pieces\n",
            "  File \"/mnt/d/kurone/UNIST/5thSemester/Deep_Learning/venv/lib/python3.8/site-packages/stack_data/utils.py\", line 144, in cached_property_wrapper\n",
            "    value = obj.__dict__[self.func.__name__] = self.func(obj)\n",
            "  File \"/mnt/d/kurone/UNIST/5thSemester/Deep_Learning/venv/lib/python3.8/site-packages/stack_data/core.py\", line 600, in scope_pieces\n",
            "    scope_start, scope_end = self.source.line_range(self.scope)\n",
            "  File \"/mnt/d/kurone/UNIST/5thSemester/Deep_Learning/venv/lib/python3.8/site-packages/stack_data/core.py\", line 164, in line_range\n",
            "    return line_range(self.asttext(), node)\n",
            "AttributeError: 'Source' object has no attribute 'asttext'\n"
          ]
        }
      ],
      "source": [
        "for i in range (1,6):\n",
        "  print(\"Reading yellow_tripdata_2021-%02d.parquet' file.\" % i)\n",
        "  file_path = base_path + '/' + 'yellow_tripdata_2021-%02d.parquet' % i \n",
        "  # Read data file\n",
        "  df = pd.read_parquet(file_path)\n",
        "  df.tail(10)\n",
        "  print(\"Check all catergories of the data and NaN values.\")\n",
        "  check_NaN(df)\n",
        "  df = getting_valuable_columns_and_fill_NaN(df)\n",
        "  df\n",
        "  df = noisy_data_add_features(df, i)\n",
        "  df\n",
        "  if i == 1:\n",
        "    whole_df = df\n",
        "    \n",
        "  whole_df = pd.concat([whole_df, df])\n",
        "  df.to_parquet('Preprocessed_data/eda_yellow_tripdata_2021-%02d.parquet' % i)\n",
        "  plot(df)"
      ]
    },
    {
      "cell_type": "markdown",
      "metadata": {
        "id": "qGaU3gPwc7bx"
      },
      "source": [
        "# III. Visualizing data"
      ]
    },
    {
      "cell_type": "markdown",
      "metadata": {
        "id": "SOMTHwT9guth"
      },
      "source": [
        "## 1. Analyze distributions "
      ]
    },
    {
      "cell_type": "code",
      "execution_count": null,
      "metadata": {
        "colab": {
          "base_uri": "https://localhost:8080/",
          "height": 1000
        },
        "id": "qjCoJTs8p5qE",
        "outputId": "853062c8-bbf5-49d7-b1cb-cf8cc638b2ec"
      },
      "outputs": [
        {
          "name": "stdout",
          "output_type": "stream",
          "text": [
            "Unexpected exception formatting exception. Falling back to standard exception\n"
          ]
        },
        {
          "name": "stderr",
          "output_type": "stream",
          "text": [
            "Traceback (most recent call last):\n",
            "  File \"/mnt/d/kurone/UNIST/5thSemester/Deep_Learning/venv/lib/python3.8/site-packages/IPython/core/interactiveshell.py\", line 3433, in run_code\n",
            "    exec(code_obj, self.user_global_ns, self.user_ns)\n",
            "  File \"/tmp/ipykernel_1363/3248155569.py\", line 1, in <module>\n",
            "    plot(df)\n",
            "NameError: name 'df' is not defined\n",
            "\n",
            "During handling of the above exception, another exception occurred:\n",
            "\n",
            "Traceback (most recent call last):\n",
            "  File \"/mnt/d/kurone/UNIST/5thSemester/Deep_Learning/venv/lib/python3.8/site-packages/IPython/core/interactiveshell.py\", line 2052, in showtraceback\n",
            "    stb = self.InteractiveTB.structured_traceback(\n",
            "  File \"/mnt/d/kurone/UNIST/5thSemester/Deep_Learning/venv/lib/python3.8/site-packages/IPython/core/ultratb.py\", line 1112, in structured_traceback\n",
            "    return FormattedTB.structured_traceback(\n",
            "  File \"/mnt/d/kurone/UNIST/5thSemester/Deep_Learning/venv/lib/python3.8/site-packages/IPython/core/ultratb.py\", line 1006, in structured_traceback\n",
            "    return VerboseTB.structured_traceback(\n",
            "  File \"/mnt/d/kurone/UNIST/5thSemester/Deep_Learning/venv/lib/python3.8/site-packages/IPython/core/ultratb.py\", line 859, in structured_traceback\n",
            "    formatted_exception = self.format_exception_as_a_whole(etype, evalue, etb, number_of_lines_of_context,\n",
            "  File \"/mnt/d/kurone/UNIST/5thSemester/Deep_Learning/venv/lib/python3.8/site-packages/IPython/core/ultratb.py\", line 812, in format_exception_as_a_whole\n",
            "    frames.append(self.format_record(r))\n",
            "  File \"/mnt/d/kurone/UNIST/5thSemester/Deep_Learning/venv/lib/python3.8/site-packages/IPython/core/ultratb.py\", line 730, in format_record\n",
            "    result += ''.join(_format_traceback_lines(frame_info.lines, Colors, self.has_colors, lvals))\n",
            "  File \"/mnt/d/kurone/UNIST/5thSemester/Deep_Learning/venv/lib/python3.8/site-packages/stack_data/utils.py\", line 144, in cached_property_wrapper\n",
            "    value = obj.__dict__[self.func.__name__] = self.func(obj)\n",
            "  File \"/mnt/d/kurone/UNIST/5thSemester/Deep_Learning/venv/lib/python3.8/site-packages/stack_data/core.py\", line 720, in lines\n",
            "    pieces = self.included_pieces\n",
            "  File \"/mnt/d/kurone/UNIST/5thSemester/Deep_Learning/venv/lib/python3.8/site-packages/stack_data/utils.py\", line 144, in cached_property_wrapper\n",
            "    value = obj.__dict__[self.func.__name__] = self.func(obj)\n",
            "  File \"/mnt/d/kurone/UNIST/5thSemester/Deep_Learning/venv/lib/python3.8/site-packages/stack_data/core.py\", line 663, in included_pieces\n",
            "    scope_pieces = self.scope_pieces\n",
            "  File \"/mnt/d/kurone/UNIST/5thSemester/Deep_Learning/venv/lib/python3.8/site-packages/stack_data/utils.py\", line 144, in cached_property_wrapper\n",
            "    value = obj.__dict__[self.func.__name__] = self.func(obj)\n",
            "  File \"/mnt/d/kurone/UNIST/5thSemester/Deep_Learning/venv/lib/python3.8/site-packages/stack_data/core.py\", line 600, in scope_pieces\n",
            "    scope_start, scope_end = self.source.line_range(self.scope)\n",
            "  File \"/mnt/d/kurone/UNIST/5thSemester/Deep_Learning/venv/lib/python3.8/site-packages/stack_data/core.py\", line 164, in line_range\n",
            "    return line_range(self.asttext(), node)\n",
            "AttributeError: 'Source' object has no attribute 'asttext'\n"
          ]
        }
      ],
      "source": [
        "plot(df)\n"
      ]
    },
    {
      "cell_type": "code",
      "execution_count": null,
      "metadata": {
        "colab": {
          "base_uri": "https://localhost:8080/",
          "height": 1000
        },
        "id": "3eDkd-h4gJZF",
        "outputId": "2f42c0b9-51fe-4fda-d517-18fe6d1826b9"
      },
      "outputs": [
        {
          "name": "stdout",
          "output_type": "stream",
          "text": [
            "Unexpected exception formatting exception. Falling back to standard exception\n"
          ]
        },
        {
          "name": "stderr",
          "output_type": "stream",
          "text": [
            "Traceback (most recent call last):\n",
            "  File \"/mnt/d/kurone/UNIST/5thSemester/Deep_Learning/venv/lib/python3.8/site-packages/IPython/core/interactiveshell.py\", line 3433, in run_code\n",
            "    exec(code_obj, self.user_global_ns, self.user_ns)\n",
            "  File \"/tmp/ipykernel_1363/501204991.py\", line 1, in <module>\n",
            "    plot(whole_df)\n",
            "NameError: name 'whole_df' is not defined\n",
            "\n",
            "During handling of the above exception, another exception occurred:\n",
            "\n",
            "Traceback (most recent call last):\n",
            "  File \"/mnt/d/kurone/UNIST/5thSemester/Deep_Learning/venv/lib/python3.8/site-packages/IPython/core/interactiveshell.py\", line 2052, in showtraceback\n",
            "    stb = self.InteractiveTB.structured_traceback(\n",
            "  File \"/mnt/d/kurone/UNIST/5thSemester/Deep_Learning/venv/lib/python3.8/site-packages/IPython/core/ultratb.py\", line 1112, in structured_traceback\n",
            "    return FormattedTB.structured_traceback(\n",
            "  File \"/mnt/d/kurone/UNIST/5thSemester/Deep_Learning/venv/lib/python3.8/site-packages/IPython/core/ultratb.py\", line 1006, in structured_traceback\n",
            "    return VerboseTB.structured_traceback(\n",
            "  File \"/mnt/d/kurone/UNIST/5thSemester/Deep_Learning/venv/lib/python3.8/site-packages/IPython/core/ultratb.py\", line 859, in structured_traceback\n",
            "    formatted_exception = self.format_exception_as_a_whole(etype, evalue, etb, number_of_lines_of_context,\n",
            "  File \"/mnt/d/kurone/UNIST/5thSemester/Deep_Learning/venv/lib/python3.8/site-packages/IPython/core/ultratb.py\", line 812, in format_exception_as_a_whole\n",
            "    frames.append(self.format_record(r))\n",
            "  File \"/mnt/d/kurone/UNIST/5thSemester/Deep_Learning/venv/lib/python3.8/site-packages/IPython/core/ultratb.py\", line 730, in format_record\n",
            "    result += ''.join(_format_traceback_lines(frame_info.lines, Colors, self.has_colors, lvals))\n",
            "  File \"/mnt/d/kurone/UNIST/5thSemester/Deep_Learning/venv/lib/python3.8/site-packages/stack_data/utils.py\", line 144, in cached_property_wrapper\n",
            "    value = obj.__dict__[self.func.__name__] = self.func(obj)\n",
            "  File \"/mnt/d/kurone/UNIST/5thSemester/Deep_Learning/venv/lib/python3.8/site-packages/stack_data/core.py\", line 720, in lines\n",
            "    pieces = self.included_pieces\n",
            "  File \"/mnt/d/kurone/UNIST/5thSemester/Deep_Learning/venv/lib/python3.8/site-packages/stack_data/utils.py\", line 144, in cached_property_wrapper\n",
            "    value = obj.__dict__[self.func.__name__] = self.func(obj)\n",
            "  File \"/mnt/d/kurone/UNIST/5thSemester/Deep_Learning/venv/lib/python3.8/site-packages/stack_data/core.py\", line 663, in included_pieces\n",
            "    scope_pieces = self.scope_pieces\n",
            "  File \"/mnt/d/kurone/UNIST/5thSemester/Deep_Learning/venv/lib/python3.8/site-packages/stack_data/utils.py\", line 144, in cached_property_wrapper\n",
            "    value = obj.__dict__[self.func.__name__] = self.func(obj)\n",
            "  File \"/mnt/d/kurone/UNIST/5thSemester/Deep_Learning/venv/lib/python3.8/site-packages/stack_data/core.py\", line 600, in scope_pieces\n",
            "    scope_start, scope_end = self.source.line_range(self.scope)\n",
            "  File \"/mnt/d/kurone/UNIST/5thSemester/Deep_Learning/venv/lib/python3.8/site-packages/stack_data/core.py\", line 164, in line_range\n",
            "    return line_range(self.asttext(), node)\n",
            "AttributeError: 'Source' object has no attribute 'asttext'\n"
          ]
        }
      ],
      "source": [
        "plot(whole_df)"
      ]
    },
    {
      "cell_type": "code",
      "execution_count": null,
      "metadata": {
        "colab": {
          "base_uri": "https://localhost:8080/",
          "height": 580
        },
        "id": "zqGcBz8opbQi",
        "outputId": "ccbc9eed-4724-4ee1-af64-5f102ce983b7"
      },
      "outputs": [
        {
          "name": "stdout",
          "output_type": "stream",
          "text": [
            "Analyzing Dropoff Location Data\n",
            "\n",
            "Unexpected exception formatting exception. Falling back to standard exception\n"
          ]
        },
        {
          "name": "stderr",
          "output_type": "stream",
          "text": [
            "Traceback (most recent call last):\n",
            "  File \"/mnt/d/kurone/UNIST/5thSemester/Deep_Learning/venv/lib/python3.8/site-packages/IPython/core/interactiveshell.py\", line 3433, in run_code\n",
            "    exec(code_obj, self.user_global_ns, self.user_ns)\n",
            "  File \"/tmp/ipykernel_1363/3628766836.py\", line 2, in <module>\n",
            "    plot(whole_df, 'DOLocationID')\n",
            "NameError: name 'whole_df' is not defined\n",
            "\n",
            "During handling of the above exception, another exception occurred:\n",
            "\n",
            "Traceback (most recent call last):\n",
            "  File \"/mnt/d/kurone/UNIST/5thSemester/Deep_Learning/venv/lib/python3.8/site-packages/IPython/core/interactiveshell.py\", line 2052, in showtraceback\n",
            "    stb = self.InteractiveTB.structured_traceback(\n",
            "  File \"/mnt/d/kurone/UNIST/5thSemester/Deep_Learning/venv/lib/python3.8/site-packages/IPython/core/ultratb.py\", line 1112, in structured_traceback\n",
            "    return FormattedTB.structured_traceback(\n",
            "  File \"/mnt/d/kurone/UNIST/5thSemester/Deep_Learning/venv/lib/python3.8/site-packages/IPython/core/ultratb.py\", line 1006, in structured_traceback\n",
            "    return VerboseTB.structured_traceback(\n",
            "  File \"/mnt/d/kurone/UNIST/5thSemester/Deep_Learning/venv/lib/python3.8/site-packages/IPython/core/ultratb.py\", line 859, in structured_traceback\n",
            "    formatted_exception = self.format_exception_as_a_whole(etype, evalue, etb, number_of_lines_of_context,\n",
            "  File \"/mnt/d/kurone/UNIST/5thSemester/Deep_Learning/venv/lib/python3.8/site-packages/IPython/core/ultratb.py\", line 812, in format_exception_as_a_whole\n",
            "    frames.append(self.format_record(r))\n",
            "  File \"/mnt/d/kurone/UNIST/5thSemester/Deep_Learning/venv/lib/python3.8/site-packages/IPython/core/ultratb.py\", line 730, in format_record\n",
            "    result += ''.join(_format_traceback_lines(frame_info.lines, Colors, self.has_colors, lvals))\n",
            "  File \"/mnt/d/kurone/UNIST/5thSemester/Deep_Learning/venv/lib/python3.8/site-packages/stack_data/utils.py\", line 144, in cached_property_wrapper\n",
            "    value = obj.__dict__[self.func.__name__] = self.func(obj)\n",
            "  File \"/mnt/d/kurone/UNIST/5thSemester/Deep_Learning/venv/lib/python3.8/site-packages/stack_data/core.py\", line 720, in lines\n",
            "    pieces = self.included_pieces\n",
            "  File \"/mnt/d/kurone/UNIST/5thSemester/Deep_Learning/venv/lib/python3.8/site-packages/stack_data/utils.py\", line 144, in cached_property_wrapper\n",
            "    value = obj.__dict__[self.func.__name__] = self.func(obj)\n",
            "  File \"/mnt/d/kurone/UNIST/5thSemester/Deep_Learning/venv/lib/python3.8/site-packages/stack_data/core.py\", line 663, in included_pieces\n",
            "    scope_pieces = self.scope_pieces\n",
            "  File \"/mnt/d/kurone/UNIST/5thSemester/Deep_Learning/venv/lib/python3.8/site-packages/stack_data/utils.py\", line 144, in cached_property_wrapper\n",
            "    value = obj.__dict__[self.func.__name__] = self.func(obj)\n",
            "  File \"/mnt/d/kurone/UNIST/5thSemester/Deep_Learning/venv/lib/python3.8/site-packages/stack_data/core.py\", line 600, in scope_pieces\n",
            "    scope_start, scope_end = self.source.line_range(self.scope)\n",
            "  File \"/mnt/d/kurone/UNIST/5thSemester/Deep_Learning/venv/lib/python3.8/site-packages/stack_data/core.py\", line 164, in line_range\n",
            "    return line_range(self.asttext(), node)\n",
            "AttributeError: 'Source' object has no attribute 'asttext'\n"
          ]
        }
      ],
      "source": [
        "print(\"Analyzing Dropoff Location Data\\n\")\n",
        "plot(whole_df, 'DOLocationID')\n"
      ]
    },
    {
      "cell_type": "code",
      "execution_count": null,
      "metadata": {
        "colab": {
          "base_uri": "https://localhost:8080/",
          "height": 546
        },
        "id": "84e3xVHwpyWc",
        "outputId": "22531ac9-005d-4577-a709-819798c07e29"
      },
      "outputs": [
        {
          "name": "stdout",
          "output_type": "stream",
          "text": [
            "Unexpected exception formatting exception. Falling back to standard exception\n"
          ]
        },
        {
          "name": "stderr",
          "output_type": "stream",
          "text": [
            "Traceback (most recent call last):\n",
            "  File \"/mnt/d/kurone/UNIST/5thSemester/Deep_Learning/venv/lib/python3.8/site-packages/IPython/core/interactiveshell.py\", line 3433, in run_code\n",
            "    exec(code_obj, self.user_global_ns, self.user_ns)\n",
            "  File \"/tmp/ipykernel_1363/727462609.py\", line 1, in <module>\n",
            "    plot(whole_df, 'PULocationID')\n",
            "NameError: name 'whole_df' is not defined\n",
            "\n",
            "During handling of the above exception, another exception occurred:\n",
            "\n",
            "Traceback (most recent call last):\n",
            "  File \"/mnt/d/kurone/UNIST/5thSemester/Deep_Learning/venv/lib/python3.8/site-packages/IPython/core/interactiveshell.py\", line 2052, in showtraceback\n",
            "    stb = self.InteractiveTB.structured_traceback(\n",
            "  File \"/mnt/d/kurone/UNIST/5thSemester/Deep_Learning/venv/lib/python3.8/site-packages/IPython/core/ultratb.py\", line 1112, in structured_traceback\n",
            "    return FormattedTB.structured_traceback(\n",
            "  File \"/mnt/d/kurone/UNIST/5thSemester/Deep_Learning/venv/lib/python3.8/site-packages/IPython/core/ultratb.py\", line 1006, in structured_traceback\n",
            "    return VerboseTB.structured_traceback(\n",
            "  File \"/mnt/d/kurone/UNIST/5thSemester/Deep_Learning/venv/lib/python3.8/site-packages/IPython/core/ultratb.py\", line 859, in structured_traceback\n",
            "    formatted_exception = self.format_exception_as_a_whole(etype, evalue, etb, number_of_lines_of_context,\n",
            "  File \"/mnt/d/kurone/UNIST/5thSemester/Deep_Learning/venv/lib/python3.8/site-packages/IPython/core/ultratb.py\", line 812, in format_exception_as_a_whole\n",
            "    frames.append(self.format_record(r))\n",
            "  File \"/mnt/d/kurone/UNIST/5thSemester/Deep_Learning/venv/lib/python3.8/site-packages/IPython/core/ultratb.py\", line 730, in format_record\n",
            "    result += ''.join(_format_traceback_lines(frame_info.lines, Colors, self.has_colors, lvals))\n",
            "  File \"/mnt/d/kurone/UNIST/5thSemester/Deep_Learning/venv/lib/python3.8/site-packages/stack_data/utils.py\", line 144, in cached_property_wrapper\n",
            "    value = obj.__dict__[self.func.__name__] = self.func(obj)\n",
            "  File \"/mnt/d/kurone/UNIST/5thSemester/Deep_Learning/venv/lib/python3.8/site-packages/stack_data/core.py\", line 720, in lines\n",
            "    pieces = self.included_pieces\n",
            "  File \"/mnt/d/kurone/UNIST/5thSemester/Deep_Learning/venv/lib/python3.8/site-packages/stack_data/utils.py\", line 144, in cached_property_wrapper\n",
            "    value = obj.__dict__[self.func.__name__] = self.func(obj)\n",
            "  File \"/mnt/d/kurone/UNIST/5thSemester/Deep_Learning/venv/lib/python3.8/site-packages/stack_data/core.py\", line 663, in included_pieces\n",
            "    scope_pieces = self.scope_pieces\n",
            "  File \"/mnt/d/kurone/UNIST/5thSemester/Deep_Learning/venv/lib/python3.8/site-packages/stack_data/utils.py\", line 144, in cached_property_wrapper\n",
            "    value = obj.__dict__[self.func.__name__] = self.func(obj)\n",
            "  File \"/mnt/d/kurone/UNIST/5thSemester/Deep_Learning/venv/lib/python3.8/site-packages/stack_data/core.py\", line 600, in scope_pieces\n",
            "    scope_start, scope_end = self.source.line_range(self.scope)\n",
            "  File \"/mnt/d/kurone/UNIST/5thSemester/Deep_Learning/venv/lib/python3.8/site-packages/stack_data/core.py\", line 164, in line_range\n",
            "    return line_range(self.asttext(), node)\n",
            "AttributeError: 'Source' object has no attribute 'asttext'\n"
          ]
        }
      ],
      "source": [
        "plot(whole_df, 'PULocationID')\n"
      ]
    },
    {
      "cell_type": "code",
      "execution_count": null,
      "metadata": {
        "colab": {
          "base_uri": "https://localhost:8080/",
          "height": 479
        },
        "id": "BsDsV-GugtIk",
        "outputId": "4253495c-140d-4c3d-d9eb-9060a3fd15e1"
      },
      "outputs": [
        {
          "name": "stdout",
          "output_type": "stream",
          "text": [
            "Analyzing correlation between pickup hour and day of week\n",
            "\n",
            "Unexpected exception formatting exception. Falling back to standard exception\n"
          ]
        },
        {
          "name": "stderr",
          "output_type": "stream",
          "text": [
            "Traceback (most recent call last):\n",
            "  File \"/mnt/d/kurone/UNIST/5thSemester/Deep_Learning/venv/lib/python3.8/site-packages/IPython/core/interactiveshell.py\", line 3433, in run_code\n",
            "    exec(code_obj, self.user_global_ns, self.user_ns)\n",
            "  File \"/tmp/ipykernel_1363/1647285140.py\", line 2, in <module>\n",
            "    plot(whole_df,'DayofWeek','pickup_hour')\n",
            "NameError: name 'whole_df' is not defined\n",
            "\n",
            "During handling of the above exception, another exception occurred:\n",
            "\n",
            "Traceback (most recent call last):\n",
            "  File \"/mnt/d/kurone/UNIST/5thSemester/Deep_Learning/venv/lib/python3.8/site-packages/IPython/core/interactiveshell.py\", line 2052, in showtraceback\n",
            "    stb = self.InteractiveTB.structured_traceback(\n",
            "  File \"/mnt/d/kurone/UNIST/5thSemester/Deep_Learning/venv/lib/python3.8/site-packages/IPython/core/ultratb.py\", line 1112, in structured_traceback\n",
            "    return FormattedTB.structured_traceback(\n",
            "  File \"/mnt/d/kurone/UNIST/5thSemester/Deep_Learning/venv/lib/python3.8/site-packages/IPython/core/ultratb.py\", line 1006, in structured_traceback\n",
            "    return VerboseTB.structured_traceback(\n",
            "  File \"/mnt/d/kurone/UNIST/5thSemester/Deep_Learning/venv/lib/python3.8/site-packages/IPython/core/ultratb.py\", line 859, in structured_traceback\n",
            "    formatted_exception = self.format_exception_as_a_whole(etype, evalue, etb, number_of_lines_of_context,\n",
            "  File \"/mnt/d/kurone/UNIST/5thSemester/Deep_Learning/venv/lib/python3.8/site-packages/IPython/core/ultratb.py\", line 812, in format_exception_as_a_whole\n",
            "    frames.append(self.format_record(r))\n",
            "  File \"/mnt/d/kurone/UNIST/5thSemester/Deep_Learning/venv/lib/python3.8/site-packages/IPython/core/ultratb.py\", line 730, in format_record\n",
            "    result += ''.join(_format_traceback_lines(frame_info.lines, Colors, self.has_colors, lvals))\n",
            "  File \"/mnt/d/kurone/UNIST/5thSemester/Deep_Learning/venv/lib/python3.8/site-packages/stack_data/utils.py\", line 144, in cached_property_wrapper\n",
            "    value = obj.__dict__[self.func.__name__] = self.func(obj)\n",
            "  File \"/mnt/d/kurone/UNIST/5thSemester/Deep_Learning/venv/lib/python3.8/site-packages/stack_data/core.py\", line 720, in lines\n",
            "    pieces = self.included_pieces\n",
            "  File \"/mnt/d/kurone/UNIST/5thSemester/Deep_Learning/venv/lib/python3.8/site-packages/stack_data/utils.py\", line 144, in cached_property_wrapper\n",
            "    value = obj.__dict__[self.func.__name__] = self.func(obj)\n",
            "  File \"/mnt/d/kurone/UNIST/5thSemester/Deep_Learning/venv/lib/python3.8/site-packages/stack_data/core.py\", line 663, in included_pieces\n",
            "    scope_pieces = self.scope_pieces\n",
            "  File \"/mnt/d/kurone/UNIST/5thSemester/Deep_Learning/venv/lib/python3.8/site-packages/stack_data/utils.py\", line 144, in cached_property_wrapper\n",
            "    value = obj.__dict__[self.func.__name__] = self.func(obj)\n",
            "  File \"/mnt/d/kurone/UNIST/5thSemester/Deep_Learning/venv/lib/python3.8/site-packages/stack_data/core.py\", line 600, in scope_pieces\n",
            "    scope_start, scope_end = self.source.line_range(self.scope)\n",
            "  File \"/mnt/d/kurone/UNIST/5thSemester/Deep_Learning/venv/lib/python3.8/site-packages/stack_data/core.py\", line 164, in line_range\n",
            "    return line_range(self.asttext(), node)\n",
            "AttributeError: 'Source' object has no attribute 'asttext'\n"
          ]
        }
      ],
      "source": [
        "print(\"Analyzing correlation between pickup hour and day of week\\n\")\n",
        "plot(whole_df,'DayofWeek','pickup_hour')"
      ]
    },
    {
      "cell_type": "code",
      "execution_count": null,
      "metadata": {
        "colab": {
          "base_uri": "https://localhost:8080/",
          "height": 363
        },
        "id": "0pb9BO7ch-EG",
        "outputId": "5d0cc499-8f2e-4b39-dce3-c4fd411e98ee"
      },
      "outputs": [
        {
          "name": "stdout",
          "output_type": "stream",
          "text": [
            "Analyzing correlation between pickup hour and day of week\n",
            "\n",
            "Unexpected exception formatting exception. Falling back to standard exception\n"
          ]
        },
        {
          "name": "stderr",
          "output_type": "stream",
          "text": [
            "Traceback (most recent call last):\n",
            "  File \"/mnt/d/kurone/UNIST/5thSemester/Deep_Learning/venv/lib/python3.8/site-packages/IPython/core/interactiveshell.py\", line 3433, in run_code\n",
            "    exec(code_obj, self.user_global_ns, self.user_ns)\n",
            "  File \"/tmp/ipykernel_1363/3999914158.py\", line 2, in <module>\n",
            "    plot(whole_df,'pickup_month','pickup_hour')\n",
            "NameError: name 'whole_df' is not defined\n",
            "\n",
            "During handling of the above exception, another exception occurred:\n",
            "\n",
            "Traceback (most recent call last):\n",
            "  File \"/mnt/d/kurone/UNIST/5thSemester/Deep_Learning/venv/lib/python3.8/site-packages/IPython/core/interactiveshell.py\", line 2052, in showtraceback\n",
            "    stb = self.InteractiveTB.structured_traceback(\n",
            "  File \"/mnt/d/kurone/UNIST/5thSemester/Deep_Learning/venv/lib/python3.8/site-packages/IPython/core/ultratb.py\", line 1112, in structured_traceback\n",
            "    return FormattedTB.structured_traceback(\n",
            "  File \"/mnt/d/kurone/UNIST/5thSemester/Deep_Learning/venv/lib/python3.8/site-packages/IPython/core/ultratb.py\", line 1006, in structured_traceback\n",
            "    return VerboseTB.structured_traceback(\n",
            "  File \"/mnt/d/kurone/UNIST/5thSemester/Deep_Learning/venv/lib/python3.8/site-packages/IPython/core/ultratb.py\", line 859, in structured_traceback\n",
            "    formatted_exception = self.format_exception_as_a_whole(etype, evalue, etb, number_of_lines_of_context,\n",
            "  File \"/mnt/d/kurone/UNIST/5thSemester/Deep_Learning/venv/lib/python3.8/site-packages/IPython/core/ultratb.py\", line 812, in format_exception_as_a_whole\n",
            "    frames.append(self.format_record(r))\n",
            "  File \"/mnt/d/kurone/UNIST/5thSemester/Deep_Learning/venv/lib/python3.8/site-packages/IPython/core/ultratb.py\", line 730, in format_record\n",
            "    result += ''.join(_format_traceback_lines(frame_info.lines, Colors, self.has_colors, lvals))\n",
            "  File \"/mnt/d/kurone/UNIST/5thSemester/Deep_Learning/venv/lib/python3.8/site-packages/stack_data/utils.py\", line 144, in cached_property_wrapper\n",
            "    value = obj.__dict__[self.func.__name__] = self.func(obj)\n",
            "  File \"/mnt/d/kurone/UNIST/5thSemester/Deep_Learning/venv/lib/python3.8/site-packages/stack_data/core.py\", line 720, in lines\n",
            "    pieces = self.included_pieces\n",
            "  File \"/mnt/d/kurone/UNIST/5thSemester/Deep_Learning/venv/lib/python3.8/site-packages/stack_data/utils.py\", line 144, in cached_property_wrapper\n",
            "    value = obj.__dict__[self.func.__name__] = self.func(obj)\n",
            "  File \"/mnt/d/kurone/UNIST/5thSemester/Deep_Learning/venv/lib/python3.8/site-packages/stack_data/core.py\", line 663, in included_pieces\n",
            "    scope_pieces = self.scope_pieces\n",
            "  File \"/mnt/d/kurone/UNIST/5thSemester/Deep_Learning/venv/lib/python3.8/site-packages/stack_data/utils.py\", line 144, in cached_property_wrapper\n",
            "    value = obj.__dict__[self.func.__name__] = self.func(obj)\n",
            "  File \"/mnt/d/kurone/UNIST/5thSemester/Deep_Learning/venv/lib/python3.8/site-packages/stack_data/core.py\", line 600, in scope_pieces\n",
            "    scope_start, scope_end = self.source.line_range(self.scope)\n",
            "  File \"/mnt/d/kurone/UNIST/5thSemester/Deep_Learning/venv/lib/python3.8/site-packages/stack_data/core.py\", line 164, in line_range\n",
            "    return line_range(self.asttext(), node)\n",
            "AttributeError: 'Source' object has no attribute 'asttext'\n"
          ]
        }
      ],
      "source": [
        "print(\"Analyzing correlation between pickup hour and day of week\\n\")\n",
        "plot(whole_df,'pickup_month','pickup_hour')"
      ]
    },
    {
      "cell_type": "code",
      "execution_count": null,
      "metadata": {
        "id": "c7w6r3rHoGJ-"
      },
      "outputs": [
        {
          "name": "stdout",
          "output_type": "stream",
          "text": [
            "Unexpected exception formatting exception. Falling back to standard exception\n"
          ]
        },
        {
          "name": "stderr",
          "output_type": "stream",
          "text": [
            "Traceback (most recent call last):\n",
            "  File \"/mnt/d/kurone/UNIST/5thSemester/Deep_Learning/venv/lib/python3.8/site-packages/IPython/core/interactiveshell.py\", line 3433, in run_code\n",
            "    exec(code_obj, self.user_global_ns, self.user_ns)\n",
            "  File \"/tmp/ipykernel_1363/2704727351.py\", line 9, in <module>\n",
            "    morning_pickup.append(whole_df[(whole_df['DayofWeek'] == i) & (whole_df['pickup_hour'] >= 6) & (whole_df['pickup_hour'] < 12)].shape[0])\n",
            "NameError: name 'whole_df' is not defined\n",
            "\n",
            "During handling of the above exception, another exception occurred:\n",
            "\n",
            "Traceback (most recent call last):\n",
            "  File \"/mnt/d/kurone/UNIST/5thSemester/Deep_Learning/venv/lib/python3.8/site-packages/IPython/core/interactiveshell.py\", line 2052, in showtraceback\n",
            "    stb = self.InteractiveTB.structured_traceback(\n",
            "  File \"/mnt/d/kurone/UNIST/5thSemester/Deep_Learning/venv/lib/python3.8/site-packages/IPython/core/ultratb.py\", line 1112, in structured_traceback\n",
            "    return FormattedTB.structured_traceback(\n",
            "  File \"/mnt/d/kurone/UNIST/5thSemester/Deep_Learning/venv/lib/python3.8/site-packages/IPython/core/ultratb.py\", line 1006, in structured_traceback\n",
            "    return VerboseTB.structured_traceback(\n",
            "  File \"/mnt/d/kurone/UNIST/5thSemester/Deep_Learning/venv/lib/python3.8/site-packages/IPython/core/ultratb.py\", line 859, in structured_traceback\n",
            "    formatted_exception = self.format_exception_as_a_whole(etype, evalue, etb, number_of_lines_of_context,\n",
            "  File \"/mnt/d/kurone/UNIST/5thSemester/Deep_Learning/venv/lib/python3.8/site-packages/IPython/core/ultratb.py\", line 812, in format_exception_as_a_whole\n",
            "    frames.append(self.format_record(r))\n",
            "  File \"/mnt/d/kurone/UNIST/5thSemester/Deep_Learning/venv/lib/python3.8/site-packages/IPython/core/ultratb.py\", line 730, in format_record\n",
            "    result += ''.join(_format_traceback_lines(frame_info.lines, Colors, self.has_colors, lvals))\n",
            "  File \"/mnt/d/kurone/UNIST/5thSemester/Deep_Learning/venv/lib/python3.8/site-packages/stack_data/utils.py\", line 144, in cached_property_wrapper\n",
            "    value = obj.__dict__[self.func.__name__] = self.func(obj)\n",
            "  File \"/mnt/d/kurone/UNIST/5thSemester/Deep_Learning/venv/lib/python3.8/site-packages/stack_data/core.py\", line 720, in lines\n",
            "    pieces = self.included_pieces\n",
            "  File \"/mnt/d/kurone/UNIST/5thSemester/Deep_Learning/venv/lib/python3.8/site-packages/stack_data/utils.py\", line 144, in cached_property_wrapper\n",
            "    value = obj.__dict__[self.func.__name__] = self.func(obj)\n",
            "  File \"/mnt/d/kurone/UNIST/5thSemester/Deep_Learning/venv/lib/python3.8/site-packages/stack_data/core.py\", line 663, in included_pieces\n",
            "    scope_pieces = self.scope_pieces\n",
            "  File \"/mnt/d/kurone/UNIST/5thSemester/Deep_Learning/venv/lib/python3.8/site-packages/stack_data/utils.py\", line 144, in cached_property_wrapper\n",
            "    value = obj.__dict__[self.func.__name__] = self.func(obj)\n",
            "  File \"/mnt/d/kurone/UNIST/5thSemester/Deep_Learning/venv/lib/python3.8/site-packages/stack_data/core.py\", line 600, in scope_pieces\n",
            "    scope_start, scope_end = self.source.line_range(self.scope)\n",
            "  File \"/mnt/d/kurone/UNIST/5thSemester/Deep_Learning/venv/lib/python3.8/site-packages/stack_data/core.py\", line 164, in line_range\n",
            "    return line_range(self.asttext(), node)\n",
            "AttributeError: 'Source' object has no attribute 'asttext'\n"
          ]
        }
      ],
      "source": [
        "# Pickups per days\n",
        "\n",
        "\n",
        "morning_pickup = []\n",
        "afternoon_pickup = []\n",
        "evening_pickup = []\n",
        "midnight_pickup = []\n",
        "for i in range(0,7):\n",
        "    morning_pickup.append(whole_df[(whole_df['DayofWeek'] == i) & (whole_df['pickup_hour'] >= 6) & (whole_df['pickup_hour'] < 12)].shape[0])\n",
        "    afternoon_pickup.append(whole_df[(whole_df['DayofWeek'] == i) & (whole_df['pickup_hour'] >= 12) & (whole_df['pickup_hour'] < 18)].shape[0])\n",
        "    evening_pickup.append(whole_df[(whole_df['DayofWeek'] == i) & (whole_df['pickup_hour'] >= 18) & (whole_df['pickup_hour'] <= 23)].shape[0])\n",
        "    midnight_pickup.append(whole_df[(whole_df['DayofWeek'] == i) & (whole_df['pickup_hour'] >= 0) & (whole_df['pickup_hour'] < 6)].shape[0])\n",
        "\n",
        "pickup_per_day = pd. DataFrame({'morning':morning_pickup, 'afternoon':afternoon_pickup, 'evening':evening_pickup, 'midnight':midnight_pickup })\n",
        "pickup_per_day.plot(kind='bar', stacked=True,figsize=(4.5, 4.5))\n",
        "plt.xlabel('Days of the week')\n",
        "plt.ylabel('Number of pickups')\n",
        "plt.tick_params(axis='both', which='minor')\n",
        "plt.plot()"
      ]
    },
    {
      "cell_type": "code",
      "execution_count": null,
      "metadata": {
        "id": "bp9dTKPNvCyB"
      },
      "outputs": [
        {
          "name": "stdout",
          "output_type": "stream",
          "text": [
            "Unexpected exception formatting exception. Falling back to standard exception\n"
          ]
        },
        {
          "name": "stderr",
          "output_type": "stream",
          "text": [
            "Traceback (most recent call last):\n",
            "  File \"/mnt/d/kurone/UNIST/5thSemester/Deep_Learning/venv/lib/python3.8/site-packages/IPython/core/interactiveshell.py\", line 3433, in run_code\n",
            "    exec(code_obj, self.user_global_ns, self.user_ns)\n",
            "  File \"/tmp/ipykernel_1363/281236983.py\", line 6, in <module>\n",
            "    temp.append(whole_df[(whole_df['DayofWeek'] == i) & (whole_df['pickup_hour'] == j)].shape[0])\n",
            "NameError: name 'whole_df' is not defined\n",
            "\n",
            "During handling of the above exception, another exception occurred:\n",
            "\n",
            "Traceback (most recent call last):\n",
            "  File \"/mnt/d/kurone/UNIST/5thSemester/Deep_Learning/venv/lib/python3.8/site-packages/IPython/core/interactiveshell.py\", line 2052, in showtraceback\n",
            "    stb = self.InteractiveTB.structured_traceback(\n",
            "  File \"/mnt/d/kurone/UNIST/5thSemester/Deep_Learning/venv/lib/python3.8/site-packages/IPython/core/ultratb.py\", line 1112, in structured_traceback\n",
            "    return FormattedTB.structured_traceback(\n",
            "  File \"/mnt/d/kurone/UNIST/5thSemester/Deep_Learning/venv/lib/python3.8/site-packages/IPython/core/ultratb.py\", line 1006, in structured_traceback\n",
            "    return VerboseTB.structured_traceback(\n",
            "  File \"/mnt/d/kurone/UNIST/5thSemester/Deep_Learning/venv/lib/python3.8/site-packages/IPython/core/ultratb.py\", line 859, in structured_traceback\n",
            "    formatted_exception = self.format_exception_as_a_whole(etype, evalue, etb, number_of_lines_of_context,\n",
            "  File \"/mnt/d/kurone/UNIST/5thSemester/Deep_Learning/venv/lib/python3.8/site-packages/IPython/core/ultratb.py\", line 812, in format_exception_as_a_whole\n",
            "    frames.append(self.format_record(r))\n",
            "  File \"/mnt/d/kurone/UNIST/5thSemester/Deep_Learning/venv/lib/python3.8/site-packages/IPython/core/ultratb.py\", line 730, in format_record\n",
            "    result += ''.join(_format_traceback_lines(frame_info.lines, Colors, self.has_colors, lvals))\n",
            "  File \"/mnt/d/kurone/UNIST/5thSemester/Deep_Learning/venv/lib/python3.8/site-packages/stack_data/utils.py\", line 144, in cached_property_wrapper\n",
            "    value = obj.__dict__[self.func.__name__] = self.func(obj)\n",
            "  File \"/mnt/d/kurone/UNIST/5thSemester/Deep_Learning/venv/lib/python3.8/site-packages/stack_data/core.py\", line 720, in lines\n",
            "    pieces = self.included_pieces\n",
            "  File \"/mnt/d/kurone/UNIST/5thSemester/Deep_Learning/venv/lib/python3.8/site-packages/stack_data/utils.py\", line 144, in cached_property_wrapper\n",
            "    value = obj.__dict__[self.func.__name__] = self.func(obj)\n",
            "  File \"/mnt/d/kurone/UNIST/5thSemester/Deep_Learning/venv/lib/python3.8/site-packages/stack_data/core.py\", line 663, in included_pieces\n",
            "    scope_pieces = self.scope_pieces\n",
            "  File \"/mnt/d/kurone/UNIST/5thSemester/Deep_Learning/venv/lib/python3.8/site-packages/stack_data/utils.py\", line 144, in cached_property_wrapper\n",
            "    value = obj.__dict__[self.func.__name__] = self.func(obj)\n",
            "  File \"/mnt/d/kurone/UNIST/5thSemester/Deep_Learning/venv/lib/python3.8/site-packages/stack_data/core.py\", line 600, in scope_pieces\n",
            "    scope_start, scope_end = self.source.line_range(self.scope)\n",
            "  File \"/mnt/d/kurone/UNIST/5thSemester/Deep_Learning/venv/lib/python3.8/site-packages/stack_data/core.py\", line 164, in line_range\n",
            "    return line_range(self.asttext(), node)\n",
            "AttributeError: 'Source' object has no attribute 'asttext'\n"
          ]
        }
      ],
      "source": [
        "# pickup_in_day\n",
        "hour_pickups = []\n",
        "temp = []\n",
        "for i in range(0,7):\n",
        "    for j in range(0,24):\n",
        "        temp.append(whole_df[(whole_df['DayofWeek'] == i) & (whole_df['pickup_hour'] == j)].shape[0])\n",
        "    hour_pickups.append(temp)\n",
        "    temp = []\n",
        "colors = ['xkcd:blue','xkcd:orange','xkcd:brown','xkcd:coral','xkcd:magenta','xkcd:green','xkcd:fuchsia']\n",
        "days = ['Monday','Tuesday','Wednesday','Thursday','Friday','Saturday','Sunday']\n",
        "\n",
        "plt.figure(figsize=(8,4))\n",
        "hours_lis = [s for s in range(0,24)]\n",
        "for k in range(0,7):\n",
        "    plt.plot(hours_lis,hour_pickups[k],colors[k],label = days[k])\n",
        "    plt.plot(hours_lis,hour_pickups[k], 'ro',  markersize=2)\n",
        "\n",
        "plt.xticks([s for s in range(0,24)])\n",
        "plt.xlabel('Hours of a day')\n",
        "plt.ylabel('Number of pickups')\n",
        "plt.title('Pickups for every hour')\n",
        "plt.legend()\n",
        "plt.grid(True)\n",
        "plt.show()\n",
        "\n",
        "hour_pickup_month = []\n",
        "for j in range(0,24):\n",
        "    hour_pickup_month.append(whole_df[whole_df['pickup_hour'] == j].shape[0])\n",
        "\n",
        "plt.figure(figsize=(8,4))\n",
        "hours_lis = [s for s in range(0,24)]\n",
        "plt.plot(hours_lis,hour_pickup_month,'xkcd:magenta',label = 'average pickups per hour')\n",
        "plt.plot(hours_lis,hour_pickup_month, 'ro',  markersize=2)\n",
        "\n",
        "plt.xticks([s for s in range(0,24)])\n",
        "plt.xlabel('Hours of a day')\n",
        "plt.ylabel('Number of pickups')\n",
        "plt.title('Pickups for every hour for whole of month')\n",
        "plt.legend()\n",
        "plt.grid(True)\n",
        "plt.show()"
      ]
    },
    {
      "cell_type": "code",
      "execution_count": null,
      "metadata": {
        "id": "K8n5XsNWxbKf"
      },
      "outputs": [
        {
          "name": "stdout",
          "output_type": "stream",
          "text": [
            "Unexpected exception formatting exception. Falling back to standard exception\n"
          ]
        },
        {
          "name": "stderr",
          "output_type": "stream",
          "text": [
            "Traceback (most recent call last):\n",
            "  File \"/mnt/d/kurone/UNIST/5thSemester/Deep_Learning/venv/lib/python3.8/site-packages/IPython/core/interactiveshell.py\", line 3433, in run_code\n",
            "    exec(code_obj, self.user_global_ns, self.user_ns)\n",
            "  File \"/tmp/ipykernel_1363/719329431.py\", line 1, in <module>\n",
            "    create_report(whole_df)\n",
            "NameError: name 'whole_df' is not defined\n",
            "\n",
            "During handling of the above exception, another exception occurred:\n",
            "\n",
            "Traceback (most recent call last):\n",
            "  File \"/mnt/d/kurone/UNIST/5thSemester/Deep_Learning/venv/lib/python3.8/site-packages/IPython/core/interactiveshell.py\", line 2052, in showtraceback\n",
            "    stb = self.InteractiveTB.structured_traceback(\n",
            "  File \"/mnt/d/kurone/UNIST/5thSemester/Deep_Learning/venv/lib/python3.8/site-packages/IPython/core/ultratb.py\", line 1112, in structured_traceback\n",
            "    return FormattedTB.structured_traceback(\n",
            "  File \"/mnt/d/kurone/UNIST/5thSemester/Deep_Learning/venv/lib/python3.8/site-packages/IPython/core/ultratb.py\", line 1006, in structured_traceback\n",
            "    return VerboseTB.structured_traceback(\n",
            "  File \"/mnt/d/kurone/UNIST/5thSemester/Deep_Learning/venv/lib/python3.8/site-packages/IPython/core/ultratb.py\", line 859, in structured_traceback\n",
            "    formatted_exception = self.format_exception_as_a_whole(etype, evalue, etb, number_of_lines_of_context,\n",
            "  File \"/mnt/d/kurone/UNIST/5thSemester/Deep_Learning/venv/lib/python3.8/site-packages/IPython/core/ultratb.py\", line 812, in format_exception_as_a_whole\n",
            "    frames.append(self.format_record(r))\n",
            "  File \"/mnt/d/kurone/UNIST/5thSemester/Deep_Learning/venv/lib/python3.8/site-packages/IPython/core/ultratb.py\", line 730, in format_record\n",
            "    result += ''.join(_format_traceback_lines(frame_info.lines, Colors, self.has_colors, lvals))\n",
            "  File \"/mnt/d/kurone/UNIST/5thSemester/Deep_Learning/venv/lib/python3.8/site-packages/stack_data/utils.py\", line 144, in cached_property_wrapper\n",
            "    value = obj.__dict__[self.func.__name__] = self.func(obj)\n",
            "  File \"/mnt/d/kurone/UNIST/5thSemester/Deep_Learning/venv/lib/python3.8/site-packages/stack_data/core.py\", line 720, in lines\n",
            "    pieces = self.included_pieces\n",
            "  File \"/mnt/d/kurone/UNIST/5thSemester/Deep_Learning/venv/lib/python3.8/site-packages/stack_data/utils.py\", line 144, in cached_property_wrapper\n",
            "    value = obj.__dict__[self.func.__name__] = self.func(obj)\n",
            "  File \"/mnt/d/kurone/UNIST/5thSemester/Deep_Learning/venv/lib/python3.8/site-packages/stack_data/core.py\", line 663, in included_pieces\n",
            "    scope_pieces = self.scope_pieces\n",
            "  File \"/mnt/d/kurone/UNIST/5thSemester/Deep_Learning/venv/lib/python3.8/site-packages/stack_data/utils.py\", line 144, in cached_property_wrapper\n",
            "    value = obj.__dict__[self.func.__name__] = self.func(obj)\n",
            "  File \"/mnt/d/kurone/UNIST/5thSemester/Deep_Learning/venv/lib/python3.8/site-packages/stack_data/core.py\", line 600, in scope_pieces\n",
            "    scope_start, scope_end = self.source.line_range(self.scope)\n",
            "  File \"/mnt/d/kurone/UNIST/5thSemester/Deep_Learning/venv/lib/python3.8/site-packages/stack_data/core.py\", line 164, in line_range\n",
            "    return line_range(self.asttext(), node)\n",
            "AttributeError: 'Source' object has no attribute 'asttext'\n"
          ]
        }
      ],
      "source": [
        "create_report(whole_df)\n"
      ]
    }
  ],
  "metadata": {
    "colab": {
      "provenance": []
    },
    "kernelspec": {
      "display_name": "Python 3.8.10 ('venv': venv)",
      "language": "python",
      "name": "python3"
    },
    "language_info": {
      "codemirror_mode": {
        "name": "ipython",
        "version": 3
      },
      "file_extension": ".py",
      "mimetype": "text/x-python",
      "name": "python",
      "nbconvert_exporter": "python",
      "pygments_lexer": "ipython3",
      "version": "3.8.10"
    },
    "vscode": {
      "interpreter": {
        "hash": "d128e52a8e64f608db791f0d530f9efcf0d0211b6f048e5c815bd48c50eda752"
      }
    }
  },
  "nbformat": 4,
  "nbformat_minor": 0
}
